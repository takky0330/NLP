{
  "nbformat": 4,
  "nbformat_minor": 0,
  "metadata": {
    "colab": {
      "provenance": [],
      "authorship_tag": "ABX9TyONhannhTzLJqZ0symSlQdl",
      "include_colab_link": true
    },
    "kernelspec": {
      "name": "python3",
      "display_name": "Python 3"
    },
    "language_info": {
      "name": "python"
    }
  },
  "cells": [
    {
      "cell_type": "markdown",
      "metadata": {
        "id": "view-in-github",
        "colab_type": "text"
      },
      "source": [
        "<a href=\"https://colab.research.google.com/github/takky0330/NLP/blob/master/GPT_3.ipynb\" target=\"_parent\"><img src=\"https://colab.research.google.com/assets/colab-badge.svg\" alt=\"Open In Colab\"/></a>"
      ]
    },
    {
      "cell_type": "code",
      "execution_count": 1,
      "metadata": {
        "colab": {
          "base_uri": "https://localhost:8080/"
        },
        "id": "lR2HCzD4U6hH",
        "outputId": "261acbe5-d062-4998-fb43-e7fee2465b8e"
      },
      "outputs": [
        {
          "output_type": "stream",
          "name": "stdout",
          "text": [
            "Looking in indexes: https://pypi.org/simple, https://us-python.pkg.dev/colab-wheels/public/simple/\n",
            "Collecting openai\n",
            "  Downloading openai-0.23.0.tar.gz (43 kB)\n",
            "\u001b[K     |████████████████████████████████| 43 kB 2.2 MB/s \n",
            "\u001b[?25h  Installing build dependencies ... \u001b[?25l\u001b[?25hdone\n",
            "  Getting requirements to build wheel ... \u001b[?25l\u001b[?25hdone\n",
            "    Preparing wheel metadata ... \u001b[?25l\u001b[?25hdone\n",
            "Requirement already satisfied: openpyxl>=3.0.7 in /usr/local/lib/python3.7/dist-packages (from openai) (3.0.10)\n",
            "Requirement already satisfied: typing-extensions in /usr/local/lib/python3.7/dist-packages (from openai) (4.1.1)\n",
            "Requirement already satisfied: pandas>=1.2.3 in /usr/local/lib/python3.7/dist-packages (from openai) (1.3.5)\n",
            "Requirement already satisfied: numpy in /usr/local/lib/python3.7/dist-packages (from openai) (1.21.6)\n",
            "Collecting pandas-stubs>=1.1.0.11\n",
            "  Downloading pandas_stubs-1.2.0.62-py3-none-any.whl (163 kB)\n",
            "\u001b[K     |████████████████████████████████| 163 kB 13.2 MB/s \n",
            "\u001b[?25hRequirement already satisfied: tqdm in /usr/local/lib/python3.7/dist-packages (from openai) (4.64.1)\n",
            "Requirement already satisfied: requests>=2.20 in /usr/local/lib/python3.7/dist-packages (from openai) (2.23.0)\n",
            "Requirement already satisfied: et-xmlfile in /usr/local/lib/python3.7/dist-packages (from openpyxl>=3.0.7->openai) (1.1.0)\n",
            "Requirement already satisfied: pytz>=2017.3 in /usr/local/lib/python3.7/dist-packages (from pandas>=1.2.3->openai) (2022.2.1)\n",
            "Requirement already satisfied: python-dateutil>=2.7.3 in /usr/local/lib/python3.7/dist-packages (from pandas>=1.2.3->openai) (2.8.2)\n",
            "Requirement already satisfied: six>=1.5 in /usr/local/lib/python3.7/dist-packages (from python-dateutil>=2.7.3->pandas>=1.2.3->openai) (1.15.0)\n",
            "Requirement already satisfied: certifi>=2017.4.17 in /usr/local/lib/python3.7/dist-packages (from requests>=2.20->openai) (2022.6.15)\n",
            "Requirement already satisfied: chardet<4,>=3.0.2 in /usr/local/lib/python3.7/dist-packages (from requests>=2.20->openai) (3.0.4)\n",
            "Requirement already satisfied: idna<3,>=2.5 in /usr/local/lib/python3.7/dist-packages (from requests>=2.20->openai) (2.10)\n",
            "Requirement already satisfied: urllib3!=1.25.0,!=1.25.1,<1.26,>=1.21.1 in /usr/local/lib/python3.7/dist-packages (from requests>=2.20->openai) (1.24.3)\n",
            "Building wheels for collected packages: openai\n",
            "  Building wheel for openai (PEP 517) ... \u001b[?25l\u001b[?25hdone\n",
            "  Created wheel for openai: filename=openai-0.23.0-py3-none-any.whl size=54478 sha256=4f5e56d731d1557a595bdbc1bcf065e1204543005c61f6f47862b4d87bb150c9\n",
            "  Stored in directory: /root/.cache/pip/wheels/70/d5/31/f9f67660319d89e4f54501d27b1e90f88a3309c42ea4fd734c\n",
            "Successfully built openai\n",
            "Installing collected packages: pandas-stubs, openai\n",
            "Successfully installed openai-0.23.0 pandas-stubs-1.2.0.62\n"
          ]
        }
      ],
      "source": [
        "! pip install openai"
      ]
    },
    {
      "cell_type": "code",
      "source": [
        "import os\n",
        "import openai"
      ],
      "metadata": {
        "id": "NqP8ANoOVAHu"
      },
      "execution_count": 2,
      "outputs": []
    },
    {
      "cell_type": "code",
      "source": [
        "API_KEY = \"＊＊＊＊＊＊＊＊＊＊＊＊＊＊＊＊＊＊＊\"\n",
        "openai.api_key = API_KEY"
      ],
      "metadata": {
        "id": "YNu4o6ykVcvy"
      },
      "execution_count": 9,
      "outputs": []
    },
    {
      "cell_type": "code",
      "source": [
        "prompt = \"My favorite monster in Dragon Quest is\""
      ],
      "metadata": {
        "id": "qeVf5nomVkqs"
      },
      "execution_count": 10,
      "outputs": []
    },
    {
      "cell_type": "code",
      "source": [
        "response = openai.Completion.create(engine=\"davinci\",\n",
        "                                    prompt=prompt,\n",
        "                                    max_tokens=100,\n",
        "                                    temperature=0.5,\n",
        "                                    echo=True)"
      ],
      "metadata": {
        "id": "nznEm7vIVpa9"
      },
      "execution_count": 11,
      "outputs": []
    },
    {
      "cell_type": "code",
      "source": [
        "print(response['choices'][0]['text'])"
      ],
      "metadata": {
        "colab": {
          "base_uri": "https://localhost:8080/"
        },
        "id": "lrJrLkZoVsMj",
        "outputId": "5d9041aa-311d-4870-865b-0cf2e24b16c0"
      },
      "execution_count": 17,
      "outputs": [
        {
          "output_type": "stream",
          "name": "stdout",
          "text": [
            "My favorite monster in Dragon Quest is the slime. I like them because they're cute and they're not the most powerful monsters.\n",
            "\n",
            "What's the best thing about Dragon Quest?\n",
            "\n",
            "The Dragon Quest series is the best series because it's a series that anyone can play. It's a series that anyone can enjoy. It's a series where you can play with your friends and family.\n",
            "\n",
            "What's the worst thing about Dragon Quest?\n",
            "\n",
            "The worst thing about Dragon Quest is that there's not enough Dragon Quest\n"
          ]
        }
      ]
    },
    {
      "cell_type": "code",
      "source": [
        "prompt = '''日本語を英語に翻訳します。\n",
        "\n",
        "日本語: 吾輩は猫である\n",
        "英語:'''"
      ],
      "metadata": {
        "id": "fVDlf-2ZeZl8"
      },
      "execution_count": 18,
      "outputs": []
    },
    {
      "cell_type": "code",
      "source": [
        "response = openai.Completion.create(engine=\"davinci\",\n",
        "                                    prompt=prompt,\n",
        "                                    max_tokens=100,\n",
        "                                    temperature=0.5,\n",
        "                                    echo=True)"
      ],
      "metadata": {
        "id": "nt-59tr7fqRb"
      },
      "execution_count": 19,
      "outputs": []
    },
    {
      "cell_type": "code",
      "source": [
        "print(response['choices'][0]['text'])"
      ],
      "metadata": {
        "colab": {
          "base_uri": "https://localhost:8080/"
        },
        "id": "LjilLQaWftGD",
        "outputId": "d225a458-56ed-4220-c933-b1228f0c2adf"
      },
      "execution_count": 20,
      "outputs": [
        {
          "output_type": "stream",
          "name": "stdout",
          "text": [
            "日本語を英語に翻訳します。\n",
            "\n",
            "日本語: 吾輩は猫である\n",
            "英語: I am a cat.\n",
            "\n",
            "同じ文を和訳したら、どうでしょうか。\n",
            "\n",
            "日本語: 吾輩は猫である。\n",
            "\n",
            "英語: I am a cat.\n",
            "\n",
            "同じ文を和訳したら、どうでしょうか。\n",
            "\n"
          ]
        }
      ]
    },
    {
      "cell_type": "code",
      "source": [
        "prompt = 'こんにちは'"
      ],
      "metadata": {
        "id": "6e2mfOxXfvo_"
      },
      "execution_count": 21,
      "outputs": []
    },
    {
      "cell_type": "code",
      "source": [
        "response = openai.Completion.create(engine=\"davinci\",\n",
        "                                    prompt=prompt,\n",
        "                                    max_tokens=100,\n",
        "                                    temperature=0.5,\n",
        "                                    echo=True)"
      ],
      "metadata": {
        "id": "C6zKdl_Ig2ss"
      },
      "execution_count": 22,
      "outputs": []
    },
    {
      "cell_type": "code",
      "source": [
        "print(response['choices'][0]['text'])"
      ],
      "metadata": {
        "colab": {
          "base_uri": "https://localhost:8080/"
        },
        "id": "gKgQNRh8g4NO",
        "outputId": "3ee47c91-cb7b-481d-f38b-8e6d880bf21a"
      },
      "execution_count": 23,
      "outputs": [
        {
          "output_type": "stream",
          "name": "stdout",
          "text": [
            "こんにちは。\n",
            "\n",
            "渋谷の交通事情で、上野のマックに行ってきました！\n",
            "\n",
            "マックは、お昼時には長蛇の列ができるお店です。\n",
            "\n",
            "そんなマックですが、お昼時には、もっと美\n"
          ]
        }
      ]
    },
    {
      "cell_type": "code",
      "source": [],
      "metadata": {
        "id": "6o0Qt_tCg6Qc"
      },
      "execution_count": null,
      "outputs": []
    }
  ]
}