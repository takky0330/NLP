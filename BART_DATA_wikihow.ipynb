{
  "nbformat": 4,
  "nbformat_minor": 0,
  "metadata": {
    "colab": {
      "name": "BART_DATA_wikihow",
      "provenance": [],
      "authorship_tag": "ABX9TyNObNc4u2LtpboiKhxocveq",
      "include_colab_link": true
    },
    "kernelspec": {
      "name": "python3",
      "display_name": "Python 3"
    },
    "language_info": {
      "name": "python"
    }
  },
  "cells": [
    {
      "cell_type": "markdown",
      "metadata": {
        "id": "view-in-github",
        "colab_type": "text"
      },
      "source": [
        "<a href=\"https://colab.research.google.com/github/takky0330/NLP/blob/master/BART_DATA_wikihow.ipynb\" target=\"_parent\"><img src=\"https://colab.research.google.com/assets/colab-badge.svg\" alt=\"Open In Colab\"/></a>"
      ]
    },
    {
      "cell_type": "markdown",
      "source": [
        "①wikihow_japaneseを利用した文章要約データセットの取得"
      ],
      "metadata": {
        "id": "LVuidccNjBq3"
      }
    },
    {
      "cell_type": "code",
      "execution_count": 1,
      "metadata": {
        "colab": {
          "base_uri": "https://localhost:8080/"
        },
        "id": "ruj7T-Pjh05P",
        "outputId": "33865c87-57ff-4a17-f82f-3380d6deeb10"
      },
      "outputs": [
        {
          "output_type": "stream",
          "name": "stdout",
          "text": [
            "Cloning into 'wikihow_japanese'...\n",
            "remote: Enumerating objects: 59, done.\u001b[K\n",
            "remote: Counting objects: 100% (59/59), done.\u001b[K\n",
            "remote: Compressing objects: 100% (47/47), done.\u001b[K\n",
            "remote: Total 59 (delta 17), reused 50 (delta 10), pack-reused 0\u001b[K\n",
            "Unpacking objects: 100% (59/59), done.\n"
          ]
        }
      ],
      "source": [
        "### wikihow_japaneseリポジトリをクローン\n",
        "\n",
        "!git clone https://github.com/Katsumata420/wikihow_japanese.git"
      ]
    },
    {
      "cell_type": "code",
      "source": [
        "### 記事をクローリングしてhtmlファイルを取得\n",
        "\n",
        "# htmlフォルダを作成\n",
        "%cd /content/wikihow_japanese/\n",
        "!mkdir -p data/html\n",
        "# クローリング実行\n",
        "!bash crawl_article.sh"
      ],
      "metadata": {
        "colab": {
          "base_uri": "https://localhost:8080/"
        },
        "id": "3qjVeu_HiB0N",
        "outputId": "072838b2-e267-47d5-8a4c-460e70642e33"
      },
      "execution_count": null,
      "outputs": [
        {
          "output_type": "stream",
          "name": "stdout",
          "text": [
            "/content/wikihow_japanese\n",
            "data/urls/アート・エンタメ.html\n",
            "data/urls/ビジネス・ファイナンス.html\n",
            "data/urls/健康.html\n"
          ]
        }
      ]
    },
    {
      "cell_type": "code",
      "source": [
        "### 取得したhtmlファイルから文章を抽出する\n",
        "\n",
        "# jsonフォルダを作成\n",
        "%cd /content/wikihow_japanese/\n",
        "!mkdir -p data/json\n",
        "# スクレイピング実行\n",
        "!bash scrape2jsonl.sh"
      ],
      "metadata": {
        "id": "DES8X70HiaE1"
      },
      "execution_count": null,
      "outputs": []
    },
    {
      "cell_type": "code",
      "source": [
        "### 抽出した文章データをtrain, dev, testの３つに分割する\n",
        "\n",
        "# outputフォルダを作成\n",
        "%cd /content/wikihow_japanese/\n",
        "!mkdir -p data/output\n",
        "# データ分割実行\n",
        "!python script/make_data.py data/json data/output data/divided_data.tsv"
      ],
      "metadata": {
        "id": "4YDNV_xZiy59"
      },
      "execution_count": null,
      "outputs": []
    },
    {
      "cell_type": "markdown",
      "source": [
        "②スクレイピングによる文章要約データセットの取得方法"
      ],
      "metadata": {
        "id": "mbhpOYi7jHiX"
      }
    },
    {
      "cell_type": "code",
      "source": [
        "### メインページから19のカテゴリのURLを取得\n",
        "\n",
        "import requests\n",
        "from bs4 import BeautifulSoup\n",
        "import pandas as pd\n",
        "\n",
        "# wikiHow メインページ\n",
        "main_url = \"https://www.wikihow.jp/%E3%83%A1%E3%82%A4%E3%83%B3%E3%83%9A%E3%83%BC%E3%82%B8\"\n",
        "r = requests.get(main_url)\n",
        "soup = BeautifulSoup(r.content, \"html.parser\")\n",
        "\n",
        "# カテゴリのリスト表示部分の情報を取得する\n",
        "html_li = soup.find_all(\"li\", attrs={\"class\": \"cat_icon\"})\n",
        "\n",
        "# 条件を指定してその部分だけ情報を取得する\n",
        "category_title = [li.find(\"span\").text for li in html_li]\n",
        "base_url = \"https://www.wikihow.jp\"\n",
        "urls = [base_url + li.find(\"a\")[\"href\"] for li in html_li]\n",
        "\n",
        "# 出力用のDataFrameを作成\n",
        "df = pd.DataFrame(\n",
        "  list(zip(urls, category_title)),\n",
        "  columns = [\"url\", \"category_title\"]\n",
        ")\n",
        "\n",
        "# 出力\n",
        "df.to_csv(\"wikihow_category_urls.csv\", mode=\"w\", encoding=\"utf-8\")"
      ],
      "metadata": {
        "id": "VZR0QHoWjJCd"
      },
      "execution_count": null,
      "outputs": []
    },
    {
      "cell_type": "code",
      "source": [
        "### カテゴリページからカテゴリ内のすべての記事のURを重複がないようにスクレイピング\n",
        "\n",
        "import time\n",
        "%cd /content\n",
        "category_df = pd.read_csv(\"wikihow_category_urls.csv\")\n",
        "!mkdir urls\n",
        "%cd urls\n",
        "\n",
        "for url in category_df[\"url\"]:\n",
        "    try:\n",
        "        name = category_df[\"category_title\"][category_df['url'] == url].iloc[-1]\n",
        "        time.sleep(3)\n",
        "        r = requests.get(url)\n",
        "        soup = BeautifulSoup(r.content, \"html.parser\")\n",
        "\n",
        "        # カテゴリページの記事一覧部分の情報を取得する\n",
        "        html_li = soup.find_all(\"div\", attrs={\"class\": \"responsive_thumb\"})\n",
        "\n",
        "        # 条件を指定してその部分だけ情報を取得する\n",
        "        how_title = [li.find(\"p\").text for li in html_li]\n",
        "        base_url = \"https://www.wikihow.jp\"\n",
        "        urls = [li.find(\"a\")[\"href\"] for li in html_li]\n",
        "\n",
        "        # 出力用のDataFrameを作成\n",
        "        df = pd.DataFrame(\n",
        "          list(zip(urls, how_title)),\n",
        "          columns = [\"url\", \"how_title\"]\n",
        "        )\n",
        "\n",
        "        # 重複する記事を削除\n",
        "        df.drop_duplicates(subset='how_title', keep='last', inplace=True)\n",
        "        df = df.reset_index(drop=True)\n",
        "\n",
        "        # 出力\n",
        "        df.to_csv(\"wikihow_{}_urls.csv\".format(name), mode=\"w\", encoding=\"utf-8\")\n",
        "\n",
        "    except:\n",
        "        print(\"error:\" + url)"
      ],
      "metadata": {
        "id": "ff3ovDGQjWa-"
      },
      "execution_count": null,
      "outputs": []
    },
    {
      "cell_type": "code",
      "source": [
        "### 各記事の本文と要約文を取得\n",
        "\n",
        "%cd /content\n",
        "!mkdir wikihow_data\n",
        "\n",
        "# 文字だけ取得する関数 https://qiita.com/poorko/items/9140c75415d748633a10 参照\n",
        "def get_text(input_html):\n",
        "  for script in input_html([\"script\", \"style\"]):\n",
        "    script.decompose()\n",
        "  text=input_html.get_text()\n",
        "  lines=[]\n",
        "  for line in text.splitlines():\n",
        "    if line and line != \"広告\" and \"smallUrl\" not in line and len(line) != 1:\n",
        "      lines.append(line.strip())\n",
        "  text=\"\\n\".join(line for line in lines)\n",
        "  return text\n",
        "\n",
        "category_df = pd.read_csv(\"wikihow_category_urls.csv\")\n",
        "for category_name in category_df[\"category_title\"]:\n",
        "    # 念の為、カテゴリごとに5秒待つ\n",
        "    time.sleep(5)\n",
        "    how_to_url_df = pd.read_csv(\"urls/wikihow_{}_urls.csv\".format(category_name))\n",
        "    # カテゴリごとに初期化\n",
        "    how_tgt = []\n",
        "    how_src = []\n",
        "    wiki_title = []\n",
        "    method_title = []\n",
        "    method_num = []\n",
        "    step_num = []\n",
        "    for url in how_to_url_df[\"url\"]:\n",
        "      try:\n",
        "        # サーバーに負荷をかけないために2秒おきに実施する\n",
        "        time.sleep(2)\n",
        "        r = requests.get(url)\n",
        "        soup = BeautifulSoup(r.content, \"html.parser\")\n",
        "        # 記事のタイトルを取得\n",
        "        how_title = soup.find(\"h1\", attrs={\"id\": \"section_0\"}).find(\"a\").text\n",
        "        # 記事の「方法」部分の情報を取得する\n",
        "        html_methods = soup.find_all(\"div\", attrs={\"class\": \"steps\"})\n",
        "        # 条件を指定してその部分だけ情報を取得する\n",
        "        for html_method in html_methods:\n",
        "          if(len(html_methods) > 1):\n",
        "            method_number = html_method.find(\"div\", attrs={\"class\": \"altblock\"}).find(\"span\").text\n",
        "            mdehod_title = html_method.find(\"div\", attrs={\"class\": \"altblock\"}).next_sibling.next_sibling[\"id\"]\n",
        "          else:\n",
        "            # 記事に「方法」が一つしかないとき、スクレイピングが失敗するため以下のようにする。\n",
        "            method_number = 1\n",
        "            mdehod_title = how_title\n",
        "\n",
        "          html_steps = html_method.find_all('li', id=lambda value: value and value.startswith('step-id'))\n",
        "          step_number= 0\n",
        "          for step in html_steps:\n",
        "            step_number+= 1\n",
        "            src = get_text(step)\n",
        "            tgt = step.find(\"b\", attrs={\"class\": \"whb\"}).text\n",
        "            how_tgt.append(tgt)\n",
        "            how_src.append(src)\n",
        "            wiki_title.append(how_title)\n",
        "            method_title.append(mdehod_title)\n",
        "            method_num.append(method_number)\n",
        "            step_num.append(step_number)\n",
        "      except:\n",
        "        print(\"error：\" + url)\n",
        "\n",
        "    # 出力用のDataFrameを作成\n",
        "    df = pd.DataFrame(\n",
        "      list(zip(how_tgt, how_src, wiki_title, method_title, method_num, step_num)),\n",
        "      columns = [\"tgt\", \"src\", \"wiki_title\", \"method_title\", \"method_num\", \"step_num\"]\n",
        "    )\n",
        "    \n",
        "    # カテゴリごとに出力\n",
        "    df.to_csv(\"wikihow_data/wikihow_{}_datasets.csv\".format(category_name), mode=\"w\", encoding=\"utf-8\")"
      ],
      "metadata": {
        "id": "WQdO1PiGjjGr"
      },
      "execution_count": null,
      "outputs": []
    },
    {
      "cell_type": "code",
      "source": [
        "### 取得したデータセットの確認\n",
        "\n",
        "category_names = [\n",
        "  \"アート・エンタメ\",\n",
        "  \"車・乗り物\",\n",
        "  \"パソコン・電子機器\",\n",
        "  \"学び・コミュニケーション\",\n",
        "  \"家族\",\n",
        "  \"ビジネス・ファイナンス\",\n",
        "  \"食・おもてなし\",\n",
        "  \"健康\",\n",
        "  \"趣味・DIY\", \n",
        "  \"祝祭日・年中行事\",\n",
        "  \"住まいと暮らし・ガーデニング\",\n",
        "  \"ビューティー・ファッション\",\n",
        "  \"ペット・動物\",\n",
        "  \"哲学・宗教\",\n",
        "  \"人間関係\",\n",
        "  \"スポーツ・フィットネス\",\n",
        "  \"旅行\",\n",
        "  \"仕事\",\n",
        "  \"ティーン\",\n",
        "]"
      ],
      "metadata": {
        "id": "G4eEuEuKjxCF"
      },
      "execution_count": null,
      "outputs": []
    },
    {
      "cell_type": "markdown",
      "source": [
        "事後処理"
      ],
      "metadata": {
        "id": "HYM9BX3uk05n"
      }
    },
    {
      "cell_type": "code",
      "source": [
        "### クリーニング\n",
        "\n",
        "# 文字列取得の際に削り切れなかった文字をreplaceするなどの前処理を行う関数\n",
        "def replace_str(df):\n",
        "  df[\"tgt\"] = df[\"tgt\"].apply(lambda x: str(x).replace('\\u3000', '。'))\n",
        "  df[\"tgt\"] = df[\"tgt\"].apply(lambda x: str(x).replace('出典文献', ''))\n",
        "  df[\"tgt\"] = df[\"tgt\"].apply(lambda x: str(x).replace('\\n', ''))\n",
        "  df[\"src\"] = df[\"src\"].apply(lambda x: str(x).replace('\\u3000', '。'))\n",
        "  df[\"src\"] = df[\"src\"].apply(lambda x: str(x).replace('出典文献', ''))\n",
        "  df[\"src\"] = df[\"src\"].apply(lambda x: str(x).replace('\\n', ''))\n",
        "  for i in range(30):\n",
        "    df[\"tgt\"] = df[\"tgt\"].apply(lambda x: str(x).replace('[{}]'.format(i), ''))\n",
        "    df[\"src\"] = df[\"src\"].apply(lambda x: str(x).replace('[{}]'.format(i), ''))\n",
        "  # srcからtgtの文字を取り除く\n",
        "  df[\"src\"] = df.apply(lambda x: x.src.replace(x.tgt, ''), 1)\n",
        "  \n",
        "  return df\n",
        "\n",
        "# すべてのカテゴリのデータを結合\n",
        "wikihow_all_df = pd.DataFrame()\n",
        "for category_name in category_names:\n",
        "  wikihow_df = pd.read_csv(\"wikihow_data/wikihow_{}_datasets.csv\".format(category_name))\n",
        "  wikihow_all_df = pd.concat([wikihow_all_df, wikihow_df])\n",
        "\n",
        "wikihow_all_df = replace_str(wikihow_all_df)\n",
        "\n",
        "# 文字数を数える\n",
        "wikihow_all_df[\"tgt_length\"] = wikihow_all_df[\"tgt\"].apply(lambda x: len(str(x)))\n",
        "wikihow_all_df[\"src_length\"] = wikihow_all_df[\"src\"].apply(lambda x: len(str(x)))\n",
        "\n",
        "# 出力\n",
        "wikihow_all_df.to_csv(\"wikihow_data/wikihow_datasets_by_step.csv\".format(category_name), mode=\"w\", encoding=\"utf-8\")"
      ],
      "metadata": {
        "id": "NkViZYKxj8j2"
      },
      "execution_count": null,
      "outputs": []
    },
    {
      "cell_type": "code",
      "source": [
        "### wikiHowの「方法」ごとにデータをまとめる\n",
        "\n",
        "method_group = wikihow_all_df.groupby([\"method_title\"])\n",
        "wikihow_by_method_df = pd.DataFrame()\n",
        "method_tgt = []\n",
        "method_src = []\n",
        "wiki_title = []\n",
        "method_title = []\n",
        "method_num = []\n",
        "step_count = []\n",
        "for name, group in method_group:\n",
        "  tgt = group[\"tgt\"].to_list()\n",
        "  tg = ''.join(map(str, tgt)) if len(tgt) > 1 else str(tgt[0])\n",
        "  method_tgt.append(tg)\n",
        "\n",
        "  src = group[\"src\"].to_list()\n",
        "  sr = ''.join(map(str, src)) if len(src) > 1 else str(src[0])\n",
        "  method_src.append(sr)\n",
        "  wiki_title.append(group[\"wiki_title\"].to_list()[0])\n",
        "  method_title.append(group[\"method_title\"].to_list()[0])\n",
        "  method_num.append(group[\"method_num\"].to_list()[0])\n",
        "  step_count.append(group[\"step_num\"].to_list()[-1])\n",
        "\n",
        "wikihow_by_method_df = pd.DataFrame(, \n",
        "  list(zip(method_tgt, method_src, wiki_title, method_title, method_num, step_count)),\n",
        "  columns = [\"tgt\", \"src\", \"wiki_title\", \"method_title\", \"method_num\", \"step_count\"]\n",
        ")\n",
        "# 文字数を数える\n",
        "wikihow_by_method_df[\"tgt_length\"] = wikihow_by_method_df[\"tgt\"].apply(lambda x: len(str(x)))\n",
        "wikihow_by_method_df[\"src_length\"] = wikihow_by_method_df[\"src\"].apply(lambda x: len(str(x)))\n",
        "\n",
        "# 出力\n",
        "wikihow_by_method_df.to_csv(\"wikihow_data/wikihow_datasets_by_method.csv\".format(category_name), mode=\"w\", encoding=\"utf-8\")"
      ],
      "metadata": {
        "id": "6lWTndgCkmJD"
      },
      "execution_count": null,
      "outputs": []
    },
    {
      "cell_type": "code",
      "source": [
        "### wikiHowの「タイトル」ごとにまとめる\n",
        "\n",
        "wiki_group = wikihow_by_method_df.groupby([\"wiki_title\"])\n",
        "wikihow_by_wiki_df = pd.DataFrame()\n",
        "wiki_tgt = []\n",
        "wiki_src = []\n",
        "wiki_title = []\n",
        "method_title_sum = []\n",
        "method_count = []\n",
        "step_count = []\n",
        "for name, group in wiki_group:\n",
        "  tgt = group[\"tgt\"].to_list()\n",
        "  tg = ''.join(map(str, tgt)) if len(tgt) > 1 else str(tgt[0])\n",
        "  wiki_tgt.append(tg)\n",
        "\n",
        "  src = group[\"src\"].to_list()\n",
        "  sr = ''.join(map(str, src)) if len(src) > 1 else str(src[0])\n",
        "  wiki_src.append(sr)\n",
        "\n",
        "  met = group[\"method_title\"].to_list()\n",
        "  me = ''.join(map(str, met)) if len(met) > 1 else str(met[0])\n",
        "  method_title_sum.append(me)\n",
        "\n",
        "  wiki_title.append(group[\"wiki_title\"].to_list()[0])\n",
        "  method_count.append(group[\"method_num\"].to_list()[-1])\n",
        "  step_count.append(sum(group[\"step_count\"].to_list()))\n",
        "\n",
        "wikihow_by_wiki_df = pd.DataFrame(\n",
        "  list(zip(method_tgt, method_src, wiki_title, method_title_sum, method_count, step_count)),\n",
        "  columns = [\"tgt\", \"src\", \"wiki_title\", \"method_title_sum\", \"method_count\", \"step_count\"]\n",
        ")\n",
        "\n",
        "# 文字数を数える\n",
        "wikihow_by_wiki_df[\"tgt_length\"] = wikihow_by_wiki_df[\"tgt\"].apply(lambda x: len(str(x)))\n",
        "wikihow_by_wiki_df[\"src_length\"] = wikihow_by_wiki_df[\"src\"].apply(lambda x: len(str(x)))\n",
        "wikihow_by_wiki_df[\"method_title_sum_length\"] = wikihow_by_wiki_df[\"method_title_sum\"].apply(lambda x: len(str(x)))\n",
        "\n",
        "# 出力\n",
        "wikihow_by_wiki_df.to_csv(\"wikihow_data/wikihow_datasets_by_wiki.csv\".format(category_name), mode=\"w\", encoding=\"utf-8\")"
      ],
      "metadata": {
        "id": "lIaOFCYsksmm"
      },
      "execution_count": null,
      "outputs": []
    }
  ]
}