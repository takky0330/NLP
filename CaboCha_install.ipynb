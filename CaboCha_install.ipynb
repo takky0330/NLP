{
  "nbformat": 4,
  "nbformat_minor": 0,
  "metadata": {
    "colab": {
      "name": "CaboCha_install.ipynb",
      "provenance": [],
      "authorship_tag": "ABX9TyMJh1h0xPXLneoaNe0E5hRh",
      "include_colab_link": true
    },
    "kernelspec": {
      "name": "python3",
      "display_name": "Python 3"
    },
    "language_info": {
      "name": "python"
    }
  },
  "cells": [
    {
      "cell_type": "markdown",
      "metadata": {
        "id": "view-in-github",
        "colab_type": "text"
      },
      "source": [
        "<a href=\"https://colab.research.google.com/github/takky0330/NLP/blob/master/CaboCha_install.ipynb\" target=\"_parent\"><img src=\"https://colab.research.google.com/assets/colab-badge.svg\" alt=\"Open In Colab\"/></a>"
      ]
    },
    {
      "cell_type": "code",
      "source": [
        "from google.colab import drive\n",
        "drive.mount('/content/drive')"
      ],
      "metadata": {
        "id": "hBbA36p9WHyY"
      },
      "execution_count": null,
      "outputs": []
    },
    {
      "cell_type": "code",
      "execution_count": null,
      "metadata": {
        "id": "J0wMaGi6S6E2"
      },
      "outputs": [],
      "source": [
        "# mecabとその依存関係のインストール\n",
        "!apt-get install mecab swig libmecab-dev mecab-ipadic-utf8\n",
        "# mecab-pythonのインストール\n",
        "!pip install mecab-python3"
      ]
    },
    {
      "cell_type": "code",
      "source": [
        "import os\n",
        "\n",
        "filename_crfpp = 'crfpp.tar.gz'\n",
        "!wget \"https://drive.google.com/uc?export=download&id=0B4y35FiV1wh7QVR6VXJ5dWExSTQ\" \\\n",
        "    -O $filename_crfpp\n",
        "!tar zxvf $filename_crfpp\n",
        "%cd CRF++-0.58\n",
        "!./configure\n",
        "!make\n",
        "!make install\n",
        "%cd ..\n",
        "\n",
        "os.environ['LD_LIBRARY_PATH'] += ':/usr/local/lib' "
      ],
      "metadata": {
        "id": "zd_Tnq8fUcy7"
      },
      "execution_count": null,
      "outputs": []
    },
    {
      "cell_type": "code",
      "source": [
        "!cp /content/drive/MyDrive/BERTopic/cabocha-0.69.tar.bz2 ./\n",
        "!bzip2 -dc $filename_cabocha | tar xvf -\n",
        "\n",
        "filename_cabocha = 'cabocha-0.69.tar.bz2'\n",
        "!wget \"$url_cabocha\" -O $filename_cabocha\n",
        "!bzip2 -dc $filename_cabocha | tar xvf -\n",
        "%cd cabocha-0.69\n",
        "!./configure --with-mecab-config=`which mecab-config` --with-charset=UTF8\n",
        "!make\n",
        "!make check\n",
        "!make install\n",
        "%cd ..\n",
        "!cabocha --version"
      ],
      "metadata": {
        "id": "1YWdT73DS_wN"
      },
      "execution_count": null,
      "outputs": []
    },
    {
      "cell_type": "code",
      "source": [
        "%cd cabocha-0.69/python\n",
        "!python setup.py build_ext\n",
        "!python setup.py install\n",
        "!ldconfig\n",
        "%cd ../.."
      ],
      "metadata": {
        "id": "YMB-P7zYUlAg"
      },
      "execution_count": null,
      "outputs": []
    },
    {
      "cell_type": "code",
      "source": [
        "!mecab -v\n",
        "!pip show mecab-python3 | grep -e Name -e Version && echo\n",
        "!cabocha -v && echo\n",
        "!pip show cabocha-python | grep -e Name -e Version"
      ],
      "metadata": {
        "id": "TJaoKOJHVULb"
      },
      "execution_count": null,
      "outputs": []
    },
    {
      "cell_type": "code",
      "source": [
        ""
      ],
      "metadata": {
        "id": "JAtbuTNCXya3"
      },
      "execution_count": null,
      "outputs": []
    }
  ]
}