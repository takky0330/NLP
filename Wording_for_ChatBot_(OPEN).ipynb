{
  "nbformat": 4,
  "nbformat_minor": 0,
  "metadata": {
    "kernelspec": {
      "name": "python3",
      "display_name": "Python 3",
      "language": "python"
    },
    "language_info": {
      "name": "python",
      "version": "3.7.6",
      "mimetype": "text/x-python",
      "codemirror_mode": {
        "name": "ipython",
        "version": 3
      },
      "pygments_lexer": "ipython3",
      "nbconvert_exporter": "python",
      "file_extension": ".py"
    },
    "colab": {
      "name": "Wording for ChatBot (OPEN)",
      "provenance": [],
      "collapsed_sections": [
        "S-Kj1T_yHa_A",
        "Xej73WKiH2rB",
        "Nh5aHPQvILf9",
        "6d5VpQQBKTPK",
        "tiKBEqeHy2-c",
        "3Nxi86jH49N7"
      ],
      "include_colab_link": true
    }
  },
  "cells": [
    {
      "cell_type": "markdown",
      "metadata": {
        "id": "view-in-github",
        "colab_type": "text"
      },
      "source": [
        "<a href=\"https://colab.research.google.com/github/takky0330/NLP/blob/master/Wording_for_ChatBot_(OPEN).ipynb\" target=\"_parent\"><img src=\"https://colab.research.google.com/assets/colab-badge.svg\" alt=\"Open In Colab\"/></a>"
      ]
    },
    {
      "cell_type": "markdown",
      "metadata": {
        "id": "S-Kj1T_yHa_A"
      },
      "source": [
        "# Installations"
      ]
    },
    {
      "cell_type": "code",
      "metadata": {
        "_uuid": "d629ff2d2480ee46fbb7e2d37f6b5fab8052498a",
        "_cell_guid": "79c7e3d0-c299-4dcb-8224-4455121ee9b0",
        "trusted": true,
        "id": "YAP21lOv98K4"
      },
      "source": [
        "### 初回は、これを実行後に、上のメニューの 「ランタイム」ー「ランタイムの再起動」 を実行してください。\n",
        "!pip install git+https://github.com/ramsrigouthamg/Questgen.ai"
      ],
      "execution_count": null,
      "outputs": []
    },
    {
      "cell_type": "code",
      "metadata": {
        "trusted": true,
        "id": "qthgWEP998K9"
      },
      "source": [
        "### 上のメニューの 「ランタイム」ー「ランタイムの再起動」 を実行後に、これを実行してください。\n",
        "!pip install sense2vec==1.0.2"
      ],
      "execution_count": null,
      "outputs": []
    },
    {
      "cell_type": "code",
      "metadata": {
        "trusted": true,
        "id": "zV6T1TyS98LC"
      },
      "source": [
        "!pip install git+https://github.com/boudinfl/pke.git"
      ],
      "execution_count": null,
      "outputs": []
    },
    {
      "cell_type": "code",
      "metadata": {
        "trusted": true,
        "id": "VgR7ovac98LH"
      },
      "source": [
        "!python -m nltk.downloader universal_tagset\n",
        "!python -m spacy download en "
      ],
      "execution_count": null,
      "outputs": []
    },
    {
      "cell_type": "markdown",
      "metadata": {
        "id": "Xej73WKiH2rB"
      },
      "source": [
        "# Download Sense2vec wordvectors for generation of multiple choices"
      ]
    },
    {
      "cell_type": "code",
      "metadata": {
        "id": "j6t3Q_NlIFmh"
      },
      "source": [
        "!wget https://github.com/explosion/sense2vec/releases/download/v1.0.0/s2v_reddit_2015_md.tar.gz"
      ],
      "execution_count": null,
      "outputs": []
    },
    {
      "cell_type": "code",
      "metadata": {
        "id": "8tqQbWi0IGuf"
      },
      "source": [
        "!tar -xvf  s2v_reddit_2015_md.tar.gz"
      ],
      "execution_count": null,
      "outputs": []
    },
    {
      "cell_type": "code",
      "metadata": {
        "id": "n9k2fs9RIKPC"
      },
      "source": [
        "!ls s2v_old"
      ],
      "execution_count": null,
      "outputs": []
    },
    {
      "cell_type": "code",
      "metadata": {
        "id": "K59n0dN5Lcc2"
      },
      "source": [
        "## これを実行しないと、＂from Questgen import main＂でエラーになった\n",
        "!python -m nltk.downloader stopwords"
      ],
      "execution_count": null,
      "outputs": []
    },
    {
      "cell_type": "markdown",
      "metadata": {
        "id": "hVPJoYfjjqcs"
      },
      "source": [
        "# Data Read"
      ]
    },
    {
      "cell_type": "code",
      "metadata": {
        "id": "99EbMxjNk3yy"
      },
      "source": [
        "import os\n",
        "import time\n",
        "import pandas as pd"
      ],
      "execution_count": null,
      "outputs": []
    },
    {
      "cell_type": "code",
      "metadata": {
        "id": "6CU5Wt6cj9c4"
      },
      "source": [
        "from google.colab import drive\n",
        "drive.mount('/content/drive')"
      ],
      "execution_count": null,
      "outputs": []
    },
    {
      "cell_type": "code",
      "metadata": {
        "id": "1280yMjFkwTq"
      },
      "source": [
        "_data = pd.read_csv('/content/drive/My Drive/Colab Notebooks/data/ChatBot_OPEN_0325.csv', sep=',', encoding='cp932')\n",
        "_data"
      ],
      "execution_count": null,
      "outputs": []
    },
    {
      "cell_type": "code",
      "metadata": {
        "id": "6E5d7ZoGnuAH"
      },
      "source": [
        "data = _data[_data.columns.values[0:3]]\n",
        "data"
      ],
      "execution_count": null,
      "outputs": []
    },
    {
      "cell_type": "markdown",
      "metadata": {
        "id": "tiKBEqeHy2-c"
      },
      "source": [
        "# Paraphrasing Questions"
      ]
    },
    {
      "cell_type": "code",
      "metadata": {
        "id": "slpB8NA4DTu4"
      },
      "source": [
        "from pprint import pprint\n",
        "from Questgen import main\n",
        "qg = main.QGen()"
      ],
      "execution_count": null,
      "outputs": []
    },
    {
      "cell_type": "code",
      "metadata": {
        "id": "P71_S5mvGwbk"
      },
      "source": [
        "!pip3 install git+https://github.com/alainrouillon/py-googletrans@feature/enhance-use-of-direct-api"
      ],
      "execution_count": null,
      "outputs": []
    },
    {
      "cell_type": "code",
      "metadata": {
        "id": "RgQhY1XHGsLs"
      },
      "source": [
        "## 無料タイプ。利用しません。\n",
        "#from googletrans import Translator\n",
        "#Trans = Translator(service_urls=['translate.googleapis.com']) ## https://qiita.com/_yushuu/items/83c51e29771530646659\n",
        "\n",
        "#def trans_google(qes, src='ja', to='en'):\n",
        "#  return Trans.translate(qes, src=src ,dest=to).text"
      ],
      "execution_count": null,
      "outputs": []
    },
    {
      "cell_type": "code",
      "metadata": {
        "id": "KfN-TSbwLsQ4"
      },
      "source": [
        "from google.cloud import translate_v3beta1 as translate\n",
        "os.environ['GOOGLE_APPLICATION_CREDENTIALS'] = '/content/drive/My Drive/Colab Notebooks/key/MimbleWimble-9c117f7eef20.json'\n",
        "Trans = translate.TranslationServiceClient()"
      ],
      "execution_count": null,
      "outputs": []
    },
    {
      "cell_type": "code",
      "metadata": {
        "id": "48BDUlttqcA2"
      },
      "source": [
        "def Paraphrasing(data):\n",
        "  data_len = len(data)\n",
        "  Answer = []\n",
        "  for l, (idx, row) in enumerate(data.iterrows()):\n",
        "    print(f'\\n{l + 1} / {data_len}')\n",
        "    No  = row[0]\n",
        "    Qes = row[1]\n",
        "    Ans = row[2]\n",
        "    try:\n",
        "      Answer.append(['{}_{:02x}'.format(No, 0), Qes, Ans])\n",
        "      #_enQ   = trans_google(Qes, src='ja', to='en')　　　　　　　　　　　　　　　　　　　　　　　　　　## 無料タイプ。\n",
        "      _enQ   = trans_googleCloud([Qes], src='ja', to='en-US')\n",
        "      _enQes = paraphrasing_word(_enQ)\n",
        "      enQes  = _enQes['Paraphrased Questions']\n",
        "    \n",
        "      _jpQes = []\n",
        "      for wd in enQes:\n",
        "        _qes = wd.split(':')[1].strip()\n",
        "        #jpQes = trans_google(_qes, src='en', to='ja')　　　　　　　　　　　　　　　　　　　　　　　　## 無料タイプ。\n",
        "        _jpQes.append(trans_googleCloud([_qes], src='en-US', to='ja'))\n",
        "      _jpQes = set(_jpQes)\n",
        "      print('jpQes LEN  :  ', len(_jpQes)+1)\n",
        "    except:\n",
        "      _jpQes = []\n",
        "      print('jpQes LEN  :  ', len(_jpQes))\n",
        "    for _i, jpQes in enumerate(_jpQes):\n",
        "      Answer.append(['{}_{:02x}'.format(No, _i+1), jpQes, Ans])\n",
        "\n",
        "\n",
        "  return Answer\n",
        "\n",
        "def trans_googleCloud(qes, src='ja', to='en-US'):\n",
        "  project_id = \"mimblewimble-230908\"\n",
        "  location = 'global'\n",
        "\n",
        "  parent = Trans.location_path(project_id, location)\n",
        "\n",
        "  response = Trans.translate_text(\n",
        "    parent=parent,\n",
        "    contents=qes,\n",
        "    mime_type='text/plain',\n",
        "    source_language_code = src,\n",
        "    target_language_code = to)\n",
        "  for translation in response.translations:\n",
        "    question = translation.translated_text\n",
        "    break\n",
        "\n",
        "  return question\n",
        "\n",
        "def paraphrasing_word(text):\n",
        "  payload = {\n",
        "    \"input_text\" : text,\n",
        "    \"max_questions\": 5\n",
        "  }\n",
        "  return qg.paraphrase(payload)"
      ],
      "execution_count": null,
      "outputs": []
    },
    {
      "cell_type": "code",
      "metadata": {
        "id": "9Dz1ufVquHRK"
      },
      "source": [
        "Result = Paraphrasing(data)"
      ],
      "execution_count": null,
      "outputs": []
    },
    {
      "cell_type": "code",
      "metadata": {
        "id": "XJU3sNZbuHbI"
      },
      "source": [
        "pd.DataFrame(Result, columns=data.columns.values).to_csv('ChatBot_OPEN_0325_paraphrasing.csv', sep=',', encoding='cp932')\n",
        "! cp ChatBot_OPEN_0325_paraphrasing.csv /content/drive/\"My Drive\"/\"Colab Notebooks\"/data"
      ],
      "execution_count": null,
      "outputs": []
    },
    {
      "cell_type": "code",
      "metadata": {
        "id": "H0RE_M3yA7H8",
        "collapsed": true
      },
      "source": [
        "! ls"
      ],
      "execution_count": null,
      "outputs": []
    },
    {
      "cell_type": "code",
      "metadata": {
        "id": "X0Qnl15cvpQH"
      },
      "source": [
        "!ls ChatBot_OPEN_0325_paraphrasing.csv"
      ],
      "execution_count": null,
      "outputs": []
    },
    {
      "cell_type": "code",
      "metadata": {
        "id": "UmWDD3W4wB1v"
      },
      "source": [
        ""
      ],
      "execution_count": null,
      "outputs": []
    }
  ]
}