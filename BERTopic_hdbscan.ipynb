{
  "nbformat": 4,
  "nbformat_minor": 0,
  "metadata": {
    "colab": {
      "name": "BERTopic_hdbscan.ipynb",
      "provenance": [],
      "collapsed_sections": [],
      "authorship_tag": "ABX9TyOZtr76P5YMShYs7+8BIwLb",
      "include_colab_link": true
    },
    "kernelspec": {
      "name": "python3",
      "display_name": "Python 3"
    },
    "language_info": {
      "name": "python"
    }
  },
  "cells": [
    {
      "cell_type": "markdown",
      "metadata": {
        "id": "view-in-github",
        "colab_type": "text"
      },
      "source": [
        "<a href=\"https://colab.research.google.com/github/takky0330/NLP/blob/master/BERTopic_hdbscan.ipynb\" target=\"_parent\"><img src=\"https://colab.research.google.com/assets/colab-badge.svg\" alt=\"Open In Colab\"/></a>"
      ]
    },
    {
      "cell_type": "code",
      "execution_count": null,
      "metadata": {
        "id": "5Ym6B3Z7pkmr"
      },
      "outputs": [],
      "source": [
        "!pip install bertopic"
      ]
    },
    {
      "cell_type": "code",
      "source": [
        "from google.colab import drive\n",
        "drive.mount('/content/drive')\n",
        "!cp /content/drive/MyDrive/BERTopic/corona.csv ./"
      ],
      "metadata": {
        "colab": {
          "base_uri": "https://localhost:8080/"
        },
        "id": "WVCSRYZmpqqy",
        "outputId": "f5cac8f8-c76a-42e2-fe7e-c43488afd8ff"
      },
      "execution_count": 1,
      "outputs": [
        {
          "output_type": "stream",
          "name": "stdout",
          "text": [
            "Drive already mounted at /content/drive; to attempt to forcibly remount, call drive.mount(\"/content/drive\", force_remount=True).\n"
          ]
        }
      ]
    },
    {
      "cell_type": "code",
      "source": [
        "import pandas as pd\n",
        "docs_list = []\n",
        "csv_pd = pd.read_csv(filepath_or_buffer=\"./corona.csv\", encoding=\"cp932\", sep=\",\")\n",
        "lists_pd = csv_pd[csv_pd.columns[1]]\n",
        "lists = list(lists_pd.values)\n",
        "for lst in lists:\n",
        "    docs_list = docs_list + lst.rstrip('。').split(\"。\")\n",
        "    \n",
        "\n",
        "docs_pd = pd.DataFrame(docs_list, columns=[csv_pd.columns[1]])\n",
        "docs = docs_pd[csv_pd.columns[1]].tolist()"
      ],
      "metadata": {
        "id": "-e2dHiMkprRq"
      },
      "execution_count": 2,
      "outputs": []
    },
    {
      "cell_type": "code",
      "source": [
        "from bertopic import BERTopic\n",
        "from sklearn.cluster import KMeans\n",
        "cluster_model = KMeans(n_clusters=20)\n",
        "\n",
        "topic_model = BERTopic(language=\"japanese\", calculate_probabilities=True, verbose=True, nr_topics=\"20\")\n",
        "topics, probs = topic_model.fit_transform(docs)"
      ],
      "metadata": {
        "id": "wyQ2CiWupxX_"
      },
      "execution_count": null,
      "outputs": []
    },
    {
      "cell_type": "code",
      "source": [
        "topic_model.get_topic_info()"
      ],
      "metadata": {
        "id": "kh0K9t-1qaIg"
      },
      "execution_count": null,
      "outputs": []
    },
    {
      "cell_type": "code",
      "source": [
        "topic_model.get_topic(0)"
      ],
      "metadata": {
        "id": "Dqmx1HEDqczS"
      },
      "execution_count": null,
      "outputs": []
    },
    {
      "cell_type": "code",
      "source": [
        "topics_pd = pd.DataFrame(topics, index=docs_pd.index, columns=['topics'])\n",
        "topics_pd = pd.concat([topics_pd, docs_pd], axis=1)\n",
        "topics_pd"
      ],
      "metadata": {
        "id": "cbFyX7cu606v"
      },
      "execution_count": null,
      "outputs": []
    },
    {
      "cell_type": "code",
      "source": [
        "topics_pd[topics_pd['topics'] == 0]"
      ],
      "metadata": {
        "id": "GGK8gAuRJ77-"
      },
      "execution_count": null,
      "outputs": []
    },
    {
      "cell_type": "code",
      "source": [
        "topic_model.visualize_topics()"
      ],
      "metadata": {
        "id": "lnUnUmiHqfXK"
      },
      "execution_count": null,
      "outputs": []
    },
    {
      "cell_type": "code",
      "source": [
        "topic_model.visualize_distribution(probs[200], min_probability=0.0)"
      ],
      "metadata": {
        "id": "OGExZABxqh5U"
      },
      "execution_count": null,
      "outputs": []
    },
    {
      "cell_type": "code",
      "source": [
        "topic_model.visualize_hierarchy()"
      ],
      "metadata": {
        "id": "HO1wBfihqkEO"
      },
      "execution_count": null,
      "outputs": []
    },
    {
      "cell_type": "code",
      "source": [
        "topic_model.visualize_barchart()"
      ],
      "metadata": {
        "id": "kJErFnhwqmdN"
      },
      "execution_count": null,
      "outputs": []
    },
    {
      "cell_type": "code",
      "source": [
        "topics_pd.to_csv('./BERTopic_hdbscan.csv', sep=',', encoding='cp932')\n",
        "! cp ./BERTopic_hdbscan.csv /content/drive/MyDrive/BERTopic/\n",
        "! ls /content/drive/MyDrive/BERTopic/"
      ],
      "metadata": {
        "colab": {
          "base_uri": "https://localhost:8080/"
        },
        "id": "E-s6M6SahrdK",
        "outputId": "240f63dc-0ef7-4ea8-c580-6b20792b9539"
      },
      "execution_count": 12,
      "outputs": [
        {
          "output_type": "stream",
          "name": "stdout",
          "text": [
            "BERTopic_hdbscan.csv  BERTopic_japanese.csv  BERTopic_sonoisa.csv  corona.csv\n"
          ]
        }
      ]
    },
    {
      "cell_type": "code",
      "source": [
        "import numpy as np\n",
        "probability_threshold = 0.01\n",
        "new_topics = [np.argmax(prob) if max(prob) >= probability_threshold else -1 for prob in probs]"
      ],
      "metadata": {
        "id": "uol1KogJ4aKa"
      },
      "execution_count": 13,
      "outputs": []
    },
    {
      "cell_type": "code",
      "source": [
        "new_topics[:10]"
      ],
      "metadata": {
        "id": "PtRw60naqy5A"
      },
      "execution_count": null,
      "outputs": []
    },
    {
      "cell_type": "code",
      "source": [
        "topics_pd.groupby('topics').count()"
      ],
      "metadata": {
        "id": "69WYzdoRrGdl"
      },
      "execution_count": null,
      "outputs": []
    },
    {
      "cell_type": "code",
      "source": [
        "new_topics, new_probs = topic_model.reduce_topics(docs, topics, probs, nr_topics=20)"
      ],
      "metadata": {
        "id": "5eY7MQIGrzln"
      },
      "execution_count": null,
      "outputs": []
    },
    {
      "cell_type": "code",
      "source": [
        "topic_model.visualize_hierarchy()"
      ],
      "metadata": {
        "id": "KJpZb-I1srBn"
      },
      "execution_count": null,
      "outputs": []
    },
    {
      "cell_type": "code",
      "source": [
        "topics_pd = pd.DataFrame(new_topics, index=docs_pd.index, columns=['topics'])\n",
        "topics_pd = pd.concat([topics_pd, docs_pd], axis=1)\n",
        "topics_pd"
      ],
      "metadata": {
        "id": "_CuXEjdUwIF0"
      },
      "execution_count": null,
      "outputs": []
    },
    {
      "cell_type": "code",
      "source": [
        "topics_pd.to_csv('./BERTopic_hdbscan_20.csv', sep=',', encoding='cp932')\n",
        "!cp ./BERTopic_hdbscan_20.csv /content/drive/MyDrive/BERTopic/"
      ],
      "metadata": {
        "id": "07JprFuVsx8i"
      },
      "execution_count": 23,
      "outputs": []
    }
  ]
}