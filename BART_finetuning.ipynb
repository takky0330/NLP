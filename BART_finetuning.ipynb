{
  "nbformat": 4,
  "nbformat_minor": 0,
  "metadata": {
    "colab": {
      "name": "BART_finetuning.ipynb",
      "provenance": [],
      "authorship_tag": "ABX9TyMfsRx6yGz6oPOamVt/3GSf",
      "include_colab_link": true
    },
    "kernelspec": {
      "name": "python3",
      "display_name": "Python 3"
    },
    "language_info": {
      "name": "python"
    }
  },
  "cells": [
    {
      "cell_type": "markdown",
      "metadata": {
        "id": "view-in-github",
        "colab_type": "text"
      },
      "source": [
        "<a href=\"https://colab.research.google.com/github/takky0330/NLP/blob/master/BART_finetuning.ipynb\" target=\"_parent\"><img src=\"https://colab.research.google.com/assets/colab-badge.svg\" alt=\"Open In Colab\"/></a>"
      ]
    },
    {
      "cell_type": "code",
      "execution_count": null,
      "metadata": {
        "id": "xc29xS8soXHM"
      },
      "outputs": [],
      "source": [
        "# fairseqインストール(gitから)\n",
        "!git clone https://github.com/utanaka2000/fairseq.git\n",
        "%cd fairseq\n",
        "!git fetch origin\n",
        "!git checkout japanese_bart_pretrained_model\n",
        "!git branch"
      ]
    },
    {
      "cell_type": "code",
      "source": [
        "# インストール\n",
        "! pip install ."
      ],
      "metadata": {
        "id": "Plx4Kb1voZvd"
      },
      "execution_count": null,
      "outputs": []
    },
    {
      "cell_type": "code",
      "source": [
        "# その他必要なライブラリをインストール\n",
        "!pip install zenhan sentencepiece tensorboard"
      ],
      "metadata": {
        "id": "u9T0UxW2oc1b"
      },
      "execution_count": null,
      "outputs": []
    },
    {
      "cell_type": "code",
      "source": [
        "# fairseq有効化\n",
        "!echo $PYTHONPATH\n",
        "\n",
        "import os\n",
        "os.environ['PYTHONPATH'] = \"/env/python\"\n",
        "os.environ['PYTHONPATH'] += \":/content/fairseq/\"\n",
        "\n",
        "!echo $PYTHONPATH"
      ],
      "metadata": {
        "colab": {
          "base_uri": "https://localhost:8080/"
        },
        "id": "69cU4gbxo6P_",
        "outputId": "c116191e-e641-4df5-95bb-f4c0d7d95f05"
      },
      "execution_count": null,
      "outputs": [
        {
          "output_type": "stream",
          "name": "stdout",
          "text": [
            "/env/python\n",
            "/env/python:/content/fairseq/\n"
          ]
        }
      ]
    },
    {
      "cell_type": "code",
      "source": [
        "# インストールの確認\n",
        "!pip show fairseq"
      ],
      "metadata": {
        "id": "Kl-w0NLxpGb5"
      },
      "execution_count": null,
      "outputs": []
    },
    {
      "cell_type": "code",
      "source": [
        "%cd /content\n",
        "!wget http://lotus.kuee.kyoto-u.ac.jp/nl-resource/JapaneseBARTPretrainedModel/japanese_bart_base_1.1.tar.gz\n",
        "!tar -zxvf japanese_bart_base_1.1.tar.gz"
      ],
      "metadata": {
        "id": "PHXygWRTpG5-"
      },
      "execution_count": null,
      "outputs": []
    },
    {
      "cell_type": "code",
      "source": [
        "! ls japanese_bart_base_1.1"
      ],
      "metadata": {
        "colab": {
          "base_uri": "https://localhost:8080/"
        },
        "id": "tBhQGl6Aqhd0",
        "outputId": "116d90c7-df9e-4a11-8bb9-c953ca3f0f5d"
      },
      "execution_count": null,
      "outputs": [
        {
          "output_type": "stream",
          "name": "stdout",
          "text": [
            "bart_model.pt  dict.txt  sp.model\n"
          ]
        }
      ]
    },
    {
      "cell_type": "markdown",
      "source": [
        "####  Juman++"
      ],
      "metadata": {
        "id": "k7KnLaYjFNRP"
      }
    },
    {
      "cell_type": "code",
      "source": [
        "# jumanpp-2.0.0-rc3 download\n",
        "%cd /content\n",
        "!wget https://github.com/ku-nlp/jumanpp/releases/download/v2.0.0-rc3/jumanpp-2.0.0-rc3.tar.xz"
      ],
      "metadata": {
        "id": "rLHFIStJqlFq"
      },
      "execution_count": null,
      "outputs": []
    },
    {
      "cell_type": "code",
      "source": [
        "# unzip a file\n",
        "!tar xvf jumanpp-2.0.0-rc3.tar.xz"
      ],
      "metadata": {
        "id": "2shdFnLdKaIM"
      },
      "execution_count": null,
      "outputs": []
    },
    {
      "cell_type": "code",
      "source": [
        "## jumanpp-2.0.0-rc3/src/core/analysis/analyzer.h\n",
        "## 16,17行目\n",
        "#  size_t pageSize = 48 * 1024 * 1024;\n",
        "#  size_t maxInputBytes = 48 * 1024;\n",
        "\n",
        "%%bash\n",
        "sed -i -e \"16c size_t pageSize = 48 * 1024 * 1024;\" jumanpp-2.0.0-rc3/src/core/analysis/analyzer.h\n",
        "sed -i -e \"17c size_t maxInputBytes = 48 * 1024;\" jumanpp-2.0.0-rc3/src/core/analysis/analyzer.h\n",
        "\n",
        "! head -17 jumanpp-2.0.0-rc3/src/core/analysis/analyzer.h | tail -2"
      ],
      "metadata": {
        "id": "SfKXpzv4FeT3"
      },
      "execution_count": null,
      "outputs": []
    },
    {
      "cell_type": "code",
      "source": [
        "## jumanpp-2.0.0-rc3/src/core/input/stream_reader.h\n",
        "## 27,28行目\n",
        "#  u64 maxInputLength_ = 48 * 1024;\n",
        "#  u64 maxCommentLength_ = 48 * 1024;\n",
        "\n",
        "%%bash\n",
        "sed -i -e \"27c u64 maxInputLength_ = 48 * 1024;\" jumanpp-2.0.0-rc3/src/core/input/stream_reader.h\n",
        "sed -i -e \"28c u64 maxCommentLength_ = 48 * 1024;\" jumanpp-2.0.0-rc3/src/core/input/stream_reader.h\n",
        "\n",
        "! head -28 jumanpp-2.0.0-rc3/src/core/input/stream_reader.h | tail -2"
      ],
      "metadata": {
        "id": "UPmTS1meFnBb"
      },
      "execution_count": null,
      "outputs": []
    },
    {
      "cell_type": "code",
      "source": [
        "# build jumanpp\n",
        "%cd jumanpp-2.0.0-rc3/\n",
        "!mkdir build\n",
        "!cmake .. -DCMAKE_BUILD_TYPE=Release -DCMAKE_INSTALL_PREFIX=/usr/local\n",
        "!make"
      ],
      "metadata": {
        "id": "jb-9oXLNIVhp"
      },
      "execution_count": null,
      "outputs": []
    },
    {
      "cell_type": "code",
      "source": [
        "# install jumanpp\n",
        "!sudo make install"
      ],
      "metadata": {
        "id": "fosrIJYSI5vU"
      },
      "execution_count": null,
      "outputs": []
    },
    {
      "cell_type": "code",
      "source": [
        "! pwd\n",
        "! rm /content/jumanpp-2.0.0-rc3.tar.xz"
      ],
      "metadata": {
        "id": "ixJvkWeJJKZ_"
      },
      "execution_count": null,
      "outputs": []
    },
    {
      "cell_type": "code",
      "source": [
        "! ls -alh /content"
      ],
      "metadata": {
        "id": "1jilsPA2JMDY"
      },
      "execution_count": null,
      "outputs": []
    },
    {
      "cell_type": "code",
      "source": [
        ""
      ],
      "metadata": {
        "id": "Fdg14KdkJSVe"
      },
      "execution_count": null,
      "outputs": []
    }
  ]
}