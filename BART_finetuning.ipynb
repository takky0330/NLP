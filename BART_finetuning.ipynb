{
  "nbformat": 4,
  "nbformat_minor": 0,
  "metadata": {
    "colab": {
      "name": "BART_finetuning.ipynb",
      "provenance": [],
      "authorship_tag": "ABX9TyMZAjazjC3xZSEkOukzwbmj",
      "include_colab_link": true
    },
    "kernelspec": {
      "name": "python3",
      "display_name": "Python 3"
    },
    "language_info": {
      "name": "python"
    },
    "accelerator": "GPU",
    "gpuClass": "standard"
  },
  "cells": [
    {
      "cell_type": "markdown",
      "metadata": {
        "id": "view-in-github",
        "colab_type": "text"
      },
      "source": [
        "<a href=\"https://colab.research.google.com/github/takky0330/NLP/blob/master/BART_finetuning.ipynb\" target=\"_parent\"><img src=\"https://colab.research.google.com/assets/colab-badge.svg\" alt=\"Open In Colab\"/></a>"
      ]
    },
    {
      "cell_type": "code",
      "execution_count": null,
      "metadata": {
        "id": "xc29xS8soXHM"
      },
      "outputs": [],
      "source": [
        "# fairseqインストール(gitから)\n",
        "!git clone https://github.com/utanaka2000/fairseq.git\n",
        "%cd fairseq\n",
        "!git fetch origin\n",
        "!git checkout japanese_bart_pretrained_model\n",
        "!git branch"
      ]
    },
    {
      "cell_type": "code",
      "source": [
        "# インストール\n",
        "! pip install ."
      ],
      "metadata": {
        "id": "Plx4Kb1voZvd"
      },
      "execution_count": null,
      "outputs": []
    },
    {
      "cell_type": "code",
      "source": [
        "# fairseq有効化\n",
        "!echo $PYTHONPATH\n",
        "\n",
        "import os\n",
        "os.environ['PYTHONPATH'] = \"/env/python\"\n",
        "os.environ['PYTHONPATH'] += \":/content/fairseq/\"\n",
        "\n",
        "!echo $PYTHONPATH"
      ],
      "metadata": {
        "colab": {
          "base_uri": "https://localhost:8080/"
        },
        "id": "69cU4gbxo6P_",
        "outputId": "615f0bcf-8f1d-4751-9d7f-5b869220a7a4"
      },
      "execution_count": null,
      "outputs": [
        {
          "output_type": "stream",
          "name": "stdout",
          "text": [
            "/env/python\n",
            "/env/python:/content/fairseq/\n"
          ]
        }
      ]
    },
    {
      "cell_type": "code",
      "source": [
        "# インストールの確認\n",
        "!pip show fairseq"
      ],
      "metadata": {
        "id": "Kl-w0NLxpGb5"
      },
      "execution_count": null,
      "outputs": []
    },
    {
      "cell_type": "code",
      "source": [
        "%cd /content\n",
        "!wget http://lotus.kuee.kyoto-u.ac.jp/nl-resource/JapaneseBARTPretrainedModel/japanese_bart_base_1.1.tar.gz\n",
        "!tar -zxvf japanese_bart_base_1.1.tar.gz"
      ],
      "metadata": {
        "id": "PHXygWRTpG5-"
      },
      "execution_count": null,
      "outputs": []
    },
    {
      "cell_type": "code",
      "source": [
        "! ls japanese_bart_base_1.1"
      ],
      "metadata": {
        "colab": {
          "base_uri": "https://localhost:8080/"
        },
        "id": "tBhQGl6Aqhd0",
        "outputId": "ed387f6d-72ae-4e2c-c5cd-7970307116e8"
      },
      "execution_count": null,
      "outputs": [
        {
          "output_type": "stream",
          "name": "stdout",
          "text": [
            "bart_model.pt  dict.txt  sp.model\n"
          ]
        }
      ]
    },
    {
      "cell_type": "markdown",
      "source": [
        "####  Juman++"
      ],
      "metadata": {
        "id": "k7KnLaYjFNRP"
      }
    },
    {
      "cell_type": "code",
      "source": [
        "# jumanpp-2.0.0-rc3 download\n",
        "%cd /content\n",
        "!wget https://github.com/ku-nlp/jumanpp/releases/download/v2.0.0-rc3/jumanpp-2.0.0-rc3.tar.xz"
      ],
      "metadata": {
        "id": "rLHFIStJqlFq"
      },
      "execution_count": null,
      "outputs": []
    },
    {
      "cell_type": "code",
      "source": [
        "# unzip a file\n",
        "!tar xvf jumanpp-2.0.0-rc3.tar.xz"
      ],
      "metadata": {
        "id": "2shdFnLdKaIM"
      },
      "execution_count": null,
      "outputs": []
    },
    {
      "cell_type": "code",
      "source": [
        "## jumanpp-2.0.0-rc3/src/core/analysis/analyzer.h\n",
        "## 16,17行目\n",
        "#  size_t pageSize = 48 * 1024 * 1024;\n",
        "#  size_t maxInputBytes = 48 * 1024;\n",
        "\n",
        "%%bash\n",
        "sed -i -e \"16c size_t pageSize = 48 * 1024 * 1024;\" jumanpp-2.0.0-rc3/src/core/analysis/analyzer.h\n",
        "sed -i -e \"17c size_t maxInputBytes = 48 * 1024;\" jumanpp-2.0.0-rc3/src/core/analysis/analyzer.h\n",
        "\n",
        "! head -17 jumanpp-2.0.0-rc3/src/core/analysis/analyzer.h | tail -2"
      ],
      "metadata": {
        "id": "SfKXpzv4FeT3",
        "outputId": "91edfc29-3f94-412a-a359-ed4fb107ec99",
        "colab": {
          "base_uri": "https://localhost:8080/"
        }
      },
      "execution_count": null,
      "outputs": [
        {
          "output_type": "stream",
          "name": "stdout",
          "text": [
            "size_t pageSize = 48 * 1024 * 1024;\n",
            "size_t maxInputBytes = 48 * 1024;\n"
          ]
        }
      ]
    },
    {
      "cell_type": "code",
      "source": [
        "## jumanpp-2.0.0-rc3/src/core/input/stream_reader.h\n",
        "## 27,28行目\n",
        "#  u64 maxInputLength_ = 48 * 1024;\n",
        "#  u64 maxCommentLength_ = 48 * 1024;\n",
        "\n",
        "%%bash\n",
        "sed -i -e \"27c u64 maxInputLength_ = 48 * 1024;\" jumanpp-2.0.0-rc3/src/core/input/stream_reader.h\n",
        "sed -i -e \"28c u64 maxCommentLength_ = 48 * 1024;\" jumanpp-2.0.0-rc3/src/core/input/stream_reader.h\n",
        "\n",
        "! head -28 jumanpp-2.0.0-rc3/src/core/input/stream_reader.h | tail -2"
      ],
      "metadata": {
        "id": "UPmTS1meFnBb",
        "outputId": "4c0cfc8d-bd4c-44c3-c1f0-5919738e3fc8",
        "colab": {
          "base_uri": "https://localhost:8080/"
        }
      },
      "execution_count": null,
      "outputs": [
        {
          "output_type": "stream",
          "name": "stdout",
          "text": [
            "u64 maxInputLength_ = 48 * 1024;\n",
            "u64 maxCommentLength_ = 48 * 1024;\n"
          ]
        }
      ]
    },
    {
      "cell_type": "code",
      "source": [
        "# build jumanpp\n",
        "%cd jumanpp-2.0.0-rc3/\n",
        "!mkdir build"
      ],
      "metadata": {
        "id": "jb-9oXLNIVhp",
        "outputId": "a93f9417-ae31-442b-c36a-853a05ec0931",
        "colab": {
          "base_uri": "https://localhost:8080/"
        }
      },
      "execution_count": null,
      "outputs": [
        {
          "output_type": "stream",
          "name": "stdout",
          "text": [
            "/content/jumanpp-2.0.0-rc3\n"
          ]
        }
      ]
    },
    {
      "cell_type": "code",
      "source": [
        "!cmake . -DCMAKE_BUILD_TYPE=Release -DCMAKE_INSTALL_PREFIX=/usr/local\n",
        "!make"
      ],
      "metadata": {
        "id": "pDBA9LO5XycJ",
        "outputId": "8911a5ba-ee28-4281-d31b-e8d967695a96",
        "colab": {
          "base_uri": "https://localhost:8080/"
        }
      },
      "execution_count": 15,
      "outputs": [
        {
          "output_type": "stream",
          "name": "stdout",
          "text": [
            "-- The C compiler identification is GNU 7.5.0\n",
            "-- The CXX compiler identification is GNU 7.5.0\n",
            "-- Detecting C compiler ABI info\n",
            "-- Detecting C compiler ABI info - done\n",
            "-- Check for working C compiler: /usr/bin/cc - skipped\n",
            "-- Detecting C compile features\n",
            "-- Detecting C compile features - done\n",
            "-- Detecting CXX compiler ABI info\n",
            "-- Detecting CXX compiler ABI info - done\n",
            "-- Check for working CXX compiler: /usr/bin/c++ - skipped\n",
            "-- Detecting CXX compile features\n",
            "-- Detecting CXX compile features - done\n",
            "\u001b[0m2.0.0-rc3\u001b[0m\n",
            "-- Looking for pthread.h\n",
            "-- Looking for pthread.h - found\n",
            "-- Performing Test CMAKE_HAVE_LIBC_PTHREAD\n",
            "-- Performing Test CMAKE_HAVE_LIBC_PTHREAD - Failed\n",
            "-- Looking for pthread_create in pthreads\n",
            "-- Looking for pthread_create in pthreads - not found\n",
            "-- Looking for pthread_create in pthread\n",
            "-- Looking for pthread_create in pthread - found\n",
            "-- Found Threads: TRUE  \n",
            "-- Could NOT find Protobuf (missing: Protobuf_LIBRARIES Protobuf_INCLUDE_DIR) \n",
            "\u001b[0mDetecting protobuf... FALSE\u001b[0m\n",
            "\u001b[0mprotobuf library: \u001b[0m\n",
            "\u001b[0mprotoc binary: /usr/bin/protoc\u001b[0m\n",
            "\u001b[0mNot using Protobuf-based components\u001b[0m\n",
            "\u001b[0m-- Eigen3... OK\u001b[0m\n",
            "\u001b[0m\n",
            "    Static feature generation:\n",
            "        COMMAND cgtest02_codegen_binary cgtest02 Test02 /content/jumanpp-2.0.0-rc3/src/core/codegen/gen\n",
            "        DEPENDS cgtest02_codegen_binary cg_2_spec.h\n",
            "        OUTPUT /content/jumanpp-2.0.0-rc3/src/core/codegen/gen/cgtest02.cc /content/jumanpp-2.0.0-rc3/src/core/codegen/gen/cgtest02.h\n",
            "        LIBS jpp_core\n",
            "    \u001b[0m\n",
            "\u001b[0m\n",
            "    Static feature generation:\n",
            "        COMMAND jpp_jumandic_cg_codegen_binary jpp_jumandic_cg JumandicStatic /content/jumanpp-2.0.0-rc3/src/jumandic/gen\n",
            "        DEPENDS jpp_jumandic_cg_codegen_binary shared/jumandic_spec.cc\n",
            "        OUTPUT /content/jumanpp-2.0.0-rc3/src/jumandic/gen/jpp_jumandic_cg.cc /content/jumanpp-2.0.0-rc3/src/jumandic/gen/jpp_jumandic_cg.h\n",
            "        LIBS jpp_jumandic_spec\n",
            "    \u001b[0m\n",
            "\u001b[0m/content/jumanpp-2.0.0-rc3/src/jumandic/gen\u001b[0m\n",
            "-- Configuring done\n",
            "-- Generating done\n",
            "-- Build files have been written to: /content/jumanpp-2.0.0-rc3\n",
            "[  0%] \u001b[32mBuilding CXX object src/util/CMakeFiles/jpp_util.dir/mmap.cc.o\u001b[0m\n",
            "[  1%] \u001b[32mBuilding CXX object src/util/CMakeFiles/jpp_util.dir/memory.cpp.o\u001b[0m\n",
            "[  1%] \u001b[32mBuilding CXX object src/util/CMakeFiles/jpp_util.dir/logging.cpp.o\u001b[0m\n",
            "[  2%] \u001b[32mBuilding CXX object src/util/CMakeFiles/jpp_util.dir/string_piece.cc.o\u001b[0m\n",
            "[  2%] \u001b[32mBuilding CXX object src/util/CMakeFiles/jpp_util.dir/status.cpp.o\u001b[0m\n",
            "[  3%] \u001b[32mBuilding CXX object src/util/CMakeFiles/jpp_util.dir/csv_reader.cc.o\u001b[0m\n",
            "[  3%] \u001b[32mBuilding CXX object src/util/CMakeFiles/jpp_util.dir/coded_io.cc.o\u001b[0m\n",
            "[  4%] \u001b[32mBuilding CXX object src/util/CMakeFiles/jpp_util.dir/characters.cc.o\u001b[0m\n",
            "[  4%] \u001b[32mBuilding CXX object src/util/CMakeFiles/jpp_util.dir/printer.cc.o\u001b[0m\n",
            "[  5%] \u001b[32mBuilding CXX object src/util/CMakeFiles/jpp_util.dir/codegen.cc.o\u001b[0m\n",
            "[  5%] \u001b[32mBuilding CXX object src/util/CMakeFiles/jpp_util.dir/assert.cc.o\u001b[0m\n",
            "[  6%] \u001b[32mBuilding CXX object src/util/CMakeFiles/jpp_util.dir/format.cc.o\u001b[0m\n",
            "[  6%] \u001b[32mBuilding CXX object src/util/CMakeFiles/jpp_util.dir/parse_utils.cc.o\u001b[0m\n",
            "[  6%] \u001b[32m\u001b[1mLinking CXX static library libjpp_util.a\u001b[0m\n",
            "[  6%] Built target jpp_util\n",
            "[  6%] \u001b[32mBuilding CXX object src/testing/CMakeFiles/jpp_test_catch_main_lib.dir/catch_main.cc.o\u001b[0m\n",
            "[  7%] \u001b[32m\u001b[1mLinking CXX static library libjpp_test_catch_main_lib.a\u001b[0m\n",
            "[  7%] Built target jpp_test_catch_main_lib\n",
            "[  8%] \u001b[32mBuilding CXX object src/util/CMakeFiles/jpp_util_test.dir/memory_test.cpp.o\u001b[0m\n",
            "[  8%] \u001b[32mBuilding CXX object src/util/CMakeFiles/jpp_util_test.dir/mmap_test.cc.o\u001b[0m\n",
            "In file included from \u001b[01m\u001b[K/content/jumanpp-2.0.0-rc3/src/util/mmap_test.cc:10:0\u001b[m\u001b[K:\n",
            "\u001b[01m\u001b[K/content/jumanpp-2.0.0-rc3/src/testing/standalone_test.h:\u001b[m\u001b[K In constructor ‘\u001b[01m\u001b[KTempFile::TempFile()\u001b[m\u001b[K’:\n",
            "\u001b[01m\u001b[K/content/jumanpp-2.0.0-rc3/src/testing/standalone_test.h:104:16:\u001b[m\u001b[K \u001b[01;35m\u001b[Kwarning: \u001b[m\u001b[Kignoring return value of ‘\u001b[01m\u001b[Kchar* tmpnam(char*)\u001b[m\u001b[K’, declared with attribute warn_unused_result [\u001b[01;35m\u001b[K-Wunused-result\u001b[m\u001b[K]\n",
            "     \u001b[01;35m\u001b[Kstd::tmpnam(buffer)\u001b[m\u001b[K;\n",
            "     \u001b[01;35m\u001b[K~~~~~~~~~~~^~~~~~~~\u001b[m\u001b[K\n",
            "[  9%] \u001b[32mBuilding CXX object src/util/CMakeFiles/jpp_util_test.dir/string_piece_test.cc.o\u001b[0m\n",
            "[  9%] \u001b[32mBuilding CXX object src/util/CMakeFiles/jpp_util_test.dir/csv_reader_test.cc.o\u001b[0m\n",
            "[ 10%] \u001b[32mBuilding CXX object src/util/CMakeFiles/jpp_util_test.dir/coded_io_test.cc.o\u001b[0m\n",
            "[ 10%] \u001b[32mBuilding CXX object src/util/CMakeFiles/jpp_util_test.dir/characters_test.cpp.o\u001b[0m\n",
            "[ 11%] \u001b[32mBuilding CXX object src/util/CMakeFiles/jpp_util_test.dir/hashing_test.cc.o\u001b[0m\n",
            "[ 11%] \u001b[32mBuilding CXX object src/util/CMakeFiles/jpp_util_test.dir/array_slice_test.cc.o\u001b[0m\n",
            "[ 12%] \u001b[32mBuilding CXX object src/util/CMakeFiles/jpp_util_test.dir/inlined_vector_test.cc.o\u001b[0m\n",
            "[ 12%] \u001b[32mBuilding CXX object src/util/CMakeFiles/jpp_util_test.dir/status_test.cpp.o\u001b[0m\n",
            "[ 13%] \u001b[32mBuilding CXX object src/util/CMakeFiles/jpp_util_test.dir/serialization_test.cc.o\u001b[0m\n",
            "[ 13%] \u001b[32mBuilding CXX object src/util/CMakeFiles/jpp_util_test.dir/printer_test.cc.o\u001b[0m\n",
            "[ 14%] \u001b[32mBuilding CXX object src/util/CMakeFiles/jpp_util_test.dir/array_slice_util_test.cc.o\u001b[0m\n",
            "[ 14%] \u001b[32mBuilding CXX object src/util/CMakeFiles/jpp_util_test.dir/lazy_test.cc.o\u001b[0m\n",
            "[ 15%] \u001b[32mBuilding CXX object src/util/CMakeFiles/jpp_util_test.dir/seahash_test.cc.o\u001b[0m\n",
            "[ 15%] \u001b[32mBuilding CXX object src/util/CMakeFiles/jpp_util_test.dir/fast_hash_test.cc.o\u001b[0m\n",
            "[ 16%] \u001b[32mBuilding CXX object src/util/CMakeFiles/jpp_util_test.dir/stl_util_test.cc.o\u001b[0m\n",
            "[ 16%] \u001b[32mBuilding CXX object src/util/CMakeFiles/jpp_util_test.dir/parse_utils_test.cc.o\u001b[0m\n",
            "[ 16%] \u001b[32m\u001b[1mLinking CXX executable jpp_util_test\u001b[0m\n",
            "CMakeFiles/jpp_util_test.dir/mmap_test.cc.o: In function `____C_A_T_C_H____T_E_S_T____2()':\n",
            "mmap_test.cc:(.text+0x61): warning: the use of `tmpnam' is dangerous, better use `mkstemp'\n",
            "[ 16%] Built target jpp_util_test\n",
            "[ 16%] \u001b[32mBuilding CXX object src/testing/CMakeFiles/testing_infra_test.dir/read_file_test.cc.o\u001b[0m\n",
            "[ 17%] \u001b[32m\u001b[1mLinking CXX executable testing_infra_test\u001b[0m\n",
            "[ 17%] Built target testing_infra_test\n",
            "[ 17%] \u001b[32mBuilding CXX object src/rnn/CMakeFiles/jpp_rnn.dir/mikolov_rnn.cc.o\u001b[0m\n",
            "[ 18%] \u001b[32m\u001b[1mLinking CXX static library libjpp_rnn.a\u001b[0m\n",
            "[ 18%] Built target jpp_rnn\n",
            "[ 18%] \u001b[32mBuilding CXX object libs/pathie-cpp/CMakeFiles/pathie.dir/src/errors.cpp.o\u001b[0m\n",
            "[ 19%] \u001b[32mBuilding CXX object libs/pathie-cpp/CMakeFiles/pathie.dir/src/entry_iterator.cpp.o\u001b[0m\n",
            "[ 19%] \u001b[32mBuilding CXX object libs/pathie-cpp/CMakeFiles/pathie.dir/src/path.cpp.o\u001b[0m\n",
            "\u001b[01m\u001b[K/content/jumanpp-2.0.0-rc3/libs/pathie-cpp/src/path.cpp:\u001b[m\u001b[K In static member function ‘\u001b[01m\u001b[Kstatic std::__cxx11::string Pathie::Path::get_xdg_userdir_setting(const string&)\u001b[m\u001b[K’:\n",
            "\u001b[01m\u001b[K/content/jumanpp-2.0.0-rc3/libs/pathie-cpp/src/path.cpp:2283:12:\u001b[m\u001b[K \u001b[01;35m\u001b[Kwarning: \u001b[m\u001b[Kignoring return value of ‘\u001b[01m\u001b[Kchar* fgets(char*, int, FILE*)\u001b[m\u001b[K’, declared with attribute warn_unused_result [\u001b[01;35m\u001b[K-Wunused-result\u001b[m\u001b[K]\n",
            "       \u001b[01;35m\u001b[Kfgets(line, 256, p_file)\u001b[m\u001b[K;\n",
            "       \u001b[01;35m\u001b[K~~~~~^~~~~~~~~~~~~~~~~~~\u001b[m\u001b[K\n",
            "[ 20%] \u001b[32mBuilding CXX object libs/pathie-cpp/CMakeFiles/pathie.dir/src/temp.cpp.o\u001b[0m\n",
            "[ 20%] \u001b[32mBuilding CXX object libs/pathie-cpp/CMakeFiles/pathie.dir/src/pathie.cpp.o\u001b[0m\n",
            "[ 21%] \u001b[32m\u001b[1mLinking CXX static library libpathie.a\u001b[0m\n",
            "[ 21%] Built target pathie\n",
            "[ 22%] \u001b[32mBuilding CXX object src/core/CMakeFiles/jpp_core.dir/core.cc.o\u001b[0m\n",
            "[ 22%] \u001b[32mBuilding CXX object src/core/CMakeFiles/jpp_core.dir/env.cc.o\u001b[0m\n",
            "[ 23%] \u001b[32mBuilding CXX object src/core/CMakeFiles/jpp_core.dir/features_api.cc.o\u001b[0m\n",
            "[ 23%] \u001b[32mBuilding CXX object src/core/CMakeFiles/jpp_core.dir/analysis/analysis_input.cc.o\u001b[0m\n",
            "[ 24%] \u001b[32mBuilding CXX object src/core/CMakeFiles/jpp_core.dir/analysis/analysis_result.cc.o\u001b[0m\n",
            "[ 24%] \u001b[32mBuilding CXX object src/core/CMakeFiles/jpp_core.dir/analysis/analyzer.cc.o\u001b[0m\n",
            "[ 25%] \u001b[32mBuilding CXX object src/core/CMakeFiles/jpp_core.dir/analysis/analyzer_impl.cc.o\u001b[0m\n",
            "[ 25%] \u001b[32mBuilding CXX object src/core/CMakeFiles/jpp_core.dir/analysis/charlattice.cc.o\u001b[0m\n",
            "[ 26%] \u001b[32mBuilding CXX object src/core/CMakeFiles/jpp_core.dir/analysis/dic_reader.cc.o\u001b[0m\n",
            "[ 26%] \u001b[32mBuilding CXX object src/core/CMakeFiles/jpp_core.dir/analysis/dictionary_node_creator.cc.o\u001b[0m\n",
            "[ 26%] \u001b[32mBuilding CXX object src/core/CMakeFiles/jpp_core.dir/analysis/extra_nodes.cc.o\u001b[0m\n",
            "[ 27%] \u001b[32mBuilding CXX object src/core/CMakeFiles/jpp_core.dir/analysis/innode_features.cc.o\u001b[0m\n",
            "[ 27%] \u001b[32mBuilding CXX object src/core/CMakeFiles/jpp_core.dir/analysis/lattice_builder.cc.o\u001b[0m\n",
            "[ 28%] \u001b[32mBuilding CXX object src/core/CMakeFiles/jpp_core.dir/analysis/lattice_config.cc.o\u001b[0m\n",
            "[ 28%] \u001b[32mBuilding CXX object src/core/CMakeFiles/jpp_core.dir/analysis/lattice_types.cc.o\u001b[0m\n",
            "[ 29%] \u001b[32mBuilding CXX object src/core/CMakeFiles/jpp_core.dir/analysis/ngram_computations.cc.o\u001b[0m\n",
            "[ 29%] \u001b[32mBuilding CXX object src/core/CMakeFiles/jpp_core.dir/analysis/normalized_node_creator.cc.o\u001b[0m\n",
            "[ 30%] \u001b[32mBuilding CXX object src/core/CMakeFiles/jpp_core.dir/analysis/numeric_creator.cc.o\u001b[0m\n",
            "[ 30%] \u001b[32mBuilding CXX object src/core/CMakeFiles/jpp_core.dir/analysis/onomatopoeia_creator.cc.o\u001b[0m\n",
            "[ 31%] \u001b[32mBuilding CXX object src/core/CMakeFiles/jpp_core.dir/analysis/output.cc.o\u001b[0m\n",
            "[ 31%] \u001b[32mBuilding CXX object src/core/CMakeFiles/jpp_core.dir/analysis/perceptron.cc.o\u001b[0m\n",
            "[ 32%] \u001b[32mBuilding CXX object src/core/CMakeFiles/jpp_core.dir/analysis/rnn_id_resolver.cc.o\u001b[0m\n",
            "[ 32%] \u001b[32mBuilding CXX object src/core/CMakeFiles/jpp_core.dir/analysis/rnn_scorer.cc.o\u001b[0m\n",
            "[ 33%] \u001b[32mBuilding CXX object src/core/CMakeFiles/jpp_core.dir/analysis/rnn_scorer_gbeam.cc.o\u001b[0m\n",
            "[ 33%] \u001b[32mBuilding CXX object src/core/CMakeFiles/jpp_core.dir/analysis/score_processor.cc.o\u001b[0m\n",
            "[ 34%] \u001b[32mBuilding CXX object src/core/CMakeFiles/jpp_core.dir/analysis/unk_nodes.cc.o\u001b[0m\n",
            "[ 34%] \u001b[32mBuilding CXX object src/core/CMakeFiles/jpp_core.dir/analysis/unk_nodes_creator.cc.o\u001b[0m\n",
            "[ 35%] \u001b[32mBuilding CXX object src/core/CMakeFiles/jpp_core.dir/dic/darts_trie.cc.o\u001b[0m\n",
            "[ 35%] \u001b[32mBuilding CXX object src/core/CMakeFiles/jpp_core.dir/dic/dic_build_detail.cc.o\u001b[0m\n",
            "[ 35%] \u001b[32mBuilding CXX object src/core/CMakeFiles/jpp_core.dir/dic/dic_builder.cc.o\u001b[0m\n",
            "[ 36%] \u001b[32mBuilding CXX object src/core/CMakeFiles/jpp_core.dir/dic/dictionary.cc.o\u001b[0m\n",
            "[ 36%] \u001b[32mBuilding CXX object src/core/CMakeFiles/jpp_core.dir/dic/dic_feature_impl.cc.o\u001b[0m\n",
            "[ 37%] \u001b[32mBuilding CXX object src/core/CMakeFiles/jpp_core.dir/dic/entry_builder.cc.o\u001b[0m\n",
            "[ 37%] \u001b[32mBuilding CXX object src/core/CMakeFiles/jpp_core.dir/dic/field_import.cc.o\u001b[0m\n",
            "[ 38%] \u001b[32mBuilding CXX object src/core/CMakeFiles/jpp_core.dir/impl/feature_computer.cc.o\u001b[0m\n",
            "[ 38%] \u001b[32mBuilding CXX object src/core/CMakeFiles/jpp_core.dir/impl/feature_debug.cc.o\u001b[0m\n",
            "[ 39%] \u001b[32mBuilding CXX object src/core/CMakeFiles/jpp_core.dir/impl/feature_impl_combine.cc.o\u001b[0m\n",
            "[ 39%] \u001b[32mBuilding CXX object src/core/CMakeFiles/jpp_core.dir/impl/feature_impl_compute.cc.o\u001b[0m\n",
            "[ 40%] \u001b[32mBuilding CXX object src/core/CMakeFiles/jpp_core.dir/impl/feature_impl_ngram_partial.cc.o\u001b[0m\n",
            "[ 40%] \u001b[32mBuilding CXX object src/core/CMakeFiles/jpp_core.dir/impl/feature_impl_pattern.cc.o\u001b[0m\n",
            "[ 41%] \u001b[32mBuilding CXX object src/core/CMakeFiles/jpp_core.dir/impl/feature_impl_prim.cc.o\u001b[0m\n",
            "[ 41%] \u001b[32mBuilding CXX object src/core/CMakeFiles/jpp_core.dir/impl/global_beam_position_fmt.cc.o\u001b[0m\n",
            "[ 42%] \u001b[32mBuilding CXX object src/core/CMakeFiles/jpp_core.dir/impl/graphviz_format.cc.o\u001b[0m\n",
            "[ 42%] \u001b[32mBuilding CXX object src/core/CMakeFiles/jpp_core.dir/impl/model_io.cc.o\u001b[0m\n",
            "[ 43%] \u001b[32mBuilding CXX object src/core/CMakeFiles/jpp_core.dir/impl/segmented_format.cc.o\u001b[0m\n",
            "[ 43%] \u001b[32mBuilding CXX object src/core/CMakeFiles/jpp_core.dir/input/partial_example.cc.o\u001b[0m\n",
            "[ 44%] \u001b[32mBuilding CXX object src/core/CMakeFiles/jpp_core.dir/input/partial_example_io.cc.o\u001b[0m\n",
            "[ 44%] \u001b[32mBuilding CXX object src/core/CMakeFiles/jpp_core.dir/input/pex_stream_reader.cc.o\u001b[0m\n",
            "[ 44%] \u001b[32mBuilding CXX object src/core/CMakeFiles/jpp_core.dir/input/stream_reader.cc.o\u001b[0m\n",
            "[ 45%] \u001b[32mBuilding CXX object src/core/CMakeFiles/jpp_core.dir/input/training_io.cc.o\u001b[0m\n",
            "[ 45%] \u001b[32mBuilding CXX object src/core/CMakeFiles/jpp_core.dir/spec/spec_compiler.cc.o\u001b[0m\n",
            "[ 46%] \u001b[32mBuilding CXX object src/core/CMakeFiles/jpp_core.dir/spec/spec_dsl.cc.o\u001b[0m\n",
            "[ 46%] \u001b[32mBuilding CXX object src/core/CMakeFiles/jpp_core.dir/spec/spec_hashing.cc.o\u001b[0m\n",
            "[ 47%] \u001b[32mBuilding CXX object src/core/CMakeFiles/jpp_core.dir/spec/spec_parser.cc.o\u001b[0m\n",
            "[ 47%] \u001b[32mBuilding CXX object src/core/CMakeFiles/jpp_core.dir/spec/spec_parser_impl.cc.o\u001b[0m\n",
            "[ 48%] \u001b[32mBuilding CXX object src/core/CMakeFiles/jpp_core.dir/spec/spec_serialization.cc.o\u001b[0m\n",
            "[ 48%] \u001b[32mBuilding CXX object src/core/CMakeFiles/jpp_core.dir/spec/spec_types.cc.o\u001b[0m\n",
            "[ 49%] \u001b[32m\u001b[1mLinking CXX static library libjpp_core.a\u001b[0m\n",
            "[ 49%] Built target jpp_core\n",
            "[ 50%] \u001b[32mBuilding CXX object src/core/training/CMakeFiles/jpp_core_train.dir/full_example.cc.o\u001b[0m\n",
            "[ 50%] \u001b[32mBuilding CXX object src/core/training/CMakeFiles/jpp_core_train.dir/gold_example.cc.o\u001b[0m\n",
            "[ 51%] \u001b[32mBuilding CXX object src/core/training/CMakeFiles/jpp_core_train.dir/loss.cc.o\u001b[0m\n",
            "[ 51%] \u001b[32mBuilding CXX object src/core/training/CMakeFiles/jpp_core_train.dir/partial_trainer.cc.o\u001b[0m\n",
            "[ 52%] \u001b[32mBuilding CXX object src/core/training/CMakeFiles/jpp_core_train.dir/scw.cc.o\u001b[0m\n",
            "[ 52%] \u001b[32mBuilding CXX object src/core/training/CMakeFiles/jpp_core_train.dir/trainer.cc.o\u001b[0m\n",
            "[ 52%] \u001b[32mBuilding CXX object src/core/training/CMakeFiles/jpp_core_train.dir/trainer_base.cc.o\u001b[0m\n",
            "[ 53%] \u001b[32mBuilding CXX object src/core/training/CMakeFiles/jpp_core_train.dir/training_env.cc.o\u001b[0m\n",
            "[ 53%] \u001b[32mBuilding CXX object src/core/training/CMakeFiles/jpp_core_train.dir/training_executor.cc.o\u001b[0m\n",
            "[ 54%] \u001b[32m\u001b[1mLinking CXX static library libjpp_core_train.a\u001b[0m\n",
            "[ 54%] Built target jpp_core_train\n",
            "[ 54%] \u001b[32mBuilding CXX object src/core/CMakeFiles/jpp_core_tests.dir/dic/darts_trie_test.cc.o\u001b[0m\n",
            "[ 55%] \u001b[32mBuilding CXX object src/core/CMakeFiles/jpp_core_tests.dir/dic/dic_deduplication_test.cc.o\u001b[0m\n",
            "In file included from \u001b[01m\u001b[K/content/jumanpp-2.0.0-rc3/src/testing/test_analyzer.h:16:0\u001b[m\u001b[K,\n",
            "                 from \u001b[01m\u001b[K/content/jumanpp-2.0.0-rc3/src/core/test/test_analyzer_env.h:12\u001b[m\u001b[K,\n",
            "                 from \u001b[01m\u001b[K/content/jumanpp-2.0.0-rc3/src/core/dic/dic_deduplication_test.cc:5\u001b[m\u001b[K:\n",
            "\u001b[01m\u001b[K/content/jumanpp-2.0.0-rc3/src/testing/standalone_test.h:\u001b[m\u001b[K In constructor ‘\u001b[01m\u001b[KTempFile::TempFile()\u001b[m\u001b[K’:\n",
            "\u001b[01m\u001b[K/content/jumanpp-2.0.0-rc3/src/testing/standalone_test.h:104:16:\u001b[m\u001b[K \u001b[01;35m\u001b[Kwarning: \u001b[m\u001b[Kignoring return value of ‘\u001b[01m\u001b[Kchar* tmpnam(char*)\u001b[m\u001b[K’, declared with attribute warn_unused_result [\u001b[01;35m\u001b[K-Wunused-result\u001b[m\u001b[K]\n",
            "     \u001b[01;35m\u001b[Kstd::tmpnam(buffer)\u001b[m\u001b[K;\n",
            "     \u001b[01;35m\u001b[K~~~~~~~~~~~^~~~~~~~\u001b[m\u001b[K\n",
            "[ 55%] \u001b[32mBuilding CXX object src/core/CMakeFiles/jpp_core_tests.dir/dic/dictionary_test.cc.o\u001b[0m\n",
            "[ 55%] \u001b[32mBuilding CXX object src/core/CMakeFiles/jpp_core_tests.dir/dic/field_import_test.cc.o\u001b[0m\n",
            "[ 56%] \u001b[32mBuilding CXX object src/core/CMakeFiles/jpp_core_tests.dir/dic/field_reader_test.cc.o\u001b[0m\n",
            "[ 56%] \u001b[32mBuilding CXX object src/core/CMakeFiles/jpp_core_tests.dir/impl/aligned_field_test.cc.o\u001b[0m\n",
            "In file included from \u001b[01m\u001b[K/content/jumanpp-2.0.0-rc3/src/testing/test_analyzer.h:16:0\u001b[m\u001b[K,\n",
            "                 from \u001b[01m\u001b[K/content/jumanpp-2.0.0-rc3/src/core/impl/aligned_field_test.cc:5\u001b[m\u001b[K:\n",
            "\u001b[01m\u001b[K/content/jumanpp-2.0.0-rc3/src/testing/standalone_test.h:\u001b[m\u001b[K In constructor ‘\u001b[01m\u001b[KTempFile::TempFile()\u001b[m\u001b[K’:\n",
            "\u001b[01m\u001b[K/content/jumanpp-2.0.0-rc3/src/testing/standalone_test.h:104:16:\u001b[m\u001b[K \u001b[01;35m\u001b[Kwarning: \u001b[m\u001b[Kignoring return value of ‘\u001b[01m\u001b[Kchar* tmpnam(char*)\u001b[m\u001b[K’, declared with attribute warn_unused_result [\u001b[01;35m\u001b[K-Wunused-result\u001b[m\u001b[K]\n",
            "     \u001b[01;35m\u001b[Kstd::tmpnam(buffer)\u001b[m\u001b[K;\n",
            "     \u001b[01;35m\u001b[K~~~~~~~~~~~^~~~~~~~\u001b[m\u001b[K\n",
            "[ 57%] \u001b[32mBuilding CXX object src/core/CMakeFiles/jpp_core_tests.dir/impl/feature_impl_combine_test.cc.o\u001b[0m\n",
            "[ 57%] \u001b[32mBuilding CXX object src/core/CMakeFiles/jpp_core_tests.dir/impl/feature_impl_compute_test.cc.o\u001b[0m\n",
            "[ 58%] \u001b[32mBuilding CXX object src/core/CMakeFiles/jpp_core_tests.dir/impl/feature_impl_ngram_partial_test.cc.o\u001b[0m\n",
            "[ 58%] \u001b[32mBuilding CXX object src/core/CMakeFiles/jpp_core_tests.dir/impl/feature_impl_prim_test.cc.o\u001b[0m\n",
            "[ 59%] \u001b[32mBuilding CXX object src/core/CMakeFiles/jpp_core_tests.dir/impl/feature_test.cc.o\u001b[0m\n",
            "In file included from \u001b[01m\u001b[K/content/jumanpp-2.0.0-rc3/src/testing/test_analyzer.h:16:0\u001b[m\u001b[K,\n",
            "                 from \u001b[01m\u001b[K/content/jumanpp-2.0.0-rc3/src/core/test/test_analyzer_env.h:12\u001b[m\u001b[K,\n",
            "                 from \u001b[01m\u001b[K/content/jumanpp-2.0.0-rc3/src/core/impl/feature_test.cc:5\u001b[m\u001b[K:\n",
            "\u001b[01m\u001b[K/content/jumanpp-2.0.0-rc3/src/testing/standalone_test.h:\u001b[m\u001b[K In constructor ‘\u001b[01m\u001b[KTempFile::TempFile()\u001b[m\u001b[K’:\n",
            "\u001b[01m\u001b[K/content/jumanpp-2.0.0-rc3/src/testing/standalone_test.h:104:16:\u001b[m\u001b[K \u001b[01;35m\u001b[Kwarning: \u001b[m\u001b[Kignoring return value of ‘\u001b[01m\u001b[Kchar* tmpnam(char*)\u001b[m\u001b[K’, declared with attribute warn_unused_result [\u001b[01;35m\u001b[K-Wunused-result\u001b[m\u001b[K]\n",
            "     \u001b[01;35m\u001b[Kstd::tmpnam(buffer)\u001b[m\u001b[K;\n",
            "     \u001b[01;35m\u001b[K~~~~~~~~~~~^~~~~~~~\u001b[m\u001b[K\n",
            "[ 59%] \u001b[32mBuilding CXX object src/core/CMakeFiles/jpp_core_tests.dir/impl/graphviz_format_test.cc.o\u001b[0m\n",
            "In file included from \u001b[01m\u001b[K/content/jumanpp-2.0.0-rc3/src/testing/test_analyzer.h:16:0\u001b[m\u001b[K,\n",
            "                 from \u001b[01m\u001b[K/content/jumanpp-2.0.0-rc3/src/core/training/training_test_common.h:11\u001b[m\u001b[K,\n",
            "                 from \u001b[01m\u001b[K/content/jumanpp-2.0.0-rc3/src/core/impl/graphviz_format_test.cc:6\u001b[m\u001b[K:\n",
            "\u001b[01m\u001b[K/content/jumanpp-2.0.0-rc3/src/testing/standalone_test.h:\u001b[m\u001b[K In constructor ‘\u001b[01m\u001b[KTempFile::TempFile()\u001b[m\u001b[K’:\n",
            "\u001b[01m\u001b[K/content/jumanpp-2.0.0-rc3/src/testing/standalone_test.h:104:16:\u001b[m\u001b[K \u001b[01;35m\u001b[Kwarning: \u001b[m\u001b[Kignoring return value of ‘\u001b[01m\u001b[Kchar* tmpnam(char*)\u001b[m\u001b[K’, declared with attribute warn_unused_result [\u001b[01;35m\u001b[K-Wunused-result\u001b[m\u001b[K]\n",
            "     \u001b[01;35m\u001b[Kstd::tmpnam(buffer)\u001b[m\u001b[K;\n",
            "     \u001b[01;35m\u001b[K~~~~~~~~~~~^~~~~~~~\u001b[m\u001b[K\n",
            "[ 60%] \u001b[32mBuilding CXX object src/core/CMakeFiles/jpp_core_tests.dir/impl/kvlist_test.cc.o\u001b[0m\n",
            "In file included from \u001b[01m\u001b[K/content/jumanpp-2.0.0-rc3/src/testing/test_analyzer.h:16:0\u001b[m\u001b[K,\n",
            "                 from \u001b[01m\u001b[K/content/jumanpp-2.0.0-rc3/src/core/impl/kvlist_test.cc:10\u001b[m\u001b[K:\n",
            "\u001b[01m\u001b[K/content/jumanpp-2.0.0-rc3/src/testing/standalone_test.h:\u001b[m\u001b[K In constructor ‘\u001b[01m\u001b[KTempFile::TempFile()\u001b[m\u001b[K’:\n",
            "\u001b[01m\u001b[K/content/jumanpp-2.0.0-rc3/src/testing/standalone_test.h:104:16:\u001b[m\u001b[K \u001b[01;35m\u001b[Kwarning: \u001b[m\u001b[Kignoring return value of ‘\u001b[01m\u001b[Kchar* tmpnam(char*)\u001b[m\u001b[K’, declared with attribute warn_unused_result [\u001b[01;35m\u001b[K-Wunused-result\u001b[m\u001b[K]\n",
            "     \u001b[01;35m\u001b[Kstd::tmpnam(buffer)\u001b[m\u001b[K;\n",
            "     \u001b[01;35m\u001b[K~~~~~~~~~~~^~~~~~~~\u001b[m\u001b[K\n",
            "[ 60%] \u001b[32mBuilding CXX object src/core/CMakeFiles/jpp_core_tests.dir/impl/model_io_test.cc.o\u001b[0m\n",
            "In file included from \u001b[01m\u001b[K/content/jumanpp-2.0.0-rc3/src/core/impl/model_io_test.cc:6:0\u001b[m\u001b[K:\n",
            "\u001b[01m\u001b[K/content/jumanpp-2.0.0-rc3/src/testing/standalone_test.h:\u001b[m\u001b[K In constructor ‘\u001b[01m\u001b[KTempFile::TempFile()\u001b[m\u001b[K’:\n",
            "\u001b[01m\u001b[K/content/jumanpp-2.0.0-rc3/src/testing/standalone_test.h:104:16:\u001b[m\u001b[K \u001b[01;35m\u001b[Kwarning: \u001b[m\u001b[Kignoring return value of ‘\u001b[01m\u001b[Kchar* tmpnam(char*)\u001b[m\u001b[K’, declared with attribute warn_unused_result [\u001b[01;35m\u001b[K-Wunused-result\u001b[m\u001b[K]\n",
            "     \u001b[01;35m\u001b[Kstd::tmpnam(buffer)\u001b[m\u001b[K;\n",
            "     \u001b[01;35m\u001b[K~~~~~~~~~~~^~~~~~~~\u001b[m\u001b[K\n",
            "[ 61%] \u001b[32mBuilding CXX object src/core/CMakeFiles/jpp_core_tests.dir/input/partial_example_io_test.cc.o\u001b[0m\n",
            "In file included from \u001b[01m\u001b[K/content/jumanpp-2.0.0-rc3/src/testing/test_analyzer.h:16:0\u001b[m\u001b[K,\n",
            "                 from \u001b[01m\u001b[K/content/jumanpp-2.0.0-rc3/src/core/training/training_test_common.h:11\u001b[m\u001b[K,\n",
            "                 from \u001b[01m\u001b[K/content/jumanpp-2.0.0-rc3/src/core/input/partial_example_io_test.cc:6\u001b[m\u001b[K:\n",
            "\u001b[01m\u001b[K/content/jumanpp-2.0.0-rc3/src/testing/standalone_test.h:\u001b[m\u001b[K In constructor ‘\u001b[01m\u001b[KTempFile::TempFile()\u001b[m\u001b[K’:\n",
            "\u001b[01m\u001b[K/content/jumanpp-2.0.0-rc3/src/testing/standalone_test.h:104:16:\u001b[m\u001b[K \u001b[01;35m\u001b[Kwarning: \u001b[m\u001b[Kignoring return value of ‘\u001b[01m\u001b[Kchar* tmpnam(char*)\u001b[m\u001b[K’, declared with attribute warn_unused_result [\u001b[01;35m\u001b[K-Wunused-result\u001b[m\u001b[K]\n",
            "     \u001b[01;35m\u001b[Kstd::tmpnam(buffer)\u001b[m\u001b[K;\n",
            "     \u001b[01;35m\u001b[K~~~~~~~~~~~^~~~~~~~\u001b[m\u001b[K\n",
            "[ 61%] \u001b[32m\u001b[1mLinking CXX executable jpp_core_tests\u001b[0m\n",
            "CMakeFiles/jpp_core_tests.dir/dic/dic_deduplication_test.cc.o: In function `tests::PrimFeatureTestEnv::PrimFeatureTestEnv<____C_A_T_C_H____T_E_S_T____6()::{lambda(jumanpp::core::spec::dsl::ModelSpecBuilder&, tests::FeatureSet)#1}>(jumanpp::StringPiece, ____C_A_T_C_H____T_E_S_T____6()::{lambda(jumanpp::core::spec::dsl::ModelSpecBuilder&, tests::FeatureSet)#1}, int, int) [clone .isra.424] [clone .constprop.435]':\n",
            "dic_deduplication_test.cc:(.text+0x60d): warning: the use of `tmpnam' is dangerous, better use `mkstemp'\n",
            "[ 61%] Built target jpp_core_tests\n",
            "[ 61%] \u001b[32mBuilding CXX object src/core/analysis/CMakeFiles/jpp_core_analysis_tests.dir/analyzer_impl_test.cc.o\u001b[0m\n",
            "In file included from \u001b[01m\u001b[K/content/jumanpp-2.0.0-rc3/src/testing/test_analyzer.h:16:0\u001b[m\u001b[K,\n",
            "                 from \u001b[01m\u001b[K/content/jumanpp-2.0.0-rc3/src/core/test/test_analyzer_env.h:12\u001b[m\u001b[K,\n",
            "                 from \u001b[01m\u001b[K/content/jumanpp-2.0.0-rc3/src/core/analysis/analyzer_impl_test.cc:5\u001b[m\u001b[K:\n",
            "\u001b[01m\u001b[K/content/jumanpp-2.0.0-rc3/src/testing/standalone_test.h:\u001b[m\u001b[K In constructor ‘\u001b[01m\u001b[KTempFile::TempFile()\u001b[m\u001b[K’:\n",
            "\u001b[01m\u001b[K/content/jumanpp-2.0.0-rc3/src/testing/standalone_test.h:104:16:\u001b[m\u001b[K \u001b[01;35m\u001b[Kwarning: \u001b[m\u001b[Kignoring return value of ‘\u001b[01m\u001b[Kchar* tmpnam(char*)\u001b[m\u001b[K’, declared with attribute warn_unused_result [\u001b[01;35m\u001b[K-Wunused-result\u001b[m\u001b[K]\n",
            "     \u001b[01;35m\u001b[Kstd::tmpnam(buffer)\u001b[m\u001b[K;\n",
            "     \u001b[01;35m\u001b[K~~~~~~~~~~~^~~~~~~~\u001b[m\u001b[K\n",
            "[ 62%] \u001b[32mBuilding CXX object src/core/analysis/CMakeFiles/jpp_core_analysis_tests.dir/charlattice_test.cc.o\u001b[0m\n",
            "In file included from \u001b[01m\u001b[K/content/jumanpp-2.0.0-rc3/src/testing/test_analyzer.h:16:0\u001b[m\u001b[K,\n",
            "                 from \u001b[01m\u001b[K/content/jumanpp-2.0.0-rc3/src/core/analysis/charlattice_test.cc:10\u001b[m\u001b[K:\n",
            "\u001b[01m\u001b[K/content/jumanpp-2.0.0-rc3/src/testing/standalone_test.h:\u001b[m\u001b[K In constructor ‘\u001b[01m\u001b[KTempFile::TempFile()\u001b[m\u001b[K’:\n",
            "\u001b[01m\u001b[K/content/jumanpp-2.0.0-rc3/src/testing/standalone_test.h:104:16:\u001b[m\u001b[K \u001b[01;35m\u001b[Kwarning: \u001b[m\u001b[Kignoring return value of ‘\u001b[01m\u001b[Kchar* tmpnam(char*)\u001b[m\u001b[K’, declared with attribute warn_unused_result [\u001b[01;35m\u001b[K-Wunused-result\u001b[m\u001b[K]\n",
            "     \u001b[01;35m\u001b[Kstd::tmpnam(buffer)\u001b[m\u001b[K;\n",
            "     \u001b[01;35m\u001b[K~~~~~~~~~~~^~~~~~~~\u001b[m\u001b[K\n",
            "[ 62%] \u001b[32mBuilding CXX object src/core/analysis/CMakeFiles/jpp_core_analysis_tests.dir/dictionary_node_creator_test.cc.o\u001b[0m\n",
            "In file included from \u001b[01m\u001b[K/content/jumanpp-2.0.0-rc3/src/testing/test_analyzer.h:16:0\u001b[m\u001b[K,\n",
            "                 from \u001b[01m\u001b[K/content/jumanpp-2.0.0-rc3/src/core/analysis/dictionary_node_creator_test.cc:9\u001b[m\u001b[K:\n",
            "\u001b[01m\u001b[K/content/jumanpp-2.0.0-rc3/src/testing/standalone_test.h:\u001b[m\u001b[K In constructor ‘\u001b[01m\u001b[KTempFile::TempFile()\u001b[m\u001b[K’:\n",
            "\u001b[01m\u001b[K/content/jumanpp-2.0.0-rc3/src/testing/standalone_test.h:104:16:\u001b[m\u001b[K \u001b[01;35m\u001b[Kwarning: \u001b[m\u001b[Kignoring return value of ‘\u001b[01m\u001b[Kchar* tmpnam(char*)\u001b[m\u001b[K’, declared with attribute warn_unused_result [\u001b[01;35m\u001b[K-Wunused-result\u001b[m\u001b[K]\n",
            "     \u001b[01;35m\u001b[Kstd::tmpnam(buffer)\u001b[m\u001b[K;\n",
            "     \u001b[01;35m\u001b[K~~~~~~~~~~~^~~~~~~~\u001b[m\u001b[K\n",
            "[ 63%] \u001b[32mBuilding CXX object src/core/analysis/CMakeFiles/jpp_core_analysis_tests.dir/lattice_builder_test.cc.o\u001b[0m\n",
            "In file included from \u001b[01m\u001b[K/content/jumanpp-2.0.0-rc3/src/testing/test_analyzer.h:16:0\u001b[m\u001b[K,\n",
            "                 from \u001b[01m\u001b[K/content/jumanpp-2.0.0-rc3/src/core/analysis/lattice_builder_test.cc:5\u001b[m\u001b[K:\n",
            "\u001b[01m\u001b[K/content/jumanpp-2.0.0-rc3/src/testing/standalone_test.h:\u001b[m\u001b[K In constructor ‘\u001b[01m\u001b[KTempFile::TempFile()\u001b[m\u001b[K’:\n",
            "\u001b[01m\u001b[K/content/jumanpp-2.0.0-rc3/src/testing/standalone_test.h:104:16:\u001b[m\u001b[K \u001b[01;35m\u001b[Kwarning: \u001b[m\u001b[Kignoring return value of ‘\u001b[01m\u001b[Kchar* tmpnam(char*)\u001b[m\u001b[K’, declared with attribute warn_unused_result [\u001b[01;35m\u001b[K-Wunused-result\u001b[m\u001b[K]\n",
            "     \u001b[01;35m\u001b[Kstd::tmpnam(buffer)\u001b[m\u001b[K;\n",
            "     \u001b[01;35m\u001b[K~~~~~~~~~~~^~~~~~~~\u001b[m\u001b[K\n",
            "[ 63%] \u001b[32mBuilding CXX object src/core/analysis/CMakeFiles/jpp_core_analysis_tests.dir/lattice_compactor_test.cc.o\u001b[0m\n",
            "In file included from \u001b[01m\u001b[K/content/jumanpp-2.0.0-rc3/src/testing/test_analyzer.h:16:0\u001b[m\u001b[K,\n",
            "                 from \u001b[01m\u001b[K/content/jumanpp-2.0.0-rc3/src/core/analysis/lattice_compactor_test.cc:5\u001b[m\u001b[K:\n",
            "\u001b[01m\u001b[K/content/jumanpp-2.0.0-rc3/src/testing/standalone_test.h:\u001b[m\u001b[K In constructor ‘\u001b[01m\u001b[KTempFile::TempFile()\u001b[m\u001b[K’:\n",
            "\u001b[01m\u001b[K/content/jumanpp-2.0.0-rc3/src/testing/standalone_test.h:104:16:\u001b[m\u001b[K \u001b[01;35m\u001b[Kwarning: \u001b[m\u001b[Kignoring return value of ‘\u001b[01m\u001b[Kchar* tmpnam(char*)\u001b[m\u001b[K’, declared with attribute warn_unused_result [\u001b[01;35m\u001b[K-Wunused-result\u001b[m\u001b[K]\n",
            "     \u001b[01;35m\u001b[Kstd::tmpnam(buffer)\u001b[m\u001b[K;\n",
            "     \u001b[01;35m\u001b[K~~~~~~~~~~~^~~~~~~~\u001b[m\u001b[K\n",
            "[ 64%] \u001b[32mBuilding CXX object src/core/analysis/CMakeFiles/jpp_core_analysis_tests.dir/lattice_types_test.cc.o\u001b[0m\n",
            "[ 64%] \u001b[32mBuilding CXX object src/core/analysis/CMakeFiles/jpp_core_analysis_tests.dir/normalized_node_creator_test.cc.o\u001b[0m\n",
            "In file included from \u001b[01m\u001b[K/content/jumanpp-2.0.0-rc3/src/testing/test_analyzer.h:16:0\u001b[m\u001b[K,\n",
            "                 from \u001b[01m\u001b[K/content/jumanpp-2.0.0-rc3/src/core/analysis/normalized_node_creator_test.cc:6\u001b[m\u001b[K:\n",
            "\u001b[01m\u001b[K/content/jumanpp-2.0.0-rc3/src/testing/standalone_test.h:\u001b[m\u001b[K In constructor ‘\u001b[01m\u001b[KTempFile::TempFile()\u001b[m\u001b[K’:\n",
            "\u001b[01m\u001b[K/content/jumanpp-2.0.0-rc3/src/testing/standalone_test.h:104:16:\u001b[m\u001b[K \u001b[01;35m\u001b[Kwarning: \u001b[m\u001b[Kignoring return value of ‘\u001b[01m\u001b[Kchar* tmpnam(char*)\u001b[m\u001b[K’, declared with attribute warn_unused_result [\u001b[01;35m\u001b[K-Wunused-result\u001b[m\u001b[K]\n",
            "     \u001b[01;35m\u001b[Kstd::tmpnam(buffer)\u001b[m\u001b[K;\n",
            "     \u001b[01;35m\u001b[K~~~~~~~~~~~^~~~~~~~\u001b[m\u001b[K\n",
            "[ 65%] \u001b[32mBuilding CXX object src/core/analysis/CMakeFiles/jpp_core_analysis_tests.dir/numeric_creator_test.cc.o\u001b[0m\n",
            "In file included from \u001b[01m\u001b[K/content/jumanpp-2.0.0-rc3/src/testing/test_analyzer.h:16:0\u001b[m\u001b[K,\n",
            "                 from \u001b[01m\u001b[K/content/jumanpp-2.0.0-rc3/src/core/analysis/numeric_creator_test.cc:6\u001b[m\u001b[K:\n",
            "\u001b[01m\u001b[K/content/jumanpp-2.0.0-rc3/src/testing/standalone_test.h:\u001b[m\u001b[K In constructor ‘\u001b[01m\u001b[KTempFile::TempFile()\u001b[m\u001b[K’:\n",
            "\u001b[01m\u001b[K/content/jumanpp-2.0.0-rc3/src/testing/standalone_test.h:104:16:\u001b[m\u001b[K \u001b[01;35m\u001b[Kwarning: \u001b[m\u001b[Kignoring return value of ‘\u001b[01m\u001b[Kchar* tmpnam(char*)\u001b[m\u001b[K’, declared with attribute warn_unused_result [\u001b[01;35m\u001b[K-Wunused-result\u001b[m\u001b[K]\n",
            "     \u001b[01;35m\u001b[Kstd::tmpnam(buffer)\u001b[m\u001b[K;\n",
            "     \u001b[01;35m\u001b[K~~~~~~~~~~~^~~~~~~~\u001b[m\u001b[K\n",
            "[ 65%] \u001b[32mBuilding CXX object src/core/analysis/CMakeFiles/jpp_core_analysis_tests.dir/onomatopoeia_creator_test.cc.o\u001b[0m\n",
            "In file included from \u001b[01m\u001b[K/content/jumanpp-2.0.0-rc3/src/testing/test_analyzer.h:16:0\u001b[m\u001b[K,\n",
            "                 from \u001b[01m\u001b[K/content/jumanpp-2.0.0-rc3/src/core/analysis/onomatopoeia_creator_test.cc:5\u001b[m\u001b[K:\n",
            "\u001b[01m\u001b[K/content/jumanpp-2.0.0-rc3/src/testing/standalone_test.h:\u001b[m\u001b[K In constructor ‘\u001b[01m\u001b[KTempFile::TempFile()\u001b[m\u001b[K’:\n",
            "\u001b[01m\u001b[K/content/jumanpp-2.0.0-rc3/src/testing/standalone_test.h:104:16:\u001b[m\u001b[K \u001b[01;35m\u001b[Kwarning: \u001b[m\u001b[Kignoring return value of ‘\u001b[01m\u001b[Kchar* tmpnam(char*)\u001b[m\u001b[K’, declared with attribute warn_unused_result [\u001b[01;35m\u001b[K-Wunused-result\u001b[m\u001b[K]\n",
            "     \u001b[01;35m\u001b[Kstd::tmpnam(buffer)\u001b[m\u001b[K;\n",
            "     \u001b[01;35m\u001b[K~~~~~~~~~~~^~~~~~~~\u001b[m\u001b[K\n",
            "[ 65%] \u001b[32mBuilding CXX object src/core/analysis/CMakeFiles/jpp_core_analysis_tests.dir/perceptron_test.cc.o\u001b[0m\n",
            "[ 66%] \u001b[32mBuilding CXX object src/core/analysis/CMakeFiles/jpp_core_analysis_tests.dir/rnn_id_resolver_test.cc.o\u001b[0m\n",
            "In file included from \u001b[01m\u001b[K/content/jumanpp-2.0.0-rc3/src/testing/test_analyzer.h:16:0\u001b[m\u001b[K,\n",
            "                 from \u001b[01m\u001b[K/content/jumanpp-2.0.0-rc3/src/core/analysis/rnn_id_resolver_test.cc:7\u001b[m\u001b[K:\n",
            "\u001b[01m\u001b[K/content/jumanpp-2.0.0-rc3/src/testing/standalone_test.h:\u001b[m\u001b[K In constructor ‘\u001b[01m\u001b[KTempFile::TempFile()\u001b[m\u001b[K’:\n",
            "\u001b[01m\u001b[K/content/jumanpp-2.0.0-rc3/src/testing/standalone_test.h:104:16:\u001b[m\u001b[K \u001b[01;35m\u001b[Kwarning: \u001b[m\u001b[Kignoring return value of ‘\u001b[01m\u001b[Kchar* tmpnam(char*)\u001b[m\u001b[K’, declared with attribute warn_unused_result [\u001b[01;35m\u001b[K-Wunused-result\u001b[m\u001b[K]\n",
            "     \u001b[01;35m\u001b[Kstd::tmpnam(buffer)\u001b[m\u001b[K;\n",
            "     \u001b[01;35m\u001b[K~~~~~~~~~~~^~~~~~~~\u001b[m\u001b[K\n",
            "[ 66%] \u001b[32mBuilding CXX object src/core/analysis/CMakeFiles/jpp_core_analysis_tests.dir/rnn_scorer_test.cc.o\u001b[0m\n",
            "In file included from \u001b[01m\u001b[K/content/jumanpp-2.0.0-rc3/src/testing/test_analyzer.h:16:0\u001b[m\u001b[K,\n",
            "                 from \u001b[01m\u001b[K/content/jumanpp-2.0.0-rc3/src/core/analysis/rnn_scorer_test.cc:11\u001b[m\u001b[K:\n",
            "\u001b[01m\u001b[K/content/jumanpp-2.0.0-rc3/src/testing/standalone_test.h:\u001b[m\u001b[K In constructor ‘\u001b[01m\u001b[KTempFile::TempFile()\u001b[m\u001b[K’:\n",
            "\u001b[01m\u001b[K/content/jumanpp-2.0.0-rc3/src/testing/standalone_test.h:104:16:\u001b[m\u001b[K \u001b[01;35m\u001b[Kwarning: \u001b[m\u001b[Kignoring return value of ‘\u001b[01m\u001b[Kchar* tmpnam(char*)\u001b[m\u001b[K’, declared with attribute warn_unused_result [\u001b[01;35m\u001b[K-Wunused-result\u001b[m\u001b[K]\n",
            "     \u001b[01;35m\u001b[Kstd::tmpnam(buffer)\u001b[m\u001b[K;\n",
            "     \u001b[01;35m\u001b[K~~~~~~~~~~~^~~~~~~~\u001b[m\u001b[K\n",
            "[ 67%] \u001b[32mBuilding CXX object src/core/analysis/CMakeFiles/jpp_core_analysis_tests.dir/score_processor_test.cc.o\u001b[0m\n",
            "[ 67%] \u001b[32mBuilding CXX object src/core/analysis/CMakeFiles/jpp_core_analysis_tests.dir/unk_nodes_creator_test.cc.o\u001b[0m\n",
            "In file included from \u001b[01m\u001b[K/content/jumanpp-2.0.0-rc3/src/testing/test_analyzer.h:16:0\u001b[m\u001b[K,\n",
            "                 from \u001b[01m\u001b[K/content/jumanpp-2.0.0-rc3/src/core/analysis/unk_nodes_creator_test.cc:4\u001b[m\u001b[K:\n",
            "\u001b[01m\u001b[K/content/jumanpp-2.0.0-rc3/src/testing/standalone_test.h:\u001b[m\u001b[K In constructor ‘\u001b[01m\u001b[KTempFile::TempFile()\u001b[m\u001b[K’:\n",
            "\u001b[01m\u001b[K/content/jumanpp-2.0.0-rc3/src/testing/standalone_test.h:104:16:\u001b[m\u001b[K \u001b[01;35m\u001b[Kwarning: \u001b[m\u001b[Kignoring return value of ‘\u001b[01m\u001b[Kchar* tmpnam(char*)\u001b[m\u001b[K’, declared with attribute warn_unused_result [\u001b[01;35m\u001b[K-Wunused-result\u001b[m\u001b[K]\n",
            "     \u001b[01;35m\u001b[Kstd::tmpnam(buffer)\u001b[m\u001b[K;\n",
            "     \u001b[01;35m\u001b[K~~~~~~~~~~~^~~~~~~~\u001b[m\u001b[K\n",
            "[ 68%] \u001b[32m\u001b[1mLinking CXX executable jpp_core_analysis_tests\u001b[0m\n",
            "CMakeFiles/jpp_core_analysis_tests.dir/analyzer_impl_test.cc.o: In function `jumanpp::testing::TestEnv::TestEnv()':\n",
            "analyzer_impl_test.cc:(.text._ZN7jumanpp7testing7TestEnvC2Ev[_ZN7jumanpp7testing7TestEnvC5Ev]+0x438): warning: the use of `tmpnam' is dangerous, better use `mkstemp'\n",
            "[ 68%] Built target jpp_core_analysis_tests\n",
            "[ 68%] \u001b[32mBuilding CXX object src/core/codegen/CMakeFiles/jpp_core_codegen.dir/feature_codegen.cc.o\u001b[0m\n",
            "[ 69%] \u001b[32mBuilding CXX object src/core/codegen/CMakeFiles/jpp_core_codegen.dir/ngram_feature_codegen.cc.o\u001b[0m\n",
            "[ 69%] \u001b[32mBuilding CXX object src/core/codegen/CMakeFiles/jpp_core_codegen.dir/partial_ngram_feature_codegen.cc.o\u001b[0m\n",
            "[ 70%] \u001b[32mBuilding CXX object src/core/codegen/CMakeFiles/jpp_core_codegen.dir/pattern_feature_codegen.cc.o\u001b[0m\n",
            "[ 70%] \u001b[32m\u001b[1mLinking CXX static library libjpp_core_codegen.a\u001b[0m\n",
            "[ 70%] Built target jpp_core_codegen\n",
            "[ 70%] \u001b[32mBuilding CXX object src/core/codegen/CMakeFiles/cgtest02_codegen_binary.dir/gen/cgtest02_codegen_main.cc.o\u001b[0m\n",
            "[ 70%] \u001b[32m\u001b[1mLinking CXX executable cgtest02_codegen_binary\u001b[0m\n",
            "[ 70%] Built target cgtest02_codegen_binary\n",
            "[ 70%] \u001b[34m\u001b[1mGenerating gen/cgtest02.cc, gen/cgtest02.h\u001b[0m\n",
            "[ 71%] \u001b[32mBuilding CXX object src/core/codegen/CMakeFiles/jpp_codegen_tests.dir/feature_codegen_test.cc.o\u001b[0m\n",
            "In file included from \u001b[01m\u001b[K/content/jumanpp-2.0.0-rc3/src/testing/test_analyzer.h:16:0\u001b[m\u001b[K,\n",
            "                 from \u001b[01m\u001b[K/content/jumanpp-2.0.0-rc3/src/core/codegen/feature_codegen_test.cc:12\u001b[m\u001b[K:\n",
            "\u001b[01m\u001b[K/content/jumanpp-2.0.0-rc3/src/testing/standalone_test.h:\u001b[m\u001b[K In constructor ‘\u001b[01m\u001b[KTempFile::TempFile()\u001b[m\u001b[K’:\n",
            "\u001b[01m\u001b[K/content/jumanpp-2.0.0-rc3/src/testing/standalone_test.h:104:16:\u001b[m\u001b[K \u001b[01;35m\u001b[Kwarning: \u001b[m\u001b[Kignoring return value of ‘\u001b[01m\u001b[Kchar* tmpnam(char*)\u001b[m\u001b[K’, declared with attribute warn_unused_result [\u001b[01;35m\u001b[K-Wunused-result\u001b[m\u001b[K]\n",
            "     \u001b[01;35m\u001b[Kstd::tmpnam(buffer)\u001b[m\u001b[K;\n",
            "     \u001b[01;35m\u001b[K~~~~~~~~~~~^~~~~~~~\u001b[m\u001b[K\n",
            "[ 71%] \u001b[32mBuilding CXX object src/core/codegen/CMakeFiles/jpp_codegen_tests.dir/pattern_codegen_test.cc.o\u001b[0m\n",
            "In file included from \u001b[01m\u001b[K/content/jumanpp-2.0.0-rc3/src/testing/test_analyzer.h:16:0\u001b[m\u001b[K,\n",
            "                 from \u001b[01m\u001b[K/content/jumanpp-2.0.0-rc3/src/core/codegen/pattern_codegen_test.cc:8\u001b[m\u001b[K:\n",
            "\u001b[01m\u001b[K/content/jumanpp-2.0.0-rc3/src/testing/standalone_test.h:\u001b[m\u001b[K In constructor ‘\u001b[01m\u001b[KTempFile::TempFile()\u001b[m\u001b[K’:\n",
            "\u001b[01m\u001b[K/content/jumanpp-2.0.0-rc3/src/testing/standalone_test.h:104:16:\u001b[m\u001b[K \u001b[01;35m\u001b[Kwarning: \u001b[m\u001b[Kignoring return value of ‘\u001b[01m\u001b[Kchar* tmpnam(char*)\u001b[m\u001b[K’, declared with attribute warn_unused_result [\u001b[01;35m\u001b[K-Wunused-result\u001b[m\u001b[K]\n",
            "     \u001b[01;35m\u001b[Kstd::tmpnam(buffer)\u001b[m\u001b[K;\n",
            "     \u001b[01;35m\u001b[K~~~~~~~~~~~^~~~~~~~\u001b[m\u001b[K\n",
            "[ 72%] \u001b[32mBuilding CXX object src/core/codegen/CMakeFiles/jpp_codegen_tests.dir/gen/cgtest02.cc.o\u001b[0m\n",
            "[ 72%] \u001b[32m\u001b[1mLinking CXX executable jpp_codegen_tests\u001b[0m\n",
            "CMakeFiles/jpp_codegen_tests.dir/feature_codegen_test.cc.o: In function `jumanpp::testing::TestEnv::TestEnv()':\n",
            "feature_codegen_test.cc:(.text._ZN7jumanpp7testing7TestEnvC2Ev[_ZN7jumanpp7testing7TestEnvC5Ev]+0x438): warning: the use of `tmpnam' is dangerous, better use `mkstemp'\n",
            "[ 72%] Built target jpp_codegen_tests\n",
            "[ 73%] \u001b[32mBuilding CXX object src/core/spec/CMakeFiles/jpp_core_spec_tests.dir/spec_dsl_feature_test.cc.o\u001b[0m\n",
            "[ 73%] \u001b[32mBuilding CXX object src/core/spec/CMakeFiles/jpp_core_spec_tests.dir/spec_dsl_test.cc.o\u001b[0m\n",
            "[ 74%] \u001b[32mBuilding CXX object src/core/spec/CMakeFiles/jpp_core_spec_tests.dir/spec_grammar_test.cc.o\u001b[0m\n",
            "[ 74%] \u001b[32mBuilding CXX object src/core/spec/CMakeFiles/jpp_core_spec_tests.dir/spec_parser_impl_test.cc.o\u001b[0m\n",
            "[ 75%] \u001b[32m\u001b[1mLinking CXX executable jpp_core_spec_tests\u001b[0m\n",
            "[ 75%] Built target jpp_core_spec_tests\n",
            "[ 76%] \u001b[32mBuilding CXX object src/core/tool/CMakeFiles/jumanpp_tool.dir/codegen_cmd.cc.o\u001b[0m\n",
            "[ 76%] \u001b[32mBuilding CXX object src/core/tool/CMakeFiles/jumanpp_tool.dir/index_cmd.cc.o\u001b[0m\n",
            "[ 77%] \u001b[32mBuilding CXX object src/core/tool/CMakeFiles/jumanpp_tool.dir/jumanpp_tool.cc.o\u001b[0m\n",
            "[ 77%] \u001b[32mBuilding CXX object src/core/tool/CMakeFiles/jumanpp_tool.dir/train_cmd.cc.o\u001b[0m\n",
            "[ 78%] \u001b[32m\u001b[1mLinking CXX executable jumanpp_tool\u001b[0m\n",
            "[ 78%] Built target jumanpp_tool\n",
            "[ 78%] \u001b[32mBuilding CXX object src/core/training/CMakeFiles/jpp_core_train_tests.dir/gold_example2_test.cc.o\u001b[0m\n",
            "In file included from \u001b[01m\u001b[K/content/jumanpp-2.0.0-rc3/src/testing/test_analyzer.h:16:0\u001b[m\u001b[K,\n",
            "                 from \u001b[01m\u001b[K/content/jumanpp-2.0.0-rc3/src/core/training/training_test_common.h:11\u001b[m\u001b[K,\n",
            "                 from \u001b[01m\u001b[K/content/jumanpp-2.0.0-rc3/src/core/training/gold_example2_test.cc:6\u001b[m\u001b[K:\n",
            "\u001b[01m\u001b[K/content/jumanpp-2.0.0-rc3/src/testing/standalone_test.h:\u001b[m\u001b[K In constructor ‘\u001b[01m\u001b[KTempFile::TempFile()\u001b[m\u001b[K’:\n",
            "\u001b[01m\u001b[K/content/jumanpp-2.0.0-rc3/src/testing/standalone_test.h:104:16:\u001b[m\u001b[K \u001b[01;35m\u001b[Kwarning: \u001b[m\u001b[Kignoring return value of ‘\u001b[01m\u001b[Kchar* tmpnam(char*)\u001b[m\u001b[K’, declared with attribute warn_unused_result [\u001b[01;35m\u001b[K-Wunused-result\u001b[m\u001b[K]\n",
            "     \u001b[01;35m\u001b[Kstd::tmpnam(buffer)\u001b[m\u001b[K;\n",
            "     \u001b[01;35m\u001b[K~~~~~~~~~~~^~~~~~~~\u001b[m\u001b[K\n",
            "[ 79%] \u001b[32mBuilding CXX object src/core/training/CMakeFiles/jpp_core_train_tests.dir/gold_example_test.cc.o\u001b[0m\n",
            "In file included from \u001b[01m\u001b[K/content/jumanpp-2.0.0-rc3/src/testing/test_analyzer.h:16:0\u001b[m\u001b[K,\n",
            "                 from \u001b[01m\u001b[K/content/jumanpp-2.0.0-rc3/src/core/training/training_test_common.h:11\u001b[m\u001b[K,\n",
            "                 from \u001b[01m\u001b[K/content/jumanpp-2.0.0-rc3/src/core/training/gold_example_test.cc:6\u001b[m\u001b[K:\n",
            "\u001b[01m\u001b[K/content/jumanpp-2.0.0-rc3/src/testing/standalone_test.h:\u001b[m\u001b[K In constructor ‘\u001b[01m\u001b[KTempFile::TempFile()\u001b[m\u001b[K’:\n",
            "\u001b[01m\u001b[K/content/jumanpp-2.0.0-rc3/src/testing/standalone_test.h:104:16:\u001b[m\u001b[K \u001b[01;35m\u001b[Kwarning: \u001b[m\u001b[Kignoring return value of ‘\u001b[01m\u001b[Kchar* tmpnam(char*)\u001b[m\u001b[K’, declared with attribute warn_unused_result [\u001b[01;35m\u001b[K-Wunused-result\u001b[m\u001b[K]\n",
            "     \u001b[01;35m\u001b[Kstd::tmpnam(buffer)\u001b[m\u001b[K;\n",
            "     \u001b[01;35m\u001b[K~~~~~~~~~~~^~~~~~~~\u001b[m\u001b[K\n",
            "[ 79%] \u001b[32mBuilding CXX object src/core/training/CMakeFiles/jpp_core_train_tests.dir/partial_example_train_test.cc.o\u001b[0m\n",
            "In file included from \u001b[01m\u001b[K/content/jumanpp-2.0.0-rc3/src/testing/test_analyzer.h:16:0\u001b[m\u001b[K,\n",
            "                 from \u001b[01m\u001b[K/content/jumanpp-2.0.0-rc3/src/core/training/training_test_common.h:11\u001b[m\u001b[K,\n",
            "                 from \u001b[01m\u001b[K/content/jumanpp-2.0.0-rc3/src/core/training/partial_example_train_test.cc:10\u001b[m\u001b[K:\n",
            "\u001b[01m\u001b[K/content/jumanpp-2.0.0-rc3/src/testing/standalone_test.h:\u001b[m\u001b[K In constructor ‘\u001b[01m\u001b[KTempFile::TempFile()\u001b[m\u001b[K’:\n",
            "\u001b[01m\u001b[K/content/jumanpp-2.0.0-rc3/src/testing/standalone_test.h:104:16:\u001b[m\u001b[K \u001b[01;35m\u001b[Kwarning: \u001b[m\u001b[Kignoring return value of ‘\u001b[01m\u001b[Kchar* tmpnam(char*)\u001b[m\u001b[K’, declared with attribute warn_unused_result [\u001b[01;35m\u001b[K-Wunused-result\u001b[m\u001b[K]\n",
            "     \u001b[01;35m\u001b[Kstd::tmpnam(buffer)\u001b[m\u001b[K;\n",
            "     \u001b[01;35m\u001b[K~~~~~~~~~~~^~~~~~~~\u001b[m\u001b[K\n",
            "[ 80%] \u001b[32mBuilding CXX object src/core/training/CMakeFiles/jpp_core_train_tests.dir/trainer_test.cc.o\u001b[0m\n",
            "In file included from \u001b[01m\u001b[K/content/jumanpp-2.0.0-rc3/src/testing/test_analyzer.h:16:0\u001b[m\u001b[K,\n",
            "                 from \u001b[01m\u001b[K/content/jumanpp-2.0.0-rc3/src/core/training/training_test_common.h:11\u001b[m\u001b[K,\n",
            "                 from \u001b[01m\u001b[K/content/jumanpp-2.0.0-rc3/src/core/training/trainer_test.cc:9\u001b[m\u001b[K:\n",
            "\u001b[01m\u001b[K/content/jumanpp-2.0.0-rc3/src/testing/standalone_test.h:\u001b[m\u001b[K In constructor ‘\u001b[01m\u001b[KTempFile::TempFile()\u001b[m\u001b[K’:\n",
            "\u001b[01m\u001b[K/content/jumanpp-2.0.0-rc3/src/testing/standalone_test.h:104:16:\u001b[m\u001b[K \u001b[01;35m\u001b[Kwarning: \u001b[m\u001b[Kignoring return value of ‘\u001b[01m\u001b[Kchar* tmpnam(char*)\u001b[m\u001b[K’, declared with attribute warn_unused_result [\u001b[01;35m\u001b[K-Wunused-result\u001b[m\u001b[K]\n",
            "     \u001b[01;35m\u001b[Kstd::tmpnam(buffer)\u001b[m\u001b[K;\n",
            "     \u001b[01;35m\u001b[K~~~~~~~~~~~^~~~~~~~\u001b[m\u001b[K\n",
            "[ 80%] \u001b[32m\u001b[1mLinking CXX executable jpp_core_train_tests\u001b[0m\n",
            "CMakeFiles/jpp_core_train_tests.dir/gold_example2_test.cc.o: In function `(anonymous namespace)::GoldExample2Env::GoldExample2Env(jumanpp::StringPiece, bool) [clone .constprop.469]':\n",
            "gold_example2_test.cc:(.text+0x608): warning: the use of `tmpnam' is dangerous, better use `mkstemp'\n",
            "[ 80%] Built target jpp_core_train_tests\n",
            "[ 80%] \u001b[32mBuilding CXX object src/jumandic/CMakeFiles/jpp_jumandic_spec.dir/shared/jumandic_spec.cc.o\u001b[0m\n",
            "[ 81%] \u001b[32mBuilding CXX object src/jumandic/CMakeFiles/jpp_jumandic_spec.dir/shared/jumandic_spec_lexdata.cc.o\u001b[0m\n",
            "[ 81%] \u001b[32m\u001b[1mLinking CXX static library libjpp_jumandic_spec.a\u001b[0m\n",
            "[ 81%] Built target jpp_jumandic_spec\n",
            "[ 81%] \u001b[32mBuilding CXX object src/jumandic/CMakeFiles/jpp_jumandic_cg_codegen_binary.dir/gen/jpp_jumandic_cg_codegen_main.cc.o\u001b[0m\n",
            "[ 82%] \u001b[32m\u001b[1mLinking CXX executable jpp_jumandic_cg_codegen_binary\u001b[0m\n",
            "[ 82%] Built target jpp_jumandic_cg_codegen_binary\n",
            "[ 83%] \u001b[34m\u001b[1mGenerating gen/jpp_jumandic_cg.cc, gen/jpp_jumandic_cg.h\u001b[0m\n",
            "[ 83%] \u001b[32mBuilding CXX object src/jumandic/CMakeFiles/jpp_jumandic.dir/shared/juman_format.cc.o\u001b[0m\n",
            "[ 84%] \u001b[32mBuilding CXX object src/jumandic/CMakeFiles/jpp_jumandic.dir/shared/jumandic_env.cc.o\u001b[0m\n",
            "[ 84%] \u001b[32mBuilding CXX object src/jumandic/CMakeFiles/jpp_jumandic.dir/shared/morph_format.cc.o\u001b[0m\n",
            "[ 85%] \u001b[32mBuilding CXX object src/jumandic/CMakeFiles/jpp_jumandic.dir/shared/jumandic_ids.cc.o\u001b[0m\n",
            "[ 85%] \u001b[32mBuilding CXX object src/jumandic/CMakeFiles/jpp_jumandic.dir/shared/jumandic_id_resolver.cc.o\u001b[0m\n",
            "[ 86%] \u001b[32mBuilding CXX object src/jumandic/CMakeFiles/jpp_jumandic.dir/shared/mdic_format.cc.o\u001b[0m\n",
            "[ 86%] \u001b[32mBuilding CXX object src/jumandic/CMakeFiles/jpp_jumandic.dir/shared/subset_format.cc.o\u001b[0m\n",
            "[ 87%] \u001b[32mBuilding CXX object src/jumandic/CMakeFiles/jpp_jumandic.dir/shared/lattice_format.cc.o\u001b[0m\n",
            "[ 87%] \u001b[32mBuilding CXX object src/jumandic/CMakeFiles/jpp_jumandic.dir/shared/jumanpp_args.cc.o\u001b[0m\n",
            "[ 87%] \u001b[32mBuilding CXX object src/jumandic/CMakeFiles/jpp_jumandic.dir/gen/jpp_jumandic_cg.cc.o\u001b[0m\n",
            "[ 88%] \u001b[32m\u001b[1mLinking CXX static library libjpp_jumandic.a\u001b[0m\n",
            "[ 88%] Built target jpp_jumandic\n",
            "[ 89%] \u001b[32mBuilding CXX object src/jumandic/CMakeFiles/jpp_jumandic_tests.dir/shared/jumandic_spec_test.cc.o\u001b[0m\n",
            "[ 89%] \u001b[32mBuilding CXX object src/jumandic/CMakeFiles/jpp_jumandic_tests.dir/shared/mini_dic_test.cc.o\u001b[0m\n",
            "In file included from \u001b[01m\u001b[K/content/jumanpp-2.0.0-rc3/src/testing/test_analyzer.h:16:0\u001b[m\u001b[K,\n",
            "                 from \u001b[01m\u001b[K/content/jumanpp-2.0.0-rc3/src/jumandic/shared/mini_dic_test.cc:7\u001b[m\u001b[K:\n",
            "\u001b[01m\u001b[K/content/jumanpp-2.0.0-rc3/src/testing/standalone_test.h:\u001b[m\u001b[K In constructor ‘\u001b[01m\u001b[KTempFile::TempFile()\u001b[m\u001b[K’:\n",
            "\u001b[01m\u001b[K/content/jumanpp-2.0.0-rc3/src/testing/standalone_test.h:104:16:\u001b[m\u001b[K \u001b[01;35m\u001b[Kwarning: \u001b[m\u001b[Kignoring return value of ‘\u001b[01m\u001b[Kchar* tmpnam(char*)\u001b[m\u001b[K’, declared with attribute warn_unused_result [\u001b[01;35m\u001b[K-Wunused-result\u001b[m\u001b[K]\n",
            "     \u001b[01;35m\u001b[Kstd::tmpnam(buffer)\u001b[m\u001b[K;\n",
            "     \u001b[01;35m\u001b[K~~~~~~~~~~~^~~~~~~~\u001b[m\u001b[K\n",
            "[ 90%] \u001b[32mBuilding CXX object src/jumandic/CMakeFiles/jpp_jumandic_tests.dir/shared/training_test.cc.o\u001b[0m\n",
            "In file included from \u001b[01m\u001b[K/content/jumanpp-2.0.0-rc3/src/testing/test_analyzer.h:16:0\u001b[m\u001b[K,\n",
            "                 from \u001b[01m\u001b[K/content/jumanpp-2.0.0-rc3/src/jumandic/shared/jumandic_test_env.h:14\u001b[m\u001b[K,\n",
            "                 from \u001b[01m\u001b[K/content/jumanpp-2.0.0-rc3/src/jumandic/shared/training_test.cc:5\u001b[m\u001b[K:\n",
            "\u001b[01m\u001b[K/content/jumanpp-2.0.0-rc3/src/testing/standalone_test.h:\u001b[m\u001b[K In constructor ‘\u001b[01m\u001b[KTempFile::TempFile()\u001b[m\u001b[K’:\n",
            "\u001b[01m\u001b[K/content/jumanpp-2.0.0-rc3/src/testing/standalone_test.h:104:16:\u001b[m\u001b[K \u001b[01;35m\u001b[Kwarning: \u001b[m\u001b[Kignoring return value of ‘\u001b[01m\u001b[Kchar* tmpnam(char*)\u001b[m\u001b[K’, declared with attribute warn_unused_result [\u001b[01;35m\u001b[K-Wunused-result\u001b[m\u001b[K]\n",
            "     \u001b[01;35m\u001b[Kstd::tmpnam(buffer)\u001b[m\u001b[K;\n",
            "     \u001b[01;35m\u001b[K~~~~~~~~~~~^~~~~~~~\u001b[m\u001b[K\n",
            "[ 90%] \u001b[32mBuilding CXX object src/jumandic/CMakeFiles/jpp_jumandic_tests.dir/shared/mdic_format_test.cc.o\u001b[0m\n",
            "[ 91%] \u001b[32mBuilding CXX object src/jumandic/CMakeFiles/jpp_jumandic_tests.dir/tests/partial_data_train.cc.o\u001b[0m\n",
            "In file included from \u001b[01m\u001b[K/content/jumanpp-2.0.0-rc3/src/testing/test_analyzer.h:16:0\u001b[m\u001b[K,\n",
            "                 from \u001b[01m\u001b[K/content/jumanpp-2.0.0-rc3/src/jumandic/shared/jumandic_test_env.h:14\u001b[m\u001b[K,\n",
            "                 from \u001b[01m\u001b[K/content/jumanpp-2.0.0-rc3/src/jumandic/tests/partial_data_train.cc:5\u001b[m\u001b[K:\n",
            "\u001b[01m\u001b[K/content/jumanpp-2.0.0-rc3/src/testing/standalone_test.h:\u001b[m\u001b[K In constructor ‘\u001b[01m\u001b[KTempFile::TempFile()\u001b[m\u001b[K’:\n",
            "\u001b[01m\u001b[K/content/jumanpp-2.0.0-rc3/src/testing/standalone_test.h:104:16:\u001b[m\u001b[K \u001b[01;35m\u001b[Kwarning: \u001b[m\u001b[Kignoring return value of ‘\u001b[01m\u001b[Kchar* tmpnam(char*)\u001b[m\u001b[K’, declared with attribute warn_unused_result [\u001b[01;35m\u001b[K-Wunused-result\u001b[m\u001b[K]\n",
            "     \u001b[01;35m\u001b[Kstd::tmpnam(buffer)\u001b[m\u001b[K;\n",
            "     \u001b[01;35m\u001b[K~~~~~~~~~~~^~~~~~~~\u001b[m\u001b[K\n",
            "[ 91%] \u001b[32mBuilding CXX object src/jumandic/CMakeFiles/jpp_jumandic_tests.dir/shared/jumandic_codegen_test.cc.o\u001b[0m\n",
            "In file included from \u001b[01m\u001b[K/content/jumanpp-2.0.0-rc3/src/testing/test_analyzer.h:16:0\u001b[m\u001b[K,\n",
            "                 from \u001b[01m\u001b[K/content/jumanpp-2.0.0-rc3/src/jumandic/shared/jumandic_codegen_test.cc:5\u001b[m\u001b[K:\n",
            "\u001b[01m\u001b[K/content/jumanpp-2.0.0-rc3/src/testing/standalone_test.h:\u001b[m\u001b[K In constructor ‘\u001b[01m\u001b[KTempFile::TempFile()\u001b[m\u001b[K’:\n",
            "\u001b[01m\u001b[K/content/jumanpp-2.0.0-rc3/src/testing/standalone_test.h:104:16:\u001b[m\u001b[K \u001b[01;35m\u001b[Kwarning: \u001b[m\u001b[Kignoring return value of ‘\u001b[01m\u001b[Kchar* tmpnam(char*)\u001b[m\u001b[K’, declared with attribute warn_unused_result [\u001b[01;35m\u001b[K-Wunused-result\u001b[m\u001b[K]\n",
            "     \u001b[01;35m\u001b[Kstd::tmpnam(buffer)\u001b[m\u001b[K;\n",
            "     \u001b[01;35m\u001b[K~~~~~~~~~~~^~~~~~~~\u001b[m\u001b[K\n",
            "[ 92%] \u001b[32mBuilding CXX object src/jumandic/CMakeFiles/jpp_jumandic_tests.dir/tests/unk_node_match_test.cc.o\u001b[0m\n",
            "In file included from \u001b[01m\u001b[K/content/jumanpp-2.0.0-rc3/src/testing/test_analyzer.h:16:0\u001b[m\u001b[K,\n",
            "                 from \u001b[01m\u001b[K/content/jumanpp-2.0.0-rc3/src/jumandic/shared/jumandic_test_env.h:14\u001b[m\u001b[K,\n",
            "                 from \u001b[01m\u001b[K/content/jumanpp-2.0.0-rc3/src/jumandic/tests/unk_node_match_test.cc:5\u001b[m\u001b[K:\n",
            "\u001b[01m\u001b[K/content/jumanpp-2.0.0-rc3/src/testing/standalone_test.h:\u001b[m\u001b[K In constructor ‘\u001b[01m\u001b[KTempFile::TempFile()\u001b[m\u001b[K’:\n",
            "\u001b[01m\u001b[K/content/jumanpp-2.0.0-rc3/src/testing/standalone_test.h:104:16:\u001b[m\u001b[K \u001b[01;35m\u001b[Kwarning: \u001b[m\u001b[Kignoring return value of ‘\u001b[01m\u001b[Kchar* tmpnam(char*)\u001b[m\u001b[K’, declared with attribute warn_unused_result [\u001b[01;35m\u001b[K-Wunused-result\u001b[m\u001b[K]\n",
            "     \u001b[01;35m\u001b[Kstd::tmpnam(buffer)\u001b[m\u001b[K;\n",
            "     \u001b[01;35m\u001b[K~~~~~~~~~~~^~~~~~~~\u001b[m\u001b[K\n",
            "[ 92%] \u001b[32m\u001b[1mLinking CXX executable jpp_jumandic_tests\u001b[0m\n",
            "CMakeFiles/jpp_jumandic_tests.dir/shared/mini_dic_test.cc.o: In function `____C_A_T_C_H____T_E_S_T____4()':\n",
            "mini_dic_test.cc:(.text+0x64f): warning: the use of `tmpnam' is dangerous, better use `mkstemp'\n",
            "[ 92%] Built target jpp_jumandic_tests\n",
            "[ 93%] \u001b[32mBuilding CXX object src/jumandic/CMakeFiles/jpp_bug_tests.dir/tests/bug_950111-003_test.cc.o\u001b[0m\n",
            "In file included from \u001b[01m\u001b[K/content/jumanpp-2.0.0-rc3/src/testing/test_analyzer.h:16:0\u001b[m\u001b[K,\n",
            "                 from \u001b[01m\u001b[K/content/jumanpp-2.0.0-rc3/src/jumandic/shared/jumandic_test_env.h:14\u001b[m\u001b[K,\n",
            "                 from \u001b[01m\u001b[K/content/jumanpp-2.0.0-rc3/src/jumandic/tests/bug_950111-003_test.cc:5\u001b[m\u001b[K:\n",
            "\u001b[01m\u001b[K/content/jumanpp-2.0.0-rc3/src/testing/standalone_test.h:\u001b[m\u001b[K In constructor ‘\u001b[01m\u001b[KTempFile::TempFile()\u001b[m\u001b[K’:\n",
            "\u001b[01m\u001b[K/content/jumanpp-2.0.0-rc3/src/testing/standalone_test.h:104:16:\u001b[m\u001b[K \u001b[01;35m\u001b[Kwarning: \u001b[m\u001b[Kignoring return value of ‘\u001b[01m\u001b[Kchar* tmpnam(char*)\u001b[m\u001b[K’, declared with attribute warn_unused_result [\u001b[01;35m\u001b[K-Wunused-result\u001b[m\u001b[K]\n",
            "     \u001b[01;35m\u001b[Kstd::tmpnam(buffer)\u001b[m\u001b[K;\n",
            "     \u001b[01;35m\u001b[K~~~~~~~~~~~^~~~~~~~\u001b[m\u001b[K\n",
            "[ 93%] \u001b[32mBuilding CXX object src/jumandic/CMakeFiles/jpp_bug_tests.dir/tests/bug_28_lattice.cc.o\u001b[0m\n",
            "In file included from \u001b[01m\u001b[K/content/jumanpp-2.0.0-rc3/src/testing/test_analyzer.h:16:0\u001b[m\u001b[K,\n",
            "                 from \u001b[01m\u001b[K/content/jumanpp-2.0.0-rc3/src/jumandic/shared/jumandic_test_env.h:14\u001b[m\u001b[K,\n",
            "                 from \u001b[01m\u001b[K/content/jumanpp-2.0.0-rc3/src/jumandic/tests/bug_28_lattice.cc:5\u001b[m\u001b[K:\n",
            "\u001b[01m\u001b[K/content/jumanpp-2.0.0-rc3/src/testing/standalone_test.h:\u001b[m\u001b[K In constructor ‘\u001b[01m\u001b[KTempFile::TempFile()\u001b[m\u001b[K’:\n",
            "\u001b[01m\u001b[K/content/jumanpp-2.0.0-rc3/src/testing/standalone_test.h:104:16:\u001b[m\u001b[K \u001b[01;35m\u001b[Kwarning: \u001b[m\u001b[Kignoring return value of ‘\u001b[01m\u001b[Kchar* tmpnam(char*)\u001b[m\u001b[K’, declared with attribute warn_unused_result [\u001b[01;35m\u001b[K-Wunused-result\u001b[m\u001b[K]\n",
            "     \u001b[01;35m\u001b[Kstd::tmpnam(buffer)\u001b[m\u001b[K;\n",
            "     \u001b[01;35m\u001b[K~~~~~~~~~~~^~~~~~~~\u001b[m\u001b[K\n",
            "[ 94%] \u001b[32m\u001b[1mLinking CXX executable jpp_bug_tests\u001b[0m\n",
            "CMakeFiles/jpp_bug_tests.dir/tests/bug_950111-003_test.cc.o: In function `(anonymous namespace)::JumandicTrainingTestEnv::JumandicTrainingTestEnv(jumanpp::StringPiece, int) [clone .constprop.318]':\n",
            "bug_950111-003_test.cc:(.text+0x1b58): warning: the use of `tmpnam' is dangerous, better use `mkstemp'\n",
            "[ 94%] Built target jpp_bug_tests\n",
            "[ 94%] \u001b[32mBuilding CXX object src/jumandic/CMakeFiles/jpp_jumandic_bootstrap.dir/main/bootstrap.cc.o\u001b[0m\n",
            "[ 95%] \u001b[32m\u001b[1mLinking CXX executable jpp_jumandic_bootstrap\u001b[0m\n",
            "[ 95%] Built target jpp_jumandic_bootstrap\n",
            "[ 95%] \u001b[32mBuilding CXX object src/jumandic/CMakeFiles/jumanpp_v2.dir/main/jumanpp.cc.o\u001b[0m\n",
            "[ 96%] \u001b[32m\u001b[1mLinking CXX executable jumanpp_v2\u001b[0m\n",
            "[ 96%] Built target jumanpp_v2\n",
            "[ 96%] \u001b[32mBuilding CXX object src/jumandic/CMakeFiles/jumanpp_v2_train.dir/main/jumanpp_train.cc.o\u001b[0m\n",
            "[ 97%] \u001b[32m\u001b[1mLinking CXX executable jumanpp_v2_train\u001b[0m\n",
            "[ 97%] Built target jumanpp_v2_train\n",
            "[ 97%] \u001b[32mBuilding CXX object src/jumandic/CMakeFiles/jpp_jumandic_pathdiff.dir/main/path_diff.cc.o\u001b[0m\n",
            "[ 98%] \u001b[32m\u001b[1mLinking CXX executable jpp_jumandic_pathdiff\u001b[0m\n",
            "[ 98%] Built target jpp_jumandic_pathdiff\n",
            "[ 99%] \u001b[32mBuilding CXX object src/rnn/CMakeFiles/jumanpp_rnn_legacy.dir/legacy/rnnlmlib_static.cpp.o\u001b[0m\n",
            "\u001b[01m\u001b[K/content/jumanpp-2.0.0-rc3/src/rnn/legacy/rnnlmlib_static.cpp:\u001b[m\u001b[K In member function ‘\u001b[01m\u001b[Kvoid RNNLM_legacy::CRnnLM_stat::restoreNet_FR()\u001b[m\u001b[K’:\n",
            "\u001b[01m\u001b[K/content/jumanpp-2.0.0-rc3/src/rnn/legacy/rnnlmlib_static.cpp:468:12:\u001b[m\u001b[K \u001b[01;35m\u001b[Kwarning: \u001b[m\u001b[Kignoring return value of ‘\u001b[01m\u001b[Ksize_t fread(void*, size_t, size_t, FILE*)\u001b[m\u001b[K’, declared with attribute warn_unused_result [\u001b[01;35m\u001b[K-Wunused-result\u001b[m\u001b[K]\n",
            "       \u001b[01;35m\u001b[Kfread(&fl, sizeof(fl), 1, model_file)\u001b[m\u001b[K;  // real\n",
            "       \u001b[01;35m\u001b[K~~~~~^~~~~~~~~~~~~~~~~~~~~~~~~~~~~~~~\u001b[m\u001b[K\n",
            "\u001b[01m\u001b[K/content/jumanpp-2.0.0-rc3/src/rnn/legacy/rnnlmlib_static.cpp:482:12:\u001b[m\u001b[K \u001b[01;35m\u001b[Kwarning: \u001b[m\u001b[Kignoring return value of ‘\u001b[01m\u001b[Ksize_t fread(void*, size_t, size_t, FILE*)\u001b[m\u001b[K’, declared with attribute warn_unused_result [\u001b[01;35m\u001b[K-Wunused-result\u001b[m\u001b[K]\n",
            "       \u001b[01;35m\u001b[Kfread(&fl, sizeof(fl), 1, model_file)\u001b[m\u001b[K;\n",
            "       \u001b[01;35m\u001b[K~~~~~^~~~~~~~~~~~~~~~~~~~~~~~~~~~~~~~\u001b[m\u001b[K\n",
            "\u001b[01m\u001b[K/content/jumanpp-2.0.0-rc3/src/rnn/legacy/rnnlmlib_static.cpp:491:12:\u001b[m\u001b[K \u001b[01;35m\u001b[Kwarning: \u001b[m\u001b[Kignoring return value of ‘\u001b[01m\u001b[Ksize_t fread(void*, size_t, size_t, FILE*)\u001b[m\u001b[K’, declared with attribute warn_unused_result [\u001b[01;35m\u001b[K-Wunused-result\u001b[m\u001b[K]\n",
            "       \u001b[01;35m\u001b[Kfread(&fl, sizeof(fl), 1, model_file)\u001b[m\u001b[K;\n",
            "       \u001b[01;35m\u001b[K~~~~~^~~~~~~~~~~~~~~~~~~~~~~~~~~~~~~~\u001b[m\u001b[K\n",
            "[ 99%] \u001b[32m\u001b[1mLinking CXX static library libjumanpp_rnn_legacy.a\u001b[0m\n",
            "[ 99%] Built target jumanpp_rnn_legacy\n",
            "[ 99%] \u001b[32mBuilding CXX object src/rnn/CMakeFiles/jpp_rnn_tests.dir/mikolov_rnn_test.cc.o\u001b[0m\n",
            "[100%] \u001b[32m\u001b[1mLinking CXX executable jpp_rnn_tests\u001b[0m\n",
            "[100%] Built target jpp_rnn_tests\n"
          ]
        }
      ]
    },
    {
      "cell_type": "code",
      "source": [
        "# install jumanpp\n",
        "!sudo make install"
      ],
      "metadata": {
        "id": "fosrIJYSI5vU",
        "outputId": "74356851-d0ff-4471-e23a-abe3e401f938",
        "colab": {
          "base_uri": "https://localhost:8080/"
        }
      },
      "execution_count": 16,
      "outputs": [
        {
          "output_type": "stream",
          "name": "stdout",
          "text": [
            "\u001b[35m\u001b[1mConsolidate compiler generated dependencies of target jpp_util\u001b[0m\n",
            "[  6%] Built target jpp_util\n",
            "\u001b[35m\u001b[1mConsolidate compiler generated dependencies of target jpp_test_catch_main_lib\u001b[0m\n",
            "[  7%] Built target jpp_test_catch_main_lib\n",
            "\u001b[35m\u001b[1mConsolidate compiler generated dependencies of target jpp_util_test\u001b[0m\n",
            "[ 16%] Built target jpp_util_test\n",
            "\u001b[35m\u001b[1mConsolidate compiler generated dependencies of target testing_infra_test\u001b[0m\n",
            "[ 17%] Built target testing_infra_test\n",
            "\u001b[35m\u001b[1mConsolidate compiler generated dependencies of target jpp_rnn\u001b[0m\n",
            "[ 18%] Built target jpp_rnn\n",
            "\u001b[35m\u001b[1mConsolidate compiler generated dependencies of target pathie\u001b[0m\n",
            "[ 21%] Built target pathie\n",
            "\u001b[35m\u001b[1mConsolidate compiler generated dependencies of target jpp_core\u001b[0m\n",
            "[ 49%] Built target jpp_core\n",
            "\u001b[35m\u001b[1mConsolidate compiler generated dependencies of target jpp_core_train\u001b[0m\n",
            "[ 54%] Built target jpp_core_train\n",
            "\u001b[35m\u001b[1mConsolidate compiler generated dependencies of target jpp_core_tests\u001b[0m\n",
            "[ 61%] Built target jpp_core_tests\n",
            "\u001b[35m\u001b[1mConsolidate compiler generated dependencies of target jpp_core_analysis_tests\u001b[0m\n",
            "[ 68%] Built target jpp_core_analysis_tests\n",
            "\u001b[35m\u001b[1mConsolidate compiler generated dependencies of target jpp_core_codegen\u001b[0m\n",
            "[ 70%] Built target jpp_core_codegen\n",
            "\u001b[35m\u001b[1mConsolidate compiler generated dependencies of target cgtest02_codegen_binary\u001b[0m\n",
            "[ 70%] Built target cgtest02_codegen_binary\n",
            "\u001b[35m\u001b[1mConsolidate compiler generated dependencies of target jpp_codegen_tests\u001b[0m\n",
            "[ 72%] Built target jpp_codegen_tests\n",
            "\u001b[35m\u001b[1mConsolidate compiler generated dependencies of target jpp_core_spec_tests\u001b[0m\n",
            "[ 75%] Built target jpp_core_spec_tests\n",
            "\u001b[35m\u001b[1mConsolidate compiler generated dependencies of target jumanpp_tool\u001b[0m\n",
            "[ 78%] Built target jumanpp_tool\n",
            "\u001b[35m\u001b[1mConsolidate compiler generated dependencies of target jpp_core_train_tests\u001b[0m\n",
            "[ 80%] Built target jpp_core_train_tests\n",
            "\u001b[35m\u001b[1mConsolidate compiler generated dependencies of target jpp_jumandic_spec\u001b[0m\n",
            "[ 81%] Built target jpp_jumandic_spec\n",
            "\u001b[35m\u001b[1mConsolidate compiler generated dependencies of target jpp_jumandic_cg_codegen_binary\u001b[0m\n",
            "[ 82%] Built target jpp_jumandic_cg_codegen_binary\n",
            "\u001b[35m\u001b[1mConsolidate compiler generated dependencies of target jpp_jumandic\u001b[0m\n",
            "[ 88%] Built target jpp_jumandic\n",
            "\u001b[35m\u001b[1mConsolidate compiler generated dependencies of target jpp_jumandic_tests\u001b[0m\n",
            "[ 92%] Built target jpp_jumandic_tests\n",
            "\u001b[35m\u001b[1mConsolidate compiler generated dependencies of target jpp_bug_tests\u001b[0m\n",
            "[ 94%] Built target jpp_bug_tests\n",
            "\u001b[35m\u001b[1mConsolidate compiler generated dependencies of target jpp_jumandic_bootstrap\u001b[0m\n",
            "[ 95%] Built target jpp_jumandic_bootstrap\n",
            "\u001b[35m\u001b[1mConsolidate compiler generated dependencies of target jumanpp_v2\u001b[0m\n",
            "[ 96%] Built target jumanpp_v2\n",
            "\u001b[35m\u001b[1mConsolidate compiler generated dependencies of target jumanpp_v2_train\u001b[0m\n",
            "[ 97%] Built target jumanpp_v2_train\n",
            "\u001b[35m\u001b[1mConsolidate compiler generated dependencies of target jpp_jumandic_pathdiff\u001b[0m\n",
            "[ 98%] Built target jpp_jumandic_pathdiff\n",
            "\u001b[35m\u001b[1mConsolidate compiler generated dependencies of target jumanpp_rnn_legacy\u001b[0m\n",
            "[ 99%] Built target jumanpp_rnn_legacy\n",
            "\u001b[35m\u001b[1mConsolidate compiler generated dependencies of target jpp_rnn_tests\u001b[0m\n",
            "[100%] Built target jpp_rnn_tests\n",
            "\u001b[36mInstall the project...\u001b[0m\n",
            "-- Install configuration: \"Release\"\n",
            "-- Installing: /usr/local/bin/jumanpp\n",
            "-- Installing: /usr/local/libexec/jumanpp/jumandic.jppmdl\n",
            "-- Installing: /usr/local/libexec/jumanpp/jumandic.config\n"
          ]
        }
      ]
    },
    {
      "cell_type": "code",
      "source": [
        "!echo \"本日は晴天なり\" | jumanpp"
      ],
      "metadata": {
        "id": "ixJvkWeJJKZ_",
        "outputId": "81ed5fd8-767d-4571-8151-d5bd69095f51",
        "colab": {
          "base_uri": "https://localhost:8080/"
        }
      },
      "execution_count": 17,
      "outputs": [
        {
          "output_type": "stream",
          "name": "stdout",
          "text": [
            "本日 ほんじつ 本日 名詞 6 時相名詞 10 * 0 * 0 \"代表表記:本日/ほんじつ カテゴリ:時間\"\n",
            "は は は 助詞 9 副助詞 2 * 0 * 0 NIL\n",
            "晴天 せいてん 晴天 名詞 6 普通名詞 1 * 0 * 0 \"代表表記:晴天/せいてん カテゴリ:抽象物\"\n",
            "なり なり なり 助詞 9 接続助詞 3 * 0 * 0 NIL\n",
            "EOS\n"
          ]
        }
      ]
    },
    {
      "cell_type": "markdown",
      "source": [
        "\n",
        "#データの準備\n",
        "\n",
        "bart_datasets.csv をアップロードする"
      ],
      "metadata": {
        "id": "BHvbjA_32hSf"
      }
    },
    {
      "cell_type": "code",
      "source": [
        "%cd /content\n",
        "\n",
        "# アップロードが遅いので…\n",
        "from google.colab import drive\n",
        "drive.mount('/content/drive')"
      ],
      "metadata": {
        "id": "ToAzMsq5Et6G",
        "outputId": "aa7335e3-bea3-4bfe-ea37-e6a9554bbc38",
        "colab": {
          "base_uri": "https://localhost:8080/"
        }
      },
      "execution_count": null,
      "outputs": [
        {
          "output_type": "stream",
          "name": "stdout",
          "text": [
            "Mounted at /content/drive\n"
          ]
        }
      ]
    },
    {
      "cell_type": "code",
      "source": [
        "## 既に、Google　Drive　に準備済みのデータがあれば、それをコピー\n",
        "\n",
        "!cp /content/drive/MyDrive/bart/dict.src.txt　./\n",
        "!cp /content/drive/MyDrive/bart/dict.tgt.txt　./\n",
        "!cp /content/drive/MyDrive/bart/valid.src-tgt.src　./\n",
        "!cp /content/drive/MyDrive/bart/valid.src-tgt.tgt　./\n",
        "!cp /content/drive/MyDrive/bart/test.src-tgt.src　./\n",
        "!cp /content/drive/MyDrive/bart/test.src-tgt.tgt　./\n",
        "!cp /content/drive/MyDrive/bart/train.src-tgt.src　./\n",
        "!cp /content/drive/MyDrive/bart/train.src-tgt.tgt　./"
      ],
      "metadata": {
        "id": "HMu-_wrp5D4n"
      },
      "execution_count": null,
      "outputs": []
    },
    {
      "cell_type": "code",
      "source": [
        "!cp /content/drive/MyDrive/bart/bart_datasets.csv ./"
      ],
      "metadata": {
        "id": "wPDOoY5xE4BK"
      },
      "execution_count": null,
      "outputs": []
    },
    {
      "cell_type": "code",
      "source": [
        "!ls -alh bart_datasets.csv"
      ],
      "metadata": {
        "id": "Fdg14KdkJSVe",
        "outputId": "444a20cd-c165-4651-e8a7-e714c593ae7e",
        "colab": {
          "base_uri": "https://localhost:8080/"
        }
      },
      "execution_count": null,
      "outputs": [
        {
          "output_type": "stream",
          "name": "stdout",
          "text": [
            "-rw------- 1 root root 153M Aug  8 10:53 bart_datasets.csv\n"
          ]
        }
      ]
    },
    {
      "cell_type": "code",
      "source": [
        "!head bart_datasets.csv"
      ],
      "metadata": {
        "id": "N-AqxmwK28h4"
      },
      "execution_count": null,
      "outputs": []
    },
    {
      "cell_type": "code",
      "source": [
        "import pandas as pd\n",
        "\n",
        "livedoor_df = pd.read_csv(\"bart_datasets.csv\", sep=',', encoding='UTF-8')\n",
        "input_df = livedoor_df.copy()\n",
        "\n",
        "input_df[\"tgt_length\"] = input_df[\"tgt\"].apply(lambda x: len(str(x)))\n",
        "input_df[\"src_length\"] = input_df[\"src\"].apply(lambda x: len(str(x)))\n",
        "input_df[\"rate\"] = input_df[\"tgt_length\"] / input_df[\"src_length\"]\n",
        "\n",
        "mask = input_df['src_length'] <= 1500\n",
        "input_df = input_df[mask]\n",
        "\n",
        "mask = input_df['rate'] <= 0.5\n",
        "input_df = input_df[mask]\n",
        "\n",
        "mask = input_df['rate'] >= 0.05\n",
        "input_df = input_df[mask]\n",
        "\n",
        "input_df = input_df.sample(frac=1)"
      ],
      "metadata": {
        "id": "0KnpkSMk3Ge7"
      },
      "execution_count": null,
      "outputs": []
    },
    {
      "cell_type": "code",
      "source": [
        "input_df"
      ],
      "metadata": {
        "id": "zGYB3GOc3a8i"
      },
      "execution_count": null,
      "outputs": []
    },
    {
      "cell_type": "code",
      "source": [
        "len(input_df)"
      ],
      "metadata": {
        "id": "vqvj5Q9Z58hl",
        "outputId": "d3d59d93-40b7-4f8f-c2a4-f7a6a82faf83",
        "colab": {
          "base_uri": "https://localhost:8080/"
        }
      },
      "execution_count": null,
      "outputs": [
        {
          "output_type": "execute_result",
          "data": {
            "text/plain": [
              "46267"
            ]
          },
          "metadata": {},
          "execution_count": 36
        }
      ]
    },
    {
      "cell_type": "code",
      "source": [
        "train_df = input_df[:42000]\n",
        "val_df = input_df[42000:44000]\n",
        "test_df = input_df[44000:]\n",
        "\n",
        "train_src = train_df[\"src\"].to_list()\n",
        "train_tgt = train_df[\"tgt\"].to_list()\n",
        "val_src = val_df[\"src\"].to_list()\n",
        "val_tgt = val_df[\"tgt\"].to_list()\n",
        "test_src = test_df[\"src\"].to_list()\n",
        "test_tgt = test_df[\"tgt\"].to_list()\n",
        "\n",
        "# 記号や特殊文字を削除する関数\n",
        "def delete_special_character(str_list):\n",
        "    new_list = []\n",
        "    characters = \"■◆☆●\\n\"\n",
        "    for strength in str_list:\n",
        "        for x in range(len(characters)):\n",
        "            strength = str(strength).replace(characters[x],\"\")\n",
        "            new_list.append(strength)\n",
        "    return new_list\n",
        "\n",
        "train_src = delete_special_character(train_src)\n",
        "train_tgt = delete_special_character(train_tgt)\n",
        "val_src = delete_special_character(val_src)\n",
        "val_tgt = delete_special_character(val_tgt)\n",
        "test_src = delete_special_character(test_src)\n",
        "test_tgt = delete_special_character(test_tgt)\n",
        "\n",
        "with open(\"train_src.txt\", 'w') as f:\n",
        "  for d in train_src:\n",
        "    f.write(\"%s\\n\" % d)  \n",
        "\n",
        "with open(\"train_tgt.txt\", 'w') as f:\n",
        "  for d in train_tgt:\n",
        "    f.write(\"%s\\n\" % d)  \n",
        "\n",
        "with open(\"val_src.txt\", 'w') as f:\n",
        "  for d in val_src:\n",
        "    f.write(\"%s\\n\" % d)  \n",
        "\n",
        "with open(\"val_tgt.txt\", 'w') as f:\n",
        "  for d in val_tgt:\n",
        "    f.write(\"%s\\n\" % d)\n",
        "\n",
        "with open(\"test_src.txt\", 'w') as f:\n",
        "  for d in test_src:\n",
        "    f.write(\"%s\\n\" % d)  \n",
        "\n",
        "with open(\"test_tgt.txt\", 'w') as f:\n",
        "  for d in test_tgt:\n",
        "    f.write(\"%s\\n\" % d) "
      ],
      "metadata": {
        "id": "7YkKF5bq6Jwm"
      },
      "execution_count": null,
      "outputs": []
    },
    {
      "cell_type": "code",
      "source": [
        "!pwd\n",
        "!ls"
      ],
      "metadata": {
        "id": "1G3c3xEH693H",
        "outputId": "4b5dd32d-70e5-491b-a60b-3ef963432965",
        "colab": {
          "base_uri": "https://localhost:8080/"
        }
      },
      "execution_count": null,
      "outputs": [
        {
          "output_type": "stream",
          "name": "stdout",
          "text": [
            "/content/jumanpp-2.0.0-rc3\n",
            "bart_datasets.csv    CONTRIBUTORS\t   README.md\t  val_src.txt\n",
            "build\t\t     CTestTestfile.cmake   src\t\t  val_tgt.txt\n",
            "cmake\t\t     docs\t\t   test\t\t  version\n",
            "CMakeCache.txt\t     install_manifest.txt  test_src.txt   version.cmake\n",
            "CMakeFiles\t     libs\t\t   test_tgt.txt\n",
            "cmake_install.cmake  Makefile\t\t   train_src.txt\n",
            "CMakeLists.txt\t     model\t\t   train_tgt.txt\n"
          ]
        }
      ]
    },
    {
      "cell_type": "markdown",
      "source": [
        "\n",
        "##前処理用の環境変数の設定"
      ],
      "metadata": {
        "id": "mhoLedH9AF8k"
      }
    },
    {
      "cell_type": "code",
      "source": [
        "# データセットの前処理の設定\n",
        "%env TRAIN_SRC=train_src.txt\n",
        "%env TRAIN_TGT=train_tgt.txt\n",
        "%env VALID_SRC=val_src.txt\n",
        "%env VALID_TGT=val_tgt.txt\n",
        "%env TEST_SRC=test_src.txt\n",
        "%env TEST_TGT=test_tgt.txt\n",
        "# ダウンロードしたセンテンスピースモデル\n",
        "%env SENTENCEPIECE_MODEL=japanese_bart_base_1.1/sp.model\n",
        "# 前処理後のファイルを入れるフォルダ\n",
        "%env DATASET_DIR=datasets/\n",
        "# ダウンロードした辞書ファイル\n",
        "%env DICT=japanese_bart_base_1.1/dict.txt"
      ],
      "metadata": {
        "id": "6dkjtZFD7K72"
      },
      "execution_count": null,
      "outputs": []
    },
    {
      "cell_type": "markdown",
      "source": [
        "\n",
        "##前処理実行"
      ],
      "metadata": {
        "id": "DEsS6epsAQos"
      }
    },
    {
      "cell_type": "code",
      "source": [
        "%cd /content\n",
        "\n",
        "from google.colab import drive\n",
        "drive.mount('/content/drive')"
      ],
      "metadata": {
        "id": "6-hvmv3xiIHd"
      },
      "execution_count": null,
      "outputs": []
    },
    {
      "cell_type": "code",
      "source": [
        "!cat $TRAIN_SRC | python3 fairseq/jaBART_preprocess.py --bpe_model $SENTENCEPIECE_MODEL --bpe_dict $DICT > $DATASET_DIR/train.src-tgt.src\n",
        "!cp $DATASET_DIR/train.src-tgt.src /content/drive/MyDrive/bart/\n",
        "!cat $TRAIN_TGT | python3 fairseq/jaBART_preprocess.py  --bpe_model $SENTENCEPIECE_MODEL --bpe_dict $DICT > $DATASET_DIR/train.src-tgt.tgt\n",
        "!cp $DATASET_DIR/train.src-tgt.tgt /content/drive/MyDrive/bart/\n",
        "!cat $VALID_SRC | python3 fairseq/jaBART_preprocess.py --bpe_model $SENTENCEPIECE_MODEL --bpe_dict $DICT > $DATASET_DIR/valid.src-tgt.src\n",
        "!cp $DATASET_DIR/valid.src-tgt.src /content/drive/MyDrive/bart/\n",
        "!cat $VALID_TGT | python3 fairseq/jaBART_preprocess.py --bpe_model $SENTENCEPIECE_MODEL --bpe_dict $DICT > $DATASET_DIR/valid.src-tgt.tgt\n",
        "!cp $DATASET_DIR/valid.src-tgt.tgt /content/drive/MyDrive/bart/\n",
        "!cat $TEST_SRC | python3 fairseq/jaBART_preprocess.py --bpe_model $SENTENCEPIECE_MODEL --bpe_dict $DICT > $DATASET_DIR/test.src-tgt.src\n",
        "!cp $DATASET_DIR/test.src-tgt.src /content/drive/MyDrive/bart/\n",
        "!cat $TEST_TGT | python3 fairseq/jaBART_preprocess.py --bpe_model $SENTENCEPIECE_MODEL --bpe_dict $DICT > $DATASET_DIR/test.src-tgt.tgt\n",
        "!cp $DATASET_DIR/test.src-tgt.tgt /content/drive/MyDrive/bart/\n",
        "!cp $DICT $DATASET_DIR/dict.src.txt\n",
        "!cp $DATASET_DIR/dict.src.txt /content/drive/MyDrive/bart/\n",
        "!cp $DICT $DATASET_DIR/dict.tgt.txt\n",
        "!cp $DATASET_DIR/dict.tgt.txt /content/drive/MyDrive/bart/"
      ],
      "metadata": {
        "id": "eZFiZI_QASms"
      },
      "execution_count": null,
      "outputs": []
    },
    {
      "cell_type": "markdown",
      "source": [
        "\n",
        "##ファインチューニング"
      ],
      "metadata": {
        "id": "CRV-5IBdAWvR"
      }
    },
    {
      "cell_type": "markdown",
      "source": [
        "\n",
        "##ファインチューニング用の環境変数の設定\n"
      ],
      "metadata": {
        "id": "FAlhMbPbAbf9"
      }
    },
    {
      "cell_type": "code",
      "source": [
        "# ダウンロードした事前学習済みBARTモデル\n",
        "%env PRETRAINED_MODEL=japanese_bart_base_1.1/bart_model.pt\n",
        "# bart_baseまたはbart_largeを設定\n",
        "%env BART=bart_base\n",
        "# その他保存用フォルダの設定\n",
        "%env TENSORBOARD_DIR=log/\n",
        "%env SAVE_MODEL_DIR=save/\n",
        "%env RESULT=result.txt"
      ],
      "metadata": {
        "id": "2xTvAwX9AgS_"
      },
      "execution_count": null,
      "outputs": []
    },
    {
      "cell_type": "markdown",
      "source": [
        "\n",
        "##ファインチューニング実行"
      ],
      "metadata": {
        "id": "KdGfuYpjAm4V"
      }
    },
    {
      "cell_type": "code",
      "source": [
        "!CUDA_VISIBLE_DEVICES=0 fairseq-train $DATASET_DIR --arch $BART --restore-file $PRETRAINED_MODEL \\\n",
        "--save-dir $SAVE_MODEL_DIR --tensorboard-logdir $TENSORBOARD_DIR \\\n",
        "--task translation_from_pretrained_bart --source-lang src --target-lang tgt \\\n",
        "--criterion label_smoothed_cross_entropy --label-smoothing 0.2 --dataset-impl raw \\\n",
        "--optimizer adam --adam-eps 1e-06 --adam-betas '{0.9, 0.98}' --lr-scheduler polynomial_decay --lr 3e-05 --min-lr -1 \\\n",
        "--warmup-updates 2500 --total-num-update 1000 --dropout 0.3 --attention-dropout 0.1  --weight-decay 0.0 \\\n",
        "--max-tokens 1024 --update-freq 5 --save-interval -1 --no-epoch-checkpoints --seed 222 --log-format simple --log-interval 2 \\\n",
        "--reset-optimizer --reset-meters --reset-dataloader --reset-lr-scheduler  --save-interval-updates 10000 \\\n",
        "--ddp-backend no_c10d --max-epoch 5 \\\n",
        "--encoder-normalize-before --decoder-normalize-before --prepend-bos \\\n",
        "--skip-invalid-size-inputs-valid-test"
      ],
      "metadata": {
        "id": "-WA2LpZnAofd"
      },
      "execution_count": null,
      "outputs": []
    },
    {
      "cell_type": "markdown",
      "source": [
        "\n",
        "##ファインチューニング後モデルの保存"
      ],
      "metadata": {
        "id": "wcEM2gkFAtEc"
      }
    },
    {
      "cell_type": "code",
      "source": [
        "%env MODEL_NAME=livedoor_5_eopch\n",
        "\n",
        "!mkdir models/$MODEL_NAME\n",
        "\n",
        "!cp -rf $SAVE_MODEL_DIR models/$MODEL_NAME\n",
        "!cp -rf $DICT models/$MODEL_NAME\n",
        "!cp -rf $SENTENCEPIECE_MODEL models/$MODEL_NAME\n",
        "!cp -rf $TENSORBOARD_DIR models/$MODEL_NAME\n",
        "!cp -rf $DATASET_DIR models/$MODEL_NAME"
      ],
      "metadata": {
        "id": "SBkv-RUCAwOx"
      },
      "execution_count": null,
      "outputs": []
    },
    {
      "cell_type": "markdown",
      "source": [
        "\n",
        "##要約実行"
      ],
      "metadata": {
        "id": "dpivD8MNA5Mu"
      }
    },
    {
      "cell_type": "markdown",
      "source": [
        "\n",
        "##要約用スクリプト"
      ],
      "metadata": {
        "id": "lZpuxpVFA60p"
      }
    },
    {
      "cell_type": "code",
      "source": [
        "from collections import namedtuple\n",
        "import fileinput\n",
        "import logging\n",
        "import math\n",
        "import sys\n",
        "import time\n",
        "import os\n",
        "import numpy as np\n",
        "import torch\n",
        "from fairseq import checkpoint_utils, distributed_utils, options, tasks, utils\n",
        "from fairseq.data import encoders\n",
        "from fairseq.token_generation_constraints import pack_constraints, unpack_constraints\n",
        "import zenhan\n",
        "from pyknp import Juman\n",
        "import sentencepiece\n",
        "\n",
        "logging.basicConfig(\n",
        "    format='%(name)s | %(message)s',\n",
        "    level=os.environ.get('LOGLEVEL', 'INFO').upper(),\n",
        "    stream=sys.stdout,\n",
        ")\n",
        "logger = logging.getLogger('infer')\n",
        "\n",
        "Batch = namedtuple('Batch', 'ids src_tokens src_lengths constraints')\n",
        "Translation = namedtuple('Translation', 'src_str hypos pos_scores alignments')\n",
        "\n",
        "\n",
        "def get_symbols_to_strip_from_output(generator):\n",
        "    if hasattr(generator, 'symbols_to_strip_from_output'):\n",
        "        return generator.symbols_to_strip_from_output\n",
        "    else:\n",
        "        return {generator.eos}\n",
        "\n",
        "\n",
        "def buffered_read(input, buffer_size):\n",
        "    buffer = []\n",
        "    with fileinput.input(files=[input], openhook=fileinput.hook_encoded(\"utf-8\")) as h:\n",
        "        for src_str in h:\n",
        "            buffer.append(src_str.strip())\n",
        "            if len(buffer) >= buffer_size:\n",
        "                yield buffer\n",
        "                buffer = []\n",
        "\n",
        "    if len(buffer) > 0:\n",
        "        yield buffer\n",
        "\n",
        "\n",
        "def make_batches(lines, args, task, max_positions, encode_fn):\n",
        "    tokens = [\n",
        "        task.source_dictionary.encode_line(\n",
        "            encode_fn(src_str), add_if_not_exist=False\n",
        "        ).long()\n",
        "        for src_str in lines\n",
        "    ]\n",
        "\n",
        "    if args.constraints:\n",
        "        constraints_tensor = pack_constraints(batch_constraints)\n",
        "    else:\n",
        "        constraints_tensor = None\n",
        "    lengths = [t.numel() for t in tokens]\n",
        "    itr = task.get_batch_iterator(\n",
        "        dataset=task.build_dataset_for_inference(tokens, lengths, constraints=constraints_tensor),\n",
        "        max_tokens=args.max_tokens,\n",
        "        max_sentences=args.max_sentences,\n",
        "        max_positions=max_positions,\n",
        "        ignore_invalid_inputs=args.skip_invalid_size_inputs_valid_test\n",
        "    ).next_epoch_itr(shuffle=False)\n",
        "    for batch in itr:\n",
        "        ids = batch['id']\n",
        "        src_tokens = batch['net_input']['src_tokens']\n",
        "        src_lengths = batch['net_input']['src_lengths']\n",
        "        constraints = batch.get(\"constraints\", None)\n",
        "\n",
        "        yield Batch(\n",
        "            ids=ids,\n",
        "            src_tokens=src_tokens,\n",
        "            src_lengths=src_lengths,\n",
        "            constraints=constraints,\n",
        "        )\n",
        "\n",
        "\n",
        "def main(args):\n",
        "    start_time = time.time()\n",
        "    total_translate_time = 0\n",
        "\n",
        "    utils.import_user_module(args)\n",
        "\n",
        "    if args.buffer_size < 1:\n",
        "        args.buffer_size = 1\n",
        "    if args.max_tokens is None and args.max_sentences is None:\n",
        "        args.max_sentences = 1\n",
        "\n",
        "    assert not args.sampling or args.nbest == args.beam, \\\n",
        "        '--sampling requires --nbest to be equal to --beam'\n",
        "    assert not args.max_sentences or args.max_sentences <= args.buffer_size, \\\n",
        "        '--max-sentences/--batch-size cannot be larger than --buffer-size'\n",
        "\n",
        "    # Fix seed for stochastic decoding\n",
        "    if args.seed is not None and not args.no_seed_provided:\n",
        "        np.random.seed(args.seed)\n",
        "        utils.set_torch_seed(args.seed)\n",
        "\n",
        "    use_cuda = False\n",
        "\n",
        "    # Setup task, e.g., translation\n",
        "    task = tasks.setup_task(args)\n",
        "\n",
        "    # Load ensemble\n",
        "    logger.info('loading model(s) from {}'.format(args.path))\n",
        "    models, _model_args = checkpoint_utils.load_model_ensemble(\n",
        "        args.pa。rrides=eval(args.model_overrides),\n",
        "        task=task,\n",
        "        suffix=getattr(args, \"checkpoint_suffix\", \"\"),\n",
        "    )\n",
        "\n",
        "    # Set dictionaries\n",
        "    src_dict = task.source_dictionary\n",
        "    tgt_dict = task.target_dictionary\n",
        "\n",
        "    # Optimize ensemble for generation\n",
        "    for model in models:\n",
        "        model.prepare_for_inference_(args)\n",
        "        if args.fp16:\n",
        "            model.half()\n",
        "        if use_cuda:\n",
        "            model.cuda()\n",
        "\n",
        "    # Initialize generator\n",
        "    generator = task.build_generator(models, args)\n",
        "\n",
        "    # Handle tokenization and BPE\n",
        "    tokenizer = encoders.build_tokenizer(args)\n",
        "    bpe = encoders.build_bpe(args)\n",
        "\n",
        "    jumanpp = Juman()\n",
        "    spm = sentencepiece.SentencePieceProcessor()\n",
        "    spm.Load(args.bpe_model)\n",
        "       return ' '.join([mrph.midasi for mrph in result.mrph_list()])\n",
        "\n",
        "    def bpe_encode(line, spm):\n",
        "        return ' '.join(spm.EncodeAsPieces(line.strip()))\n",
        "\n",
        "    def encode_fn(x):\n",
        "        x = x.strip()\n",
        "        x = zenhan.h2z(x)\n",
        "        x = juman_split(x, jumanpp)\n",
        "        x = bpe_encode(x, spm)\n",
        "        return x\n",
        "\n",
        "    def decode_fn(x):\n",
        "        x = x.translate({ord(i): None for i in ['▁', ' ']})\n",
        "        return x\n",
        "\n",
        "    align_dict = utils.load_align_dict(args.replace_unk)\n",
        "\n",
        "    max_positions = utils.resolve_max_positions(\n",
        "        task.max_positions(),\n",
        "        *[model.max_positions() for model in models]\n",
        "    )\n",
        "\n",
        "    if args.constraints:\n",
        "        logger.warning(\"NOTE: Constrained decoding currently assumes a shared subword vocabulary.\")\n",
        "\n",
        "    if args.buffer_size > 1:\n",
        "        logger.info('Sentence buffer size: %s', args.buffer_size)\n",
        "    logger.info('NOTE: hypothesis and token scores are output in base 2')\n",
        "    logger.info('Type the input sentence and press return:')\n",
        "    start_id = 0\n",
        "\n",
        "    # 入力用ファイルを指定する\n",
        "    input_text = 'test_src.txt'\n",
        "\n",
        "    # 出力用の配列\n",
        "    output_texts = []\n",
        "    output_texts_2 = []\n",
        "    output_texts_3 = []\n",
        "\n",
        "    for inputs in buffered_read(input_text, args.buffer_size):\n",
        "        results = []\n",
        "        for batch in make_batches(inputs, args, task, max_positions, encode_fn):\n",
        "            bsz = batch.src_tokens.size(0)\n",
        "            src_tokens = batch.src_tokens\n",
        "            src_lengths = batch.src_lengths\n",
        "            constraints = batch.constraints\n",
        "            if use_cuda:\n",
        "                src_tokens = src_tokens.cuda()\n",
        "                src_lengths = src_lengths.cuda()\n",
        "                if constraints is not None:\n",
        "                    constraints = constraints.cuda()\n",
        "\n",
        "            sample = {\n",
        "                'net_input': {\n",
        "                    'src_tokens': src_tokens,\n",
        "                    'src_lengths': src_lengths,\n",
        "                },\n",
        "            }\n",
        "            translate_start_time = time.time()\n",
        "            translations = task.inference_step(generator, models, sample, constraints=constraints)\n",
        "            translate_time = time.time() - translate_start_time\n",
        "            total_translate_time += translate_time\n",
        "            list_constraints = [[] for _ in range(bsz)]\n",
        "            if args.constraints:\n",
        "                list_constraints = [unpack_constraints(c) for c in constraints]\n",
        "            for i, (id, hypos) in enumerate(zip(batch.ids.tolist(), translations)):\n",
        "                src_tokens_i = utils.strip_pad(src_tokens[i], tgt_dict.pad())\n",
        "                constraints = list_constraints[i]\n",
        "                results.append((start_id + id, src_tokens_i, hypos,\n",
        "                    {\n",
        "                        \"constraints\": constraints,\n",
        "                        \"time\": translate_time / len(translations)\n",
        "                    }))\n",
        "\n",
        "        # sort output to match input order\n",
        "        for id_, src_tokens, hypos, info in sorted(results, key=lambda x: x[0]):\n",
        "            if src_dict is not None:\n",
        "                src_str = src_dict.string(src_tokens, args.remove_bpe)\n",
        "                print(f'Inference time: {info[\"time\"]:.3f} seconds')\n",
        "\n",
        "            # Process top predictions\n",
        "            for hypo_i, hypo in enumerate(hypos[:min(len(hypos), args.nbest)]):\n",
        "                hypo_tokens, hypo_str, alignment = utils.post_process_prediction(\n",
        "                    hypo_tokens=hypo['tokens'].int().cpu(),\n",
        "                    src_str=src_str,\n",
        "                    alignment=hypo['alignment'],\n",
        "                    align_dict=align_dict,\n",
        "                    tgt_dict=tgt_dict,\n",
        "                    remove_bpe=args.remove_bpe,\n",
        "                    extra_symbols_to_ignore=get_symbols_to_strip_from_output(generator),\n",
        "                )\n",
        "                detok_hypo_str = decode_fn(hypo_str)\n",
        "                score = hypo['score'] / math.log(2)  # convert to base 2\n",
        "\n",
        "                if hypo_i == 0:\n",
        "                    output_texts.append(detok_hypo_str)\n",
        "                if hypo_i == 1:\n",
        "                    output_texts_2.append(detok_hypo_str)\n",
        "                if hypo_i == 2:\n",
        "                    output_texts_3.append(detok_hypo_str)\n",
        "\n",
        "                print(f'Top {hypo_i+1} prediction score: {score}')\n",
        "\n",
        "        # update running id_ counter\n",
        "        start_id += len(inputs)\n",
        "    \n",
        "    # 要約結果を１〜３番目までそれぞれ書き出し\n",
        "    with open(f\"{SAVE_MODEL_NAME}_test_tgt.txt\", 'w') as f:\n",
        "        count = 0\n",
        "        for d in output_texts:\n",
        "            count+=1\n",
        "            f.write(\"%s\\n\" % d)\n",
        "    with open(f\"{SAVE_MODEL_NAME}_test_tgt_2.txt\", 'w') as f:\n",
        "        count = 0\n",
        "        for d in output_texts_2:\n",
        "            count+=1\n",
        "            f.write(\"%s\\n\" % d)\n",
        "    with open(f\"{SAVE_MODEL_NAME}_test_tgt_3.txt\", 'w') as f:\n",
        "        count = 0\n",
        "        for d in output_texts_3:\n",
        "            count+=1\n",
        "            f.write(\"%s\\n\" % d)"
      ],
      "metadata": {
        "id": "toKlJh6AA_B6"
      },
      "execution_count": null,
      "outputs": []
    },
    {
      "cell_type": "markdown",
      "source": [
        "\n",
        "##要約用スクリプトの実行"
      ],
      "metadata": {
        "id": "65GB5eUOBGyB"
      }
    },
    {
      "cell_type": "code",
      "source": [
        "SAVE_MODEL_NAME = \"livedoor_5_eopch\"\n",
        "MODEL_NAME = \"models/\" + SAVE_MODEL_NAME\n",
        "\n",
        "def cli_main():\n",
        "    parser = options.get_interactive_generation_parser()\n",
        "    parser.add_argument('--bpe_model', default='', required=True)\n",
        "    parser.add_argument('--bpe_dict', default='', required=True)\n",
        "\n",
        "    bpe_model = MODEL_NAME + \"/sp.model\"\n",
        "    bpe_dict = MODEL_NAME + \"/dict.txt\"\n",
        "    datasets_dir = MODEL_NAME + \"/datasets\"\n",
        "    tuning_model = MODEL_NAME + \"/save/checkpoint_best.pt\"\n",
        "\n",
        "    input_args = [\n",
        "        datasets_dir, \n",
        "        \"--path\", tuning_model,\n",
        "        \"--task\", \"translation_from_pretrained_bart\",\n",
        "        \"--max-sentences\", \"1\",\n",
        "        \"--bpe_model\", bpe_model,\n",
        "        \"--bpe_dict\", bpe_dict,\n",
        "        \"--nbest\", \"3\",\n",
        "        \"--skip-invalid-size-inputs-valid-test\"\n",
        "    ]\n",
        "    args = options.parse_args_and_arch(parser,input_args)\n",
        "\n",
        "    distributed_utils.call_main(args, main)\n",
        "\n",
        "\n",
        "cli_main()"
      ],
      "metadata": {
        "id": "hXhb0AwhBLm2"
      },
      "execution_count": null,
      "outputs": []
    },
    {
      "cell_type": "code",
      "source": [
        ""
      ],
      "metadata": {
        "id": "2Yu1v-vmBPi9"
      },
      "execution_count": null,
      "outputs": []
    }
  ]
}