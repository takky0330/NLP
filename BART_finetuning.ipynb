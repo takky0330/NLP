{
  "nbformat": 4,
  "nbformat_minor": 0,
  "metadata": {
    "colab": {
      "name": "BART_finetuning.ipynb",
      "provenance": [],
      "authorship_tag": "ABX9TyOYblYtIaJPq/x8qRMaJ5fk",
      "include_colab_link": true
    },
    "kernelspec": {
      "name": "python3",
      "display_name": "Python 3"
    },
    "language_info": {
      "name": "python"
    }
  },
  "cells": [
    {
      "cell_type": "markdown",
      "metadata": {
        "id": "view-in-github",
        "colab_type": "text"
      },
      "source": [
        "<a href=\"https://colab.research.google.com/github/takky0330/NLP/blob/master/BART_finetuning.ipynb\" target=\"_parent\"><img src=\"https://colab.research.google.com/assets/colab-badge.svg\" alt=\"Open In Colab\"/></a>"
      ]
    },
    {
      "cell_type": "code",
      "execution_count": 2,
      "metadata": {
        "id": "xc29xS8soXHM",
        "outputId": "c5217751-1d19-40d5-eb73-790a296601a5",
        "colab": {
          "base_uri": "https://localhost:8080/"
        }
      },
      "outputs": [
        {
          "output_type": "stream",
          "name": "stdout",
          "text": [
            "fatal: destination path 'fairseq' already exists and is not an empty directory.\n",
            "/content/fairseq\n",
            "Already on 'japanese_bart_pretrained_model'\n",
            "Your branch is up to date with 'origin/japanese_bart_pretrained_model'.\n",
            "* \u001b[32mjapanese_bart_pretrained_model\u001b[m\n",
            "  master\u001b[m\n"
          ]
        }
      ],
      "source": [
        "# fairseqインストール(gitから)\n",
        "!git clone https://github.com/utanaka2000/fairseq.git\n",
        "%cd fairseq\n",
        "!git fetch origin\n",
        "!git checkout japanese_bart_pretrained_model\n",
        "!git branch"
      ]
    },
    {
      "cell_type": "code",
      "source": [
        "# インストール\n",
        "! pip install ."
      ],
      "metadata": {
        "id": "Plx4Kb1voZvd"
      },
      "execution_count": null,
      "outputs": []
    },
    {
      "cell_type": "code",
      "source": [
        "# fairseq有効化\n",
        "!echo $PYTHONPATH\n",
        "\n",
        "import os\n",
        "os.environ['PYTHONPATH'] = \"/env/python\"\n",
        "os.environ['PYTHONPATH'] += \":/content/fairseq/\"\n",
        "\n",
        "!echo $PYTHONPATH"
      ],
      "metadata": {
        "colab": {
          "base_uri": "https://localhost:8080/"
        },
        "id": "69cU4gbxo6P_",
        "outputId": "6465ad59-30ae-4a37-a6d5-84ce582df023"
      },
      "execution_count": 5,
      "outputs": [
        {
          "output_type": "stream",
          "name": "stdout",
          "text": [
            "/env/python\n",
            "/env/python:/content/fairseq/\n"
          ]
        }
      ]
    },
    {
      "cell_type": "code",
      "source": [
        "# インストールの確認\n",
        "!pip show fairseq"
      ],
      "metadata": {
        "id": "Kl-w0NLxpGb5",
        "outputId": "47b1032e-bee8-44ee-9d2c-ef9844502fdf",
        "colab": {
          "base_uri": "https://localhost:8080/"
        }
      },
      "execution_count": 6,
      "outputs": [
        {
          "output_type": "stream",
          "name": "stdout",
          "text": [
            "Name: fairseq\n",
            "Version: 0.9.0\n",
            "Summary: Facebook AI Research Sequence-to-Sequence Toolkit\n",
            "Home-page: https://github.com/pytorch/fairseq\n",
            "Author: None\n",
            "Author-email: None\n",
            "License: UNKNOWN\n",
            "Location: /usr/local/lib/python3.7/dist-packages\n",
            "Requires: tqdm, dataclasses, sacrebleu, cython, numpy, regex, editdistance, torch, cffi, hydra-core\n",
            "Required-by: \n"
          ]
        }
      ]
    },
    {
      "cell_type": "code",
      "source": [
        "%cd /content\n",
        "!wget http://lotus.kuee.kyoto-u.ac.jp/nl-resource/JapaneseBARTPretrainedModel/japanese_bart_base_1.1.tar.gz\n",
        "!tar -zxvf japanese_bart_base_1.1.tar.gz"
      ],
      "metadata": {
        "id": "PHXygWRTpG5-"
      },
      "execution_count": null,
      "outputs": []
    },
    {
      "cell_type": "code",
      "source": [
        "! ls japanese_bart_base_1.1"
      ],
      "metadata": {
        "colab": {
          "base_uri": "https://localhost:8080/"
        },
        "id": "tBhQGl6Aqhd0",
        "outputId": "b0c29492-6ba7-49e7-d6a7-2b13e38ed87f"
      },
      "execution_count": 8,
      "outputs": [
        {
          "output_type": "stream",
          "name": "stdout",
          "text": [
            "bart_model.pt  dict.txt  sp.model\n"
          ]
        }
      ]
    },
    {
      "cell_type": "markdown",
      "source": [
        "####  Juman++"
      ],
      "metadata": {
        "id": "k7KnLaYjFNRP"
      }
    },
    {
      "cell_type": "code",
      "source": [
        "# jumanpp-2.0.0-rc3 download\n",
        "%cd /content\n",
        "!wget https://github.com/ku-nlp/jumanpp/releases/download/v2.0.0-rc3/jumanpp-2.0.0-rc3.tar.xz"
      ],
      "metadata": {
        "id": "rLHFIStJqlFq"
      },
      "execution_count": null,
      "outputs": []
    },
    {
      "cell_type": "code",
      "source": [
        "# unzip a file\n",
        "!tar xvf jumanpp-2.0.0-rc3.tar.xz"
      ],
      "metadata": {
        "id": "2shdFnLdKaIM"
      },
      "execution_count": null,
      "outputs": []
    },
    {
      "cell_type": "code",
      "source": [
        "## jumanpp-2.0.0-rc3/src/core/analysis/analyzer.h\n",
        "## 16,17行目\n",
        "#  size_t pageSize = 48 * 1024 * 1024;\n",
        "#  size_t maxInputBytes = 48 * 1024;\n",
        "\n",
        "%%bash\n",
        "sed -i -e \"16c size_t pageSize = 48 * 1024 * 1024;\" jumanpp-2.0.0-rc3/src/core/analysis/analyzer.h\n",
        "sed -i -e \"17c size_t maxInputBytes = 48 * 1024;\" jumanpp-2.0.0-rc3/src/core/analysis/analyzer.h\n",
        "\n",
        "! head -17 jumanpp-2.0.0-rc3/src/core/analysis/analyzer.h | tail -2"
      ],
      "metadata": {
        "id": "SfKXpzv4FeT3",
        "outputId": "8bf07b1d-7062-4478-de45-ebb49d37582c",
        "colab": {
          "base_uri": "https://localhost:8080/"
        }
      },
      "execution_count": 11,
      "outputs": [
        {
          "output_type": "stream",
          "name": "stdout",
          "text": [
            "size_t pageSize = 48 * 1024 * 1024;\n",
            "size_t maxInputBytes = 48 * 1024;\n"
          ]
        }
      ]
    },
    {
      "cell_type": "code",
      "source": [
        "## jumanpp-2.0.0-rc3/src/core/input/stream_reader.h\n",
        "## 27,28行目\n",
        "#  u64 maxInputLength_ = 48 * 1024;\n",
        "#  u64 maxCommentLength_ = 48 * 1024;\n",
        "\n",
        "%%bash\n",
        "sed -i -e \"27c u64 maxInputLength_ = 48 * 1024;\" jumanpp-2.0.0-rc3/src/core/input/stream_reader.h\n",
        "sed -i -e \"28c u64 maxCommentLength_ = 48 * 1024;\" jumanpp-2.0.0-rc3/src/core/input/stream_reader.h\n",
        "\n",
        "! head -28 jumanpp-2.0.0-rc3/src/core/input/stream_reader.h | tail -2"
      ],
      "metadata": {
        "id": "UPmTS1meFnBb",
        "outputId": "2e4ff5b2-5e12-420c-943b-9e59147c3f39",
        "colab": {
          "base_uri": "https://localhost:8080/"
        }
      },
      "execution_count": 12,
      "outputs": [
        {
          "output_type": "stream",
          "name": "stdout",
          "text": [
            "u64 maxInputLength_ = 48 * 1024;\n",
            "u64 maxCommentLength_ = 48 * 1024;\n"
          ]
        }
      ]
    },
    {
      "cell_type": "code",
      "source": [
        "# build jumanpp\n",
        "%cd jumanpp-2.0.0-rc3/\n",
        "!mkdir build"
      ],
      "metadata": {
        "id": "jb-9oXLNIVhp",
        "outputId": "c14f2f2f-f2f1-44a0-868e-38d804846c7a",
        "colab": {
          "base_uri": "https://localhost:8080/"
        }
      },
      "execution_count": 13,
      "outputs": [
        {
          "output_type": "stream",
          "name": "stdout",
          "text": [
            "/content/jumanpp-2.0.0-rc3\n",
            "\u001b[0mCMake Error: The source directory \"/content\" does not appear to contain CMakeLists.txt.\n",
            "Specify --help for usage, or press the help button on the CMake GUI.\u001b[0m\n",
            "make: *** No targets specified and no makefile found.  Stop.\n"
          ]
        }
      ]
    },
    {
      "cell_type": "code",
      "source": [
        "!cmake . -DCMAKE_BUILD_TYPE=Release -DCMAKE_INSTALL_PREFIX=/usr/local\n",
        "!make"
      ],
      "metadata": {
        "id": "pDBA9LO5XycJ"
      },
      "execution_count": null,
      "outputs": []
    },
    {
      "cell_type": "code",
      "source": [
        "# install jumanpp\n",
        "!sudo make install"
      ],
      "metadata": {
        "id": "fosrIJYSI5vU"
      },
      "execution_count": null,
      "outputs": []
    },
    {
      "cell_type": "code",
      "source": [
        "!echo \"本日は晴天なり\" | jumanpp"
      ],
      "metadata": {
        "id": "ixJvkWeJJKZ_",
        "outputId": "896f53ba-5c83-4229-804f-4a9ad2933cfa",
        "colab": {
          "base_uri": "https://localhost:8080/"
        }
      },
      "execution_count": 25,
      "outputs": [
        {
          "output_type": "stream",
          "name": "stdout",
          "text": [
            "本日 ほんじつ 本日 名詞 6 時相名詞 10 * 0 * 0 \"代表表記:本日/ほんじつ カテゴリ:時間\"\n",
            "は は は 助詞 9 副助詞 2 * 0 * 0 NIL\n",
            "晴天 せいてん 晴天 名詞 6 普通名詞 1 * 0 * 0 \"代表表記:晴天/せいてん カテゴリ:抽象物\"\n",
            "なり なり なり 助詞 9 接続助詞 3 * 0 * 0 NIL\n",
            "EOS\n"
          ]
        }
      ]
    },
    {
      "cell_type": "code",
      "source": [
        ""
      ],
      "metadata": {
        "id": "Fdg14KdkJSVe"
      },
      "execution_count": null,
      "outputs": []
    }
  ]
}