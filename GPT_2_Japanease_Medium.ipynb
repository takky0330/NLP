{
  "nbformat": 4,
  "nbformat_minor": 0,
  "metadata": {
    "colab": {
      "name": "GPT-2_Japanease_Medium.ipynb",
      "provenance": [],
      "authorship_tag": "ABX9TyPh0NJDytZN/3G+I7qEOnwt",
      "include_colab_link": true
    },
    "kernelspec": {
      "name": "python3",
      "display_name": "Python 3"
    },
    "accelerator": "GPU"
  },
  "cells": [
    {
      "cell_type": "markdown",
      "metadata": {
        "id": "view-in-github",
        "colab_type": "text"
      },
      "source": [
        "<a href=\"https://colab.research.google.com/github/takky0330/NLP/blob/master/GPT_2_Japanease_Medium.ipynb\" target=\"_parent\"><img src=\"https://colab.research.google.com/assets/colab-badge.svg\" alt=\"Open In Colab\"/></a>"
      ]
    },
    {
      "cell_type": "code",
      "metadata": {
        "colab": {
          "base_uri": "https://localhost:8080/"
        },
        "id": "TztSDp22KWDf",
        "outputId": "49226dfc-3475-4b4e-91ba-47706255c36b"
      },
      "source": [
        "%tensorflow_version 1.x"
      ],
      "execution_count": 1,
      "outputs": [
        {
          "output_type": "stream",
          "text": [
            "TensorFlow 1.x selected.\n"
          ],
          "name": "stdout"
        }
      ]
    },
    {
      "cell_type": "code",
      "metadata": {
        "colab": {
          "base_uri": "https://localhost:8080/"
        },
        "id": "I3ZmWVwGKy9m",
        "outputId": "01c73da5-4895-40b6-ffab-498db4af9e75"
      },
      "source": [
        "! pip3 install jaconv"
      ],
      "execution_count": 2,
      "outputs": [
        {
          "output_type": "stream",
          "text": [
            "Collecting jaconv\n",
            "  Downloading https://files.pythonhosted.org/packages/b0/9e/cf1353fb3e81a177bb52ca59a0ebee425f084b7298039a7965c5414d2d62/jaconv-0.2.4.tar.gz\n",
            "Building wheels for collected packages: jaconv\n",
            "  Building wheel for jaconv (setup.py) ... \u001b[?25l\u001b[?25hdone\n",
            "  Created wheel for jaconv: filename=jaconv-0.2.4-cp36-none-any.whl size=12284 sha256=e707c7930d3d36b359809b5c1029ebe3f79b916ae7a7fe82d3291a8ea9fba8be\n",
            "  Stored in directory: /root/.cache/pip/wheels/e1/46/f7/85a7f89bd3263423c8530dfed16083f9a142cc0fc78c81ff32\n",
            "Successfully built jaconv\n",
            "Installing collected packages: jaconv\n",
            "Successfully installed jaconv-0.2.4\n"
          ],
          "name": "stdout"
        }
      ]
    },
    {
      "cell_type": "code",
      "metadata": {
        "colab": {
          "base_uri": "https://localhost:8080/"
        },
        "id": "cwHNrx8uBCDa",
        "outputId": "fcec49d5-e221-4868-c553-075ccb0924c5"
      },
      "source": [
        "! wget https://www.nama.ne.jp/models/gpt2ja-medium.tar.bz2"
      ],
      "execution_count": 3,
      "outputs": [
        {
          "output_type": "stream",
          "text": [
            "--2020-11-21 13:41:51--  https://www.nama.ne.jp/models/gpt2ja-medium.tar.bz2\n",
            "Resolving www.nama.ne.jp (www.nama.ne.jp)... 112.78.112.176\n",
            "Connecting to www.nama.ne.jp (www.nama.ne.jp)|112.78.112.176|:443... connected.\n",
            "HTTP request sent, awaiting response... 200 OK\n",
            "Length: 1231913634 (1.1G) [application/x-bzip2]\n",
            "Saving to: ‘gpt2ja-medium.tar.bz2’\n",
            "\n",
            "gpt2ja-medium.tar.b  58%[==========>         ] 684.82M  2.19MB/s    in 5m 1s   \n",
            "\n",
            "2020-11-21 13:46:53 (2.27 MB/s) - Connection closed at byte 718085089. Retrying.\n",
            "\n",
            "--2020-11-21 13:46:54--  (try: 2)  https://www.nama.ne.jp/models/gpt2ja-medium.tar.bz2\n",
            "Connecting to www.nama.ne.jp (www.nama.ne.jp)|112.78.112.176|:443... connected.\n",
            "HTTP request sent, awaiting response... 206 Partial Content\n",
            "Length: 1231913634 (1.1G), 513828545 (490M) remaining [application/x-bzip2]\n",
            "Saving to: ‘gpt2ja-medium.tar.bz2’\n",
            "\n",
            "gpt2ja-medium.tar.b 100%[+++++++++++========>]   1.15G  8.04MB/s    in 2m 10s  \n",
            "\n",
            "2020-11-21 13:49:05 (3.77 MB/s) - ‘gpt2ja-medium.tar.bz2’ saved [1231913634/1231913634]\n",
            "\n"
          ],
          "name": "stdout"
        }
      ]
    },
    {
      "cell_type": "code",
      "metadata": {
        "colab": {
          "base_uri": "https://localhost:8080/"
        },
        "id": "hftwUwvXBJqm",
        "outputId": "bda8ff14-2e7a-416c-d662-7364aa42186a"
      },
      "source": [
        "! tar xvfj gpt2ja-medium.tar.bz2"
      ],
      "execution_count": 4,
      "outputs": [
        {
          "output_type": "stream",
          "text": [
            "gpt2ja-medium/\n",
            "gpt2ja-medium/model-10410000.index\n",
            "gpt2ja-medium/checkpoint\n",
            "gpt2ja-medium/model-10410000.data-00000-of-00001\n",
            "gpt2ja-medium/model-10410000.meta\n",
            "special_thanks.txt\n"
          ],
          "name": "stdout"
        }
      ]
    },
    {
      "cell_type": "code",
      "metadata": {
        "colab": {
          "base_uri": "https://localhost:8080/"
        },
        "id": "DHaga0BVCaiM",
        "outputId": "a73a1749-8065-4652-a6a3-4d658ebfa10b"
      },
      "source": [
        "! git clone https://github.com/tanreinama/gpt2-japanese"
      ],
      "execution_count": 5,
      "outputs": [
        {
          "output_type": "stream",
          "text": [
            "Cloning into 'gpt2-japanese'...\n",
            "remote: Enumerating objects: 73, done.\u001b[K\n",
            "remote: Counting objects: 100% (73/73), done.\u001b[K\n",
            "remote: Compressing objects: 100% (48/48), done.\u001b[K\n",
            "remote: Total 114 (delta 30), reused 65 (delta 24), pack-reused 41\u001b[K\n",
            "Receiving objects: 100% (114/114), 1.19 MiB | 20.27 MiB/s, done.\n",
            "Resolving deltas: 100% (49/49), done.\n"
          ],
          "name": "stdout"
        }
      ]
    },
    {
      "cell_type": "code",
      "metadata": {
        "colab": {
          "base_uri": "https://localhost:8080/"
        },
        "id": "yfJl5kV4Cgpn",
        "outputId": "1618785e-2bcb-42b6-94f1-84ebb9ec481f"
      },
      "source": [
        "cd gpt2-japanese"
      ],
      "execution_count": 6,
      "outputs": [
        {
          "output_type": "stream",
          "text": [
            "/content/gpt2-japanese\n"
          ],
          "name": "stdout"
        }
      ]
    },
    {
      "cell_type": "code",
      "metadata": {
        "id": "kR9SUUSuCi_z"
      },
      "source": [
        "! cp -rf ../gpt2ja-medium ./"
      ],
      "execution_count": 7,
      "outputs": []
    },
    {
      "cell_type": "code",
      "metadata": {
        "colab": {
          "base_uri": "https://localhost:8080/"
        },
        "id": "gkLgFv7xJI1-",
        "outputId": "e037276d-2a29-4628-fec1-04a7c0feda8c"
      },
      "source": [
        "! python3 gpt2-generate.py --model gpt2ja-medium --context='吾輩は猫である。名前は＂ひな＂である。'"
      ],
      "execution_count": 8,
      "outputs": [
        {
          "output_type": "stream",
          "text": [
            "WARNING:tensorflow:From /content/gpt2-japanese/model.py:147: The name tf.AUTO_REUSE is deprecated. Please use tf.compat.v1.AUTO_REUSE instead.\n",
            "\n",
            "WARNING:tensorflow:From gpt2-generate.py:88: The name tf.ConfigProto is deprecated. Please use tf.compat.v1.ConfigProto instead.\n",
            "\n",
            "WARNING:tensorflow:From gpt2-generate.py:92: The name tf.Session is deprecated. Please use tf.compat.v1.Session instead.\n",
            "\n",
            "2020-11-21 13:51:10.713076: I tensorflow/core/platform/profile_utils/cpu_utils.cc:94] CPU Frequency: 2200000000 Hz\n",
            "2020-11-21 13:51:10.713329: I tensorflow/compiler/xla/service/service.cc:168] XLA service 0x13eb480 initialized for platform Host (this does not guarantee that XLA will be used). Devices:\n",
            "2020-11-21 13:51:10.713360: I tensorflow/compiler/xla/service/service.cc:176]   StreamExecutor device (0): Host, Default Version\n",
            "2020-11-21 13:51:10.719558: I tensorflow/stream_executor/platform/default/dso_loader.cc:44] Successfully opened dynamic library libcuda.so.1\n",
            "2020-11-21 13:51:10.874207: I tensorflow/stream_executor/cuda/cuda_gpu_executor.cc:983] successful NUMA node read from SysFS had negative value (-1), but there must be at least one NUMA node, so returning NUMA node zero\n",
            "2020-11-21 13:51:10.874850: I tensorflow/compiler/xla/service/service.cc:168] XLA service 0x13eb640 initialized for platform CUDA (this does not guarantee that XLA will be used). Devices:\n",
            "2020-11-21 13:51:10.874881: I tensorflow/compiler/xla/service/service.cc:176]   StreamExecutor device (0): Tesla P100-PCIE-16GB, Compute Capability 6.0\n",
            "2020-11-21 13:51:10.875806: I tensorflow/stream_executor/cuda/cuda_gpu_executor.cc:983] successful NUMA node read from SysFS had negative value (-1), but there must be at least one NUMA node, so returning NUMA node zero\n",
            "2020-11-21 13:51:10.876338: I tensorflow/core/common_runtime/gpu/gpu_device.cc:1639] Found device 0 with properties: \n",
            "name: Tesla P100-PCIE-16GB major: 6 minor: 0 memoryClockRate(GHz): 1.3285\n",
            "pciBusID: 0000:00:04.0\n",
            "2020-11-21 13:51:10.876653: I tensorflow/stream_executor/platform/default/dso_loader.cc:44] Successfully opened dynamic library libcudart.so.10.1\n",
            "2020-11-21 13:51:11.087541: I tensorflow/stream_executor/platform/default/dso_loader.cc:44] Successfully opened dynamic library libcublas.so.10\n",
            "2020-11-21 13:51:11.219388: I tensorflow/stream_executor/platform/default/dso_loader.cc:44] Successfully opened dynamic library libcufft.so.10\n",
            "2020-11-21 13:51:11.253588: I tensorflow/stream_executor/platform/default/dso_loader.cc:44] Successfully opened dynamic library libcurand.so.10\n",
            "2020-11-21 13:51:11.509420: I tensorflow/stream_executor/platform/default/dso_loader.cc:44] Successfully opened dynamic library libcusolver.so.10\n",
            "2020-11-21 13:51:11.530027: I tensorflow/stream_executor/platform/default/dso_loader.cc:44] Successfully opened dynamic library libcusparse.so.10\n",
            "2020-11-21 13:51:12.033917: I tensorflow/stream_executor/platform/default/dso_loader.cc:44] Successfully opened dynamic library libcudnn.so.7\n",
            "2020-11-21 13:51:12.034135: I tensorflow/stream_executor/cuda/cuda_gpu_executor.cc:983] successful NUMA node read from SysFS had negative value (-1), but there must be at least one NUMA node, so returning NUMA node zero\n",
            "2020-11-21 13:51:12.034736: I tensorflow/stream_executor/cuda/cuda_gpu_executor.cc:983] successful NUMA node read from SysFS had negative value (-1), but there must be at least one NUMA node, so returning NUMA node zero\n",
            "2020-11-21 13:51:12.035244: I tensorflow/core/common_runtime/gpu/gpu_device.cc:1767] Adding visible gpu devices: 0\n",
            "2020-11-21 13:51:12.038549: I tensorflow/stream_executor/platform/default/dso_loader.cc:44] Successfully opened dynamic library libcudart.so.10.1\n",
            "2020-11-21 13:51:12.039779: I tensorflow/core/common_runtime/gpu/gpu_device.cc:1180] Device interconnect StreamExecutor with strength 1 edge matrix:\n",
            "2020-11-21 13:51:12.039806: I tensorflow/core/common_runtime/gpu/gpu_device.cc:1186]      0 \n",
            "2020-11-21 13:51:12.039816: I tensorflow/core/common_runtime/gpu/gpu_device.cc:1199] 0:   N \n",
            "2020-11-21 13:51:12.040682: I tensorflow/stream_executor/cuda/cuda_gpu_executor.cc:983] successful NUMA node read from SysFS had negative value (-1), but there must be at least one NUMA node, so returning NUMA node zero\n",
            "2020-11-21 13:51:12.041276: I tensorflow/stream_executor/cuda/cuda_gpu_executor.cc:983] successful NUMA node read from SysFS had negative value (-1), but there must be at least one NUMA node, so returning NUMA node zero\n",
            "2020-11-21 13:51:12.041797: I tensorflow/core/common_runtime/gpu/gpu_device.cc:1325] Created TensorFlow device (/job:localhost/replica:0/task:0/device:GPU:0 with 15216 MB memory) -> physical GPU (device: 0, name: Tesla P100-PCIE-16GB, pci bus id: 0000:00:04.0, compute capability: 6.0)\n",
            "WARNING:tensorflow:From gpt2-generate.py:93: The name tf.placeholder is deprecated. Please use tf.compat.v1.placeholder instead.\n",
            "\n",
            "WARNING:tensorflow:From /content/gpt2-japanese/model.py:148: The name tf.variable_scope is deprecated. Please use tf.compat.v1.variable_scope instead.\n",
            "\n",
            "WARNING:tensorflow:From /content/gpt2-japanese/model.py:152: The name tf.get_variable is deprecated. Please use tf.compat.v1.get_variable instead.\n",
            "\n",
            "WARNING:tensorflow:From /content/gpt2-japanese/model.py:36: The name tf.rsqrt is deprecated. Please use tf.math.rsqrt instead.\n",
            "\n",
            "WARNING:tensorflow:From /content/gpt2-japanese/model.py:166: The name tf.add_to_collection is deprecated. Please use tf.compat.v1.add_to_collection instead.\n",
            "\n",
            "WARNING:tensorflow:From /content/gpt2-japanese/sampling.py:65: to_float (from tensorflow.python.ops.math_ops) is deprecated and will be removed in a future version.\n",
            "Instructions for updating:\n",
            "Use `tf.cast` instead.\n",
            "WARNING:tensorflow:From /content/gpt2-japanese/sampling.py:16: where (from tensorflow.python.ops.array_ops) is deprecated and will be removed in a future version.\n",
            "Instructions for updating:\n",
            "Use tf.where in 2.0, which has the same broadcast rule as np.where\n",
            "WARNING:tensorflow:From /content/gpt2-japanese/sampling.py:70: multinomial (from tensorflow.python.ops.random_ops) is deprecated and will be removed in a future version.\n",
            "Instructions for updating:\n",
            "Use `tf.random.categorical` instead.\n",
            "WARNING:tensorflow:From gpt2-generate.py:101: The name tf.train.Saver is deprecated. Please use tf.compat.v1.train.Saver instead.\n",
            "\n",
            "2020-11-21 13:51:29.328862: I tensorflow/stream_executor/platform/default/dso_loader.cc:44] Successfully opened dynamic library libcublas.so.10\n",
            "\n",
            "この物語はこの世界に生まれた猫である。\n",
            "\n",
            "========\n",
            "その言葉は、俺に言わせれば間違っている。彼女には猫以外の生き物の知り方、教えるべき事が無数にあるだろう。しかし、俺は彼女ほどに賢くない。猫である以上、彼女なりのルールの中で育てられているようなものだろう。故に、猫以外の生き物の話をしよう。彼女は一匹だけで過ごす事を望むかもしれない。彼女が愛そうとも、俺には彼女に付いて行く義務がある。俺はそう思う。その日が来るまで彼女と彼女の家族の温もりをずっと感じていようと思う。それが俺の願いでがあるならば、俺は…、俺の思いは彼女に託そう。\n",
            "彼女の家から戻った翌日、俺は家の外に出ていた。外は昨日と変わらずに晴天である。ここのところ、日が暮れるのが早くなってきたからなのか、外は少し薄暗く感じる。窓を開ければ日光が照り付けるだろう。それが彼女の家に居る俺の気持ちを暗くする。\n",
            "「よしっ。これなら外の天気は分からないだろ」\n",
            "俺は早速、彼女の家に行こうと決心した。しかし、彼女の家には窓がないはずなのだが。\n",
            "俺はそんな事を考えながら、近くの林で彼女の家に行こうとしたのだが、彼女の家の前に来た途端、俺は思わず後ずさりしてしまった。何故なら、彼女の言うように、林に設置\n",
            "========\n",
            "\n",
            "いつの話か、俺が小学三年生の頃の話であることを話そう。\n",
            "俺はいわゆる不良少年に位置づけられていた（と思われる）。学校を転校させられ、転校初日は授業のない休日。\n",
            "――まあ、そんな訳だから、毎日、学校には行かずに何かしら工作をしたり、ゲームをしたりと、なんやかんやなことはしていた。\n",
            "そんな訳であり、\n",
            "……いや、ちょっと待て。そんな訳でもねえぞ？\n",
            "いやいやいや。ちょっと待ってくれ。いや、ちょっと待ってくれ。\n",
            "ってか、そんだけの話じゃない筈じゃない？ 俺は中学二年生の頃の話だけれども。\n",
            "いや、ちょっと待ってくれ。そんで結局何なんだって話だよ！？\n",
            "いや、ちょっと待ってくれ。\n",
            "ってか、こんな風に人の都合を利用するのが俺って何か関係ある？ 何か、何かを誤魔化さなきゃいけないような何か……。\n",
            "……ああ、もう分かんねえ！\n",
            "いやいや、分からせるために言ったんだ。\n",
            "いやいやいやいやいやいやいやいやいや、分かんねえよ！？\n",
            "――だって本当にあの子が言ってた、あの子が言ったんじゃないんだもん！\n",
            "……あっ、そんなことはいいや。\n",
            "――あれ、私なんか忘れてる。思い出しちゃった……。ちょっと、忘れ物をしたんだった……。\n",
            "========\n",
            "\n",
            "「あのー、もうそろそろ家の手伝いをしたらいいんじゃないかなと思っていたところで」\n",
            "「お手伝いならよろあそぶかなあ？」\n",
            "「うん、大丈夫です。それで、俺はこれからどんなことするのかな」\n",
            "「それなら、お手伝いさんを雇ってもらって、手伝いの報酬としてその猫を貰ってもいいですよ」\n",
            "……それ俺だ。\n",
            "「それならちょうどいいね。お願いするよ、お爺ちゃん。……あ、なんか凄く綺麗な人だね」\n",
            "俺はそういって猫を懐に隠した。\n",
            "\n",
            "========\n",
            "飼い主の\"ひな\"は、私を\"ひな\"とだけ呼ぶ。\"ひな\"だけを、私は好きだと思っている。\n",
            "お前が俺を\"愛している\"、\"お前を愛してる\"と言うことがとても嬉しい。だから、そのままでいて欲しい。\n",
            "\"ひな\"は\"私は、\"私\"になりたいという望みを持っている、\"それ\"とは違う、\"そんな愛\"を望んでいるのだ。その愛には価値と、そして愛の形を選ぶ権利がある。\"お前を愛すること\"を選択したということだ。\n",
            "\"お前の望みは何か\"を\"自分の望みはなんか\"を\"決める前に\"決めなくてはいけない、ということを知っている。\n",
            "私は\"お前を愛している\"という望みを持っている。\"お前が\"自分を\"お前を愛している\"と言ってくれるのを望みにしている。\"お前を愛している\"という望みを持っている。\n",
            "\"自分を愛している\"ということを分かっている。\"自分が\"お前に\"自分が\"\"お前を\"愛している\"ということを\"決める\"ということを\"決めた\"ことを\"決める\"ということを\"決める\"ということを\"決める\"に\"決めた\"に\"決めなくてはいけない\"ことを決めた\"に\"決めなくてはいけないということを決めなくてはいけないということを決めている、\"自分が決\n"
          ],
          "name": "stdout"
        }
      ]
    },
    {
      "cell_type": "code",
      "metadata": {
        "id": "sD0vV9V0Jrn0"
      },
      "source": [
        ""
      ],
      "execution_count": 8,
      "outputs": []
    }
  ]
}