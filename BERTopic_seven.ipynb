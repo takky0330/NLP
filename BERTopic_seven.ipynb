{
  "nbformat": 4,
  "nbformat_minor": 0,
  "metadata": {
    "colab": {
      "name": "BERTopic_seven",
      "provenance": [],
      "collapsed_sections": [],
      "authorship_tag": "ABX9TyMmiq9x9SENjhcT8+nmhaAc",
      "include_colab_link": true
    },
    "kernelspec": {
      "name": "python3",
      "display_name": "Python 3"
    },
    "language_info": {
      "name": "python"
    }
  },
  "cells": [
    {
      "cell_type": "markdown",
      "metadata": {
        "id": "view-in-github",
        "colab_type": "text"
      },
      "source": [
        "<a href=\"https://colab.research.google.com/github/takky0330/NLP/blob/master/BERTopic_seven.ipynb\" target=\"_parent\"><img src=\"https://colab.research.google.com/assets/colab-badge.svg\" alt=\"Open In Colab\"/></a>"
      ]
    },
    {
      "cell_type": "code",
      "execution_count": null,
      "metadata": {
        "id": "5Ym6B3Z7pkmr"
      },
      "outputs": [],
      "source": [
        "!pip install bertopic"
      ]
    },
    {
      "cell_type": "code",
      "source": [
        "from google.colab import drive\n",
        "drive.mount('/content/drive')\n",
        "!cp /content/drive/MyDrive/BERTopic/00_FAリスト.csv ./00_FAリスト.csv"
      ],
      "metadata": {
        "id": "WVCSRYZmpqqy"
      },
      "execution_count": null,
      "outputs": []
    },
    {
      "cell_type": "code",
      "source": [
        "import pandas as pd\n",
        "docs_list = []\n",
        "csv_pd = pd.read_csv(filepath_or_buffer=\"./00_FAリスト.csv\", encoding=\"cp932\", sep=\",\")\n",
        "lists_pd = csv_pd[csv_pd.columns[1]]\n",
        "lists = list(lists_pd.values)\n",
        "for lst in lists:\n",
        "    docs_list = docs_list + lst.rstrip('。').split(\"。\")\n",
        "    \n",
        "\n",
        "docs_pd = pd.DataFrame(docs_list, columns=[csv_pd.columns[1]])\n",
        "docs = docs_pd[csv_pd.columns[1]].tolist()"
      ],
      "metadata": {
        "id": "-e2dHiMkprRq"
      },
      "execution_count": null,
      "outputs": []
    },
    {
      "cell_type": "code",
      "source": [
        "from sentence_transformers import SentenceTransformer\n",
        "from bertopic import BERTopic\n",
        "from sklearn.cluster import KMeans\n",
        "cluster_model = KMeans(n_clusters=20)\n",
        "#from sklearn.mixture import GaussianMixture\n",
        "#cluster_model = GaussianMixture(n_components=3)\n",
        "\n",
        "sentence_model = SentenceTransformer(\"sonoisa/t5-base-japanese\")\n",
        "#topic_model = BERTopic(embedding_model=sentence_model, calculate_probabilities=True, verbose=True, nr_topics=\"20\")\n",
        "topic_model = BERTopic(embedding_model=sentence_model, calculate_probabilities=True, verbose=True)\n",
        "#topic_model = BERTopic(embedding_model=sentence_model, hdbscan_model=cluster_model, calculate_probabilities=True, verbose=True)\n",
        "topics, probs = topic_model.fit_transform(docs)"
      ],
      "metadata": {
        "id": "wyQ2CiWupxX_"
      },
      "execution_count": null,
      "outputs": []
    },
    {
      "cell_type": "code",
      "source": [
        "topic_model.get_topic_info()"
      ],
      "metadata": {
        "id": "kh0K9t-1qaIg"
      },
      "execution_count": null,
      "outputs": []
    },
    {
      "cell_type": "code",
      "source": [
        "topic_model.get_topic(0)"
      ],
      "metadata": {
        "id": "Dqmx1HEDqczS"
      },
      "execution_count": null,
      "outputs": []
    },
    {
      "cell_type": "code",
      "source": [
        "topics_pd = pd.DataFrame(topics, index=docs_pd.index, columns=['topics'])\n",
        "topics_pd = pd.concat([topics_pd, docs_pd], axis=1)\n",
        "topics_pd"
      ],
      "metadata": {
        "id": "cbFyX7cu606v"
      },
      "execution_count": null,
      "outputs": []
    },
    {
      "cell_type": "code",
      "source": [
        "topics_pd[topics_pd['topics'] == 0]"
      ],
      "metadata": {
        "id": "GGK8gAuRJ77-"
      },
      "execution_count": null,
      "outputs": []
    },
    {
      "cell_type": "code",
      "source": [
        "topic_model.visualize_topics()"
      ],
      "metadata": {
        "id": "lnUnUmiHqfXK"
      },
      "execution_count": null,
      "outputs": []
    },
    {
      "cell_type": "code",
      "source": [
        "topic_model.visualize_distribution(probs[200], min_probability=0.0)"
      ],
      "metadata": {
        "id": "OGExZABxqh5U"
      },
      "execution_count": null,
      "outputs": []
    },
    {
      "cell_type": "code",
      "source": [
        "topic_model.visualize_hierarchy()"
      ],
      "metadata": {
        "id": "HO1wBfihqkEO"
      },
      "execution_count": null,
      "outputs": []
    },
    {
      "cell_type": "code",
      "source": [
        "topic_model.visualize_barchart(top_n_topics=20)"
      ],
      "metadata": {
        "id": "kJErFnhwqmdN"
      },
      "execution_count": null,
      "outputs": []
    },
    {
      "cell_type": "code",
      "source": [
        "topics_pd.to_csv('./BERTopic_sonoisa.csv', sep=',', encoding='cp932')\n",
        "!cp ./BERTopic_sonoisa.csv /content/drive/MyDrive/BERTopic/"
      ],
      "metadata": {
        "id": "uol1KogJ4aKa"
      },
      "execution_count": null,
      "outputs": []
    }
  ]
}